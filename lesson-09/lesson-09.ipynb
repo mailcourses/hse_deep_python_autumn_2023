{
 "cells": [
  {
   "cell_type": "code",
   "execution_count": 1,
   "id": "72c6c2bf",
   "metadata": {},
   "outputs": [],
   "source": [
    "# O(1) \n",
    "# O(n)\n",
    "def magic(lst: list):\n",
    "    size = len(list) # O(1) -- по памяти по времени\n",
    "    res = 0 # O(1) -- по памяти и по времени\n",
    "    for el in lst: # O(n) -- по времени\n",
    "        res += el\n",
    "    # доп цикл (2)\n",
    "    for el in lst: # O(n) -- по времени\n",
    "        res += el\n",
    "    \n",
    "    return res\n",
    "\n",
    "# Время\n",
    "# O(1) + O(1) + O(n) == O(2 + n) == O(n + c) == O(n) \n",
    "# O(n) + O(n) == O(2n) == O(cn) <-- с дополнительным вторым циклом (2)\n",
    "# O(2) == O(c) == O(1)"
   ]
  },
  {
   "cell_type": "code",
   "execution_count": 16,
   "id": "7ac6d7b4",
   "metadata": {},
   "outputs": [
    {
     "name": "stdout",
     "output_type": "stream",
     "text": [
      "[2, 5]\n",
      "[2, 5]\n",
      "[2, 5]\n"
     ]
    }
   ],
   "source": [
    "import bisect\n",
    "\n",
    "# O(n + k) == O(n + m)\n",
    "def merge_naive(lst1, lst2):\n",
    "    res = []\n",
    "    for el1 in lst1: # O(n)\n",
    "        for el2 in lst2: # O(m)\n",
    "            if el1 == el2:\n",
    "                res.append(el1)\n",
    "                break\n",
    "    # Цикл (3)\n",
    "    res_sum = 0\n",
    "    for el in lst1:\n",
    "        res_sum += el\n",
    "    return res\n",
    "\n",
    "def merge_bisect(lst1, lst2):\n",
    "    res = []\n",
    "    for el1 in lst1: # O(n)\n",
    "        idx = bisect.bisect_left(lst2, el1) # O(log m)\n",
    "        if idx != len(lst2) and lst2[idx] == el1:\n",
    "            res.append(el1)\n",
    "    # Цикл (3)\n",
    "    res_sum = 0\n",
    "    for el in lst1:\n",
    "        res_sum += el\n",
    "    return res\n",
    "\n",
    "def merge_optimize(lst1, lst2):\n",
    "    i = j = 0\n",
    "    res = []\n",
    "    n = len(lst1)\n",
    "    m = len(lst2)\n",
    "    while i < n and j < m:\n",
    "        if lst1[i] == lst2[j]:\n",
    "            res.append(lst1[i])\n",
    "            i += 1\n",
    "            j += 1\n",
    "            continue\n",
    "        if lst1[i] < lst2[j]:\n",
    "            i += 1\n",
    "        if lst1[i] > lst2[j]:\n",
    "            j += 1\n",
    "    return res\n",
    "        \n",
    "# n - длина lst1, m - длина lst2\n",
    "# O(n * m) == O(n^2)\n",
    "# С учётом цикла (3)\n",
    "# O(n * m + log(n)) -> O(n * m)\n",
    "print(merge_naive([1,2,5], [0,2,3,4,5]))\n",
    "# С заменой цикла на бинарный поиск \n",
    "# O(n * log(m)) -> O(m * log(n))\n",
    "print(merge_bisect([1,2,5], [0,2,3,4,5]))\n",
    "# O(n + m)\n",
    "print(merge_optimize([1,2,5], [0,2,3,4,5]))"
   ]
  },
  {
   "cell_type": "code",
   "execution_count": 6,
   "id": "afe8f285",
   "metadata": {},
   "outputs": [
    {
     "name": "stdout",
     "output_type": "stream",
     "text": [
      "3\n",
      "3\n",
      "3\n",
      "5\n"
     ]
    }
   ],
   "source": [
    "import bisect\n",
    "\n",
    "#      0 1 2 3 4 5\n",
    "lst = [1,2,3,5,5,6]\n",
    "# bisect == bisect_right\n",
    "# bisect_left\n",
    "print(bisect.bisect_left(lst, 4))\n",
    "print(bisect.bisect_right(lst, 4))\n",
    "print(bisect.bisect_left(lst, 5))\n",
    "print(bisect.bisect_right(lst, 5))"
   ]
  },
  {
   "cell_type": "code",
   "execution_count": 17,
   "id": "5e296237",
   "metadata": {},
   "outputs": [],
   "source": [
    "lst = [1,2,4,5,6]\n",
    "bisect.insort(lst, 3) # O(n)"
   ]
  },
  {
   "cell_type": "code",
   "execution_count": 18,
   "id": "716e573e",
   "metadata": {},
   "outputs": [
    {
     "data": {
      "text/plain": [
       "[1, 2, 3, 4, 5, 6]"
      ]
     },
     "execution_count": 18,
     "metadata": {},
     "output_type": "execute_result"
    }
   ],
   "source": [
    "lst"
   ]
  },
  {
   "cell_type": "code",
   "execution_count": 23,
   "id": "d447ce88",
   "metadata": {},
   "outputs": [],
   "source": [
    "class Cat:\n",
    "    def __init__(self, age):\n",
    "        self.age = age\n",
    "    def __repr__(self):\n",
    "        return f\"Cat({self.age})\""
   ]
  },
  {
   "cell_type": "code",
   "execution_count": 33,
   "id": "3941dce9",
   "metadata": {},
   "outputs": [],
   "source": [
    "lst = [Cat(age) for age in range(2, 11, 2)]"
   ]
  },
  {
   "cell_type": "code",
   "execution_count": 34,
   "id": "24bc7461",
   "metadata": {},
   "outputs": [
    {
     "data": {
      "text/plain": [
       "5"
      ]
     },
     "execution_count": 34,
     "metadata": {},
     "output_type": "execute_result"
    }
   ],
   "source": [
    "len(lst)"
   ]
  },
  {
   "cell_type": "code",
   "execution_count": 35,
   "id": "cbb11cd8",
   "metadata": {},
   "outputs": [
    {
     "data": {
      "text/plain": [
       "[Cat(2), Cat(4), Cat(6), Cat(8), Cat(10)]"
      ]
     },
     "execution_count": 35,
     "metadata": {},
     "output_type": "execute_result"
    }
   ],
   "source": [
    "lst"
   ]
  },
  {
   "cell_type": "code",
   "execution_count": 37,
   "id": "4fd9ca78",
   "metadata": {},
   "outputs": [
    {
     "ename": "TypeError",
     "evalue": "'key' is an invalid keyword argument for bisect_right()",
     "output_type": "error",
     "traceback": [
      "\u001b[0;31m---------------------------------------------------------------------------\u001b[0m",
      "\u001b[0;31mTypeError\u001b[0m                                 Traceback (most recent call last)",
      "Cell \u001b[0;32mIn [37], line 1\u001b[0m\n\u001b[0;32m----> 1\u001b[0m \u001b[38;5;28mprint\u001b[39m(\u001b[43mbisect\u001b[49m\u001b[38;5;241;43m.\u001b[39;49m\u001b[43mbisect\u001b[49m\u001b[43m(\u001b[49m\u001b[43mlst\u001b[49m\u001b[43m,\u001b[49m\u001b[43m \u001b[49m\u001b[43mCat\u001b[49m\u001b[43m(\u001b[49m\u001b[38;5;241;43m5\u001b[39;49m\u001b[43m)\u001b[49m\u001b[43m,\u001b[49m\u001b[43m \u001b[49m\u001b[43mkey\u001b[49m\u001b[38;5;241;43m=\u001b[39;49m\u001b[38;5;28;43;01mlambda\u001b[39;49;00m\u001b[43m \u001b[49m\u001b[43mcat\u001b[49m\u001b[43m:\u001b[49m\u001b[43m \u001b[49m\u001b[43mcat\u001b[49m\u001b[38;5;241;43m.\u001b[39;49m\u001b[43mage\u001b[49m\u001b[43m)\u001b[49m)\n",
      "\u001b[0;31mTypeError\u001b[0m: 'key' is an invalid keyword argument for bisect_right()"
     ]
    }
   ],
   "source": [
    "# Параметр key появился, начиная с Python 3.10.\n",
    "print(bisect.bisect(lst, Cat(5), key=lambda cat: cat.age))"
   ]
  },
  {
   "cell_type": "code",
   "execution_count": 45,
   "id": "4f7fe816",
   "metadata": {},
   "outputs": [],
   "source": [
    "# O(n^2)\n",
    "def insertion_sort(arr):\n",
    "    n = len(arr)\n",
    "    for i in range(1, n):\n",
    "        j = i - 1\n",
    "        while j >= 0 and arr[j] > arr[j+1]:\n",
    "            arr[j], arr[j+1] = arr[j+1], arr[j]\n",
    "            j -= 1"
   ]
  },
  {
   "cell_type": "code",
   "execution_count": 46,
   "id": "dc23a8b8",
   "metadata": {},
   "outputs": [],
   "source": [
    "import random\n",
    "\n",
    "lst = list(range(0, 10))\n",
    "random.shuffle(lst)"
   ]
  },
  {
   "cell_type": "code",
   "execution_count": 47,
   "id": "79974e86",
   "metadata": {},
   "outputs": [
    {
     "data": {
      "text/plain": [
       "[3, 1, 5, 9, 4, 0, 6, 8, 2, 7]"
      ]
     },
     "execution_count": 47,
     "metadata": {},
     "output_type": "execute_result"
    }
   ],
   "source": [
    "lst"
   ]
  },
  {
   "cell_type": "code",
   "execution_count": 48,
   "id": "2b024234",
   "metadata": {},
   "outputs": [],
   "source": [
    "insertion_sort(lst)"
   ]
  },
  {
   "cell_type": "code",
   "execution_count": 49,
   "id": "08ec03c8",
   "metadata": {},
   "outputs": [
    {
     "data": {
      "text/plain": [
       "[0, 1, 2, 3, 4, 5, 6, 7, 8, 9]"
      ]
     },
     "execution_count": 49,
     "metadata": {},
     "output_type": "execute_result"
    }
   ],
   "source": [
    "lst"
   ]
  },
  {
   "cell_type": "code",
   "execution_count": 82,
   "id": "faa7e66b",
   "metadata": {},
   "outputs": [],
   "source": [
    "def merge_list(arr, start, mid, end):\n",
    "    left = arr[start:mid]\n",
    "    right = arr[mid:end]\n",
    "    k = start\n",
    "    i = j = 0\n",
    "    while start + i < mid and j + mid < end:\n",
    "        if left[i] <= right[j]:\n",
    "            arr[k] = left[i]\n",
    "            i += 1\n",
    "        else:\n",
    "            arr[k] = right[j]\n",
    "            j += 1\n",
    "        k += 1\n",
    "    if start + i < mid:\n",
    "        while k < end:\n",
    "            arr[k] = left[i]\n",
    "            i += 1\n",
    "            k += 1\n",
    "    else:\n",
    "        while k < end:\n",
    "            arr[k] = right[j]\n",
    "            j += 1\n",
    "            k += 1\n",
    "\n",
    "def merge_sort(arr):\n",
    "    def merge_helper(arr, start, end):\n",
    "        if end - start <= 1:\n",
    "            return\n",
    "        mid = (start + end) // 2\n",
    "        merge_helper(arr, start, mid)\n",
    "        merge_helper(arr, mid , end)\n",
    "        merge_list(arr, start, mid, end)\n",
    "    merge_helper(arr, 0, len(arr))"
   ]
  },
  {
   "cell_type": "code",
   "execution_count": 83,
   "id": "1579d93e",
   "metadata": {},
   "outputs": [],
   "source": [
    "lst = list(range(0, 10))\n",
    "random.shuffle(lst)"
   ]
  },
  {
   "cell_type": "code",
   "execution_count": 84,
   "id": "b5630355",
   "metadata": {},
   "outputs": [
    {
     "data": {
      "text/plain": [
       "[7, 6, 4, 2, 5, 0, 9, 1, 3, 8]"
      ]
     },
     "execution_count": 84,
     "metadata": {},
     "output_type": "execute_result"
    }
   ],
   "source": [
    "lst"
   ]
  },
  {
   "cell_type": "code",
   "execution_count": 85,
   "id": "8f7bde87",
   "metadata": {},
   "outputs": [],
   "source": [
    "merge_sort(lst)"
   ]
  },
  {
   "cell_type": "code",
   "execution_count": 86,
   "id": "33f3d0b7",
   "metadata": {},
   "outputs": [
    {
     "data": {
      "text/plain": [
       "[0, 1, 2, 3, 4, 5, 6, 7, 8, 9]"
      ]
     },
     "execution_count": 86,
     "metadata": {},
     "output_type": "execute_result"
    }
   ],
   "source": [
    "lst"
   ]
  },
  {
   "cell_type": "code",
   "execution_count": 131,
   "id": "76d461e9",
   "metadata": {},
   "outputs": [],
   "source": [
    "# O(n + k)\n",
    "def counting_sort(arr):\n",
    "    def counting_sort_helper(arr, max_val):\n",
    "        print(f\"{max_val=}\")\n",
    "        tmp = [0] * (max_val+1)\n",
    "        for i in arr:\n",
    "            tmp[i] += 1\n",
    "        print(tmp)\n",
    "        for i in range(1, len(tmp)):\n",
    "            tmp[i] += tmp[i-1]\n",
    "        print(tmp)\n",
    "        res = [0]*len(arr)\n",
    "        print(f\"{res=}\", len(arr))\n",
    "        for i in range(len(arr)-1, -1, -1):\n",
    "            elem = arr[i]\n",
    "            new_idx = tmp[elem] - 1\n",
    "            print(f\"#{i} = {elem}, {new_idx=}\")\n",
    "            res[new_idx] = elem\n",
    "            tmp[elem] -= 1\n",
    "        return res\n",
    "        \n",
    "    max_val = max(arr)\n",
    "    return counting_sort_helper(arr, max_val)"
   ]
  },
  {
   "cell_type": "code",
   "execution_count": 132,
   "id": "6a464948",
   "metadata": {},
   "outputs": [],
   "source": [
    "lst = [ random.randint(0, 20) for _ in range(0, 15)]\n",
    "random.shuffle(lst)"
   ]
  },
  {
   "cell_type": "code",
   "execution_count": 133,
   "id": "0ddb45ad",
   "metadata": {},
   "outputs": [],
   "source": [
    "lst.append(20)"
   ]
  },
  {
   "cell_type": "code",
   "execution_count": 134,
   "id": "e7b54c4c",
   "metadata": {},
   "outputs": [
    {
     "data": {
      "text/plain": [
       "[0, 14, 9, 17, 13, 18, 2, 7, 7, 5, 19, 12, 18, 17, 3, 20]"
      ]
     },
     "execution_count": 134,
     "metadata": {},
     "output_type": "execute_result"
    }
   ],
   "source": [
    "lst"
   ]
  },
  {
   "cell_type": "code",
   "execution_count": 135,
   "id": "469195f6",
   "metadata": {},
   "outputs": [
    {
     "name": "stdout",
     "output_type": "stream",
     "text": [
      "max_val=20\n",
      "[1, 0, 1, 1, 0, 1, 0, 2, 0, 1, 0, 0, 1, 1, 1, 0, 0, 2, 2, 1, 1]\n",
      "[1, 1, 2, 3, 3, 4, 4, 6, 6, 7, 7, 7, 8, 9, 10, 10, 10, 12, 14, 15, 16]\n",
      "res=[0, 0, 0, 0, 0, 0, 0, 0, 0, 0, 0, 0, 0, 0, 0, 0] 16\n",
      "#15 = 20, new_idx=15\n",
      "#14 = 3, new_idx=2\n",
      "#13 = 17, new_idx=11\n",
      "#12 = 18, new_idx=13\n",
      "#11 = 12, new_idx=7\n",
      "#10 = 19, new_idx=14\n",
      "#9 = 5, new_idx=3\n",
      "#8 = 7, new_idx=5\n",
      "#7 = 7, new_idx=4\n",
      "#6 = 2, new_idx=1\n",
      "#5 = 18, new_idx=12\n",
      "#4 = 13, new_idx=8\n",
      "#3 = 17, new_idx=10\n",
      "#2 = 9, new_idx=6\n",
      "#1 = 14, new_idx=9\n",
      "#0 = 0, new_idx=0\n"
     ]
    }
   ],
   "source": [
    "new_lst = counting_sort(lst)"
   ]
  },
  {
   "cell_type": "code",
   "execution_count": 136,
   "id": "eff7bc00",
   "metadata": {},
   "outputs": [
    {
     "data": {
      "text/plain": [
       "[0, 2, 3, 5, 7, 7, 9, 12, 13, 14, 17, 17, 18, 18, 19, 20]"
      ]
     },
     "execution_count": 136,
     "metadata": {},
     "output_type": "execute_result"
    }
   ],
   "source": [
    "new_lst"
   ]
  },
  {
   "cell_type": "code",
   "execution_count": null,
   "id": "79b10b09",
   "metadata": {},
   "outputs": [],
   "source": []
  }
 ],
 "metadata": {
  "kernelspec": {
   "display_name": "Python 3 (ipykernel)",
   "language": "python",
   "name": "python3"
  },
  "language_info": {
   "codemirror_mode": {
    "name": "ipython",
    "version": 3
   },
   "file_extension": ".py",
   "mimetype": "text/x-python",
   "name": "python",
   "nbconvert_exporter": "python",
   "pygments_lexer": "ipython3",
   "version": "3.9.17"
  }
 },
 "nbformat": 4,
 "nbformat_minor": 5
}
