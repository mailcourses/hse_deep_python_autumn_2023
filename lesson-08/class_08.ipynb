{
 "cells": [
  {
   "cell_type": "code",
   "execution_count": 8,
   "id": "9aade45c",
   "metadata": {},
   "outputs": [],
   "source": [
    "import asyncio\n",
    "import time"
   ]
  },
  {
   "cell_type": "code",
   "execution_count": 9,
   "id": "a586a0d3",
   "metadata": {},
   "outputs": [
    {
     "name": "stdout",
     "output_type": "stream",
     "text": [
      "3.0013139247894287\n"
     ]
    }
   ],
   "source": [
    "t1 = time.time()\n",
    "\n",
    "await asyncio.sleep(3)\n",
    "\n",
    "t2 = time.time()\n",
    "print(t2 - t1)"
   ]
  },
  {
   "cell_type": "code",
   "execution_count": null,
   "id": "acd181a8",
   "metadata": {},
   "outputs": [],
   "source": []
  },
  {
   "cell_type": "code",
   "execution_count": 10,
   "id": "2e9475cf",
   "metadata": {},
   "outputs": [],
   "source": [
    "async def say_after(delay, what):\n",
    "    await asyncio.sleep(delay)\n",
    "    print(what)\n",
    "\n",
    "\n",
    "async def main():\n",
    "    print(f\"started at {time.strftime('%X')}\")\n",
    "    await say_after(1, 'hello')\n",
    "    await say_after(2, 'world')\n",
    "    print(f\"finished at {time.strftime('%X')}\")"
   ]
  },
  {
   "cell_type": "code",
   "execution_count": 11,
   "id": "300feb47",
   "metadata": {},
   "outputs": [],
   "source": [
    "say = say_after(2, \"qwerty\")"
   ]
  },
  {
   "cell_type": "code",
   "execution_count": 12,
   "id": "34b026e0",
   "metadata": {},
   "outputs": [
    {
     "data": {
      "text/plain": [
       "<coroutine object say_after at 0x1047a91c0>"
      ]
     },
     "execution_count": 12,
     "metadata": {},
     "output_type": "execute_result"
    }
   ],
   "source": [
    "say"
   ]
  },
  {
   "cell_type": "code",
   "execution_count": 13,
   "id": "cf31807d",
   "metadata": {},
   "outputs": [
    {
     "name": "stdout",
     "output_type": "stream",
     "text": [
      "qwerty\n",
      "2.0010831356048584\n"
     ]
    }
   ],
   "source": [
    "t1 = time.time()\n",
    "\n",
    "await say\n",
    "\n",
    "t2 = time.time()\n",
    "print(t2 - t1)"
   ]
  },
  {
   "cell_type": "code",
   "execution_count": 14,
   "id": "d2c144ee",
   "metadata": {},
   "outputs": [
    {
     "name": "stdout",
     "output_type": "stream",
     "text": [
      "started at 19:37:02\n",
      "hello\n",
      "world\n",
      "finished at 19:37:05\n",
      "3.0024352073669434\n"
     ]
    }
   ],
   "source": [
    "t1 = time.time()\n",
    "\n",
    "await main()\n",
    "\n",
    "t2 = time.time()\n",
    "print(t2 - t1)"
   ]
  },
  {
   "cell_type": "code",
   "execution_count": 15,
   "id": "c0ccec06",
   "metadata": {},
   "outputs": [
    {
     "name": "stdout",
     "output_type": "stream",
     "text": [
      "started at 19:39:39\n",
      "world\n",
      "hello\n",
      "finished at 19:39:42\n",
      "3.001372814178467\n"
     ]
    }
   ],
   "source": [
    "async def say_after(delay, what):\n",
    "    await asyncio.sleep(delay)\n",
    "    print(what)\n",
    "\n",
    "\n",
    "async def main():\n",
    "    print(f\"started at {time.strftime('%X')}\")\n",
    "    say = say_after(1, 'hello')\n",
    "    \n",
    "    await say_after(2, 'world')\n",
    "    await say\n",
    "\n",
    "    print(f\"finished at {time.strftime('%X')}\")\n",
    "\n",
    "\n",
    "t1 = time.time()\n",
    "\n",
    "await main()\n",
    "\n",
    "t2 = time.time()\n",
    "print(t2 - t1)"
   ]
  },
  {
   "cell_type": "code",
   "execution_count": 18,
   "id": "8329e0c5",
   "metadata": {},
   "outputs": [
    {
     "name": "stdout",
     "output_type": "stream",
     "text": [
      "started at 20:09:07\n",
      "what='hello', i=0\n",
      "what='hello', i=1\n",
      "what='hello' finished\n",
      "what='world', i=0\n",
      "what='world', i=1\n",
      "what='world', i=2\n",
      "what='world' finished\n",
      "finished at 20:09:12\n",
      "5.006011962890625\n"
     ]
    }
   ],
   "source": [
    "async def say_after(delay, what):\n",
    "    for i in range(delay):\n",
    "        print(f\"{what=}, {i=}\")\n",
    "        await asyncio.sleep(1)\n",
    "\n",
    "    print(f\"{what=} finished\")\n",
    "\n",
    "\n",
    "async def main():\n",
    "    print(f\"started at {time.strftime('%X')}\")\n",
    "    \n",
    "    await say_after(2, 'hello')\n",
    "    await say_after(3, 'world')\n",
    "\n",
    "    print(f\"finished at {time.strftime('%X')}\")\n",
    "\n",
    "\n",
    "t1 = time.time()\n",
    "\n",
    "await main()\n",
    "\n",
    "t2 = time.time()\n",
    "print(t2 - t1)"
   ]
  },
  {
   "cell_type": "code",
   "execution_count": 19,
   "id": "e61f7ccc",
   "metadata": {},
   "outputs": [
    {
     "name": "stdout",
     "output_type": "stream",
     "text": [
      "started at 20:09:29\n",
      "what='world', i=0\n",
      "what='hello', i=0\n",
      "what='world', i=1\n",
      "what='hello', i=1\n",
      "what='world', i=2\n",
      "what='hello' finished\n",
      "what='world' finished\n",
      "finished at 20:09:32\n",
      "3.0020408630371094\n"
     ]
    }
   ],
   "source": [
    "async def say_after(delay, what):\n",
    "    for i in range(delay):\n",
    "        print(f\"{what=}, {i=}\")\n",
    "        await asyncio.sleep(1)\n",
    "\n",
    "    print(f\"{what=} finished\")\n",
    "\n",
    "\n",
    "async def main():\n",
    "    print(f\"started at {time.strftime('%X')}\")\n",
    "    say = asyncio.create_task(say_after(2, 'hello'))\n",
    "    \n",
    "    await say_after(3, 'world')\n",
    "    await say\n",
    "\n",
    "    print(f\"finished at {time.strftime('%X')}\")\n",
    "\n",
    "\n",
    "t1 = time.time()\n",
    "\n",
    "await main()\n",
    "\n",
    "t2 = time.time()\n",
    "print(t2 - t1)"
   ]
  },
  {
   "cell_type": "code",
   "execution_count": 21,
   "id": "65ab081e",
   "metadata": {},
   "outputs": [
    {
     "name": "stdout",
     "output_type": "stream",
     "text": [
      "started at 20:12:42\n",
      "what='world', i=0\n",
      "what='world', i=1\n",
      "what='world', i=2\n",
      "what='world' finished\n",
      "what='hello', i=0\n",
      "what='hello', i=1\n",
      "what='hello' finished\n",
      "finished at 20:12:47\n",
      "5.016441106796265\n"
     ]
    }
   ],
   "source": [
    "async def say_after(delay, what):\n",
    "    for i in range(delay):\n",
    "        print(f\"{what=}, {i=}\")\n",
    "        #await asyncio.sleep(1)\n",
    "\n",
    "        #time.sleep(100) -> Thread\n",
    "        #await future(Thread())\n",
    "        \n",
    "        # for y in range(100):\n",
    "        #    time.sleep(0.1)\n",
    "        #    await asyncio.sleep(0)\n",
    "        \n",
    "        time.sleep(1)\n",
    "        \n",
    "    print(f\"{what=} finished\")\n",
    "\n",
    "\n",
    "async def main():\n",
    "    print(f\"started at {time.strftime('%X')}\")\n",
    "    say = asyncio.create_task(say_after(2, 'hello'))\n",
    "    \n",
    "    await say_after(3, 'world')\n",
    "    await say\n",
    "\n",
    "    print(f\"finished at {time.strftime('%X')}\")\n",
    "\n",
    "\n",
    "t1 = time.time()\n",
    "\n",
    "await main()\n",
    "\n",
    "t2 = time.time()\n",
    "print(t2 - t1)"
   ]
  },
  {
   "cell_type": "code",
   "execution_count": 22,
   "id": "89cc0819",
   "metadata": {},
   "outputs": [],
   "source": [
    "time.sleep(1)"
   ]
  },
  {
   "cell_type": "code",
   "execution_count": null,
   "id": "71dd8567",
   "metadata": {},
   "outputs": [],
   "source": [
    "#async with\n",
    "#async for ..."
   ]
  },
  {
   "cell_type": "code",
   "execution_count": 25,
   "id": "d1d62237",
   "metadata": {},
   "outputs": [
    {
     "name": "stdout",
     "output_type": "stream",
     "text": [
      "what='hello', i=0\n",
      "what='hello', i=1\n",
      "what='hello', i=2\n",
      "what='hello', i=3\n",
      "what='hello', i=4\n",
      "what='hello' finished\n"
     ]
    }
   ],
   "source": [
    "async def say_after(delay, what):\n",
    "    for i in range(delay):\n",
    "        yield f\"{what=}, {i=}\"\n",
    "        await asyncio.sleep(1)\n",
    "\n",
    "    print(f\"{what=} finished\")\n",
    "\n",
    "\n",
    "async for s in say_after(5, \"hello\"):\n",
    "    print(s)"
   ]
  },
  {
   "cell_type": "code",
   "execution_count": null,
   "id": "822be863",
   "metadata": {},
   "outputs": [],
   "source": []
  },
  {
   "cell_type": "code",
   "execution_count": null,
   "id": "0c4c2f25",
   "metadata": {},
   "outputs": [],
   "source": []
  },
  {
   "cell_type": "code",
   "execution_count": null,
   "id": "d6a1aaa5",
   "metadata": {},
   "outputs": [],
   "source": []
  },
  {
   "cell_type": "code",
   "execution_count": 26,
   "id": "efa0e706",
   "metadata": {},
   "outputs": [],
   "source": [
    "import aiohttp"
   ]
  },
  {
   "cell_type": "code",
   "execution_count": 33,
   "id": "808e1fc3",
   "metadata": {},
   "outputs": [
    {
     "name": "stdout",
     "output_type": "stream",
     "text": [
      "200\n",
      "0.5461270809173584\n"
     ]
    }
   ],
   "source": [
    "URL = \"https://docs.python.org/3/whatsnew/3.12.html\"\n",
    "\n",
    "\n",
    "async def fetch_url(url):\n",
    "    async with aiohttp.ClientSession() as session:\n",
    "        async with session.get(url) as resp:\n",
    "            print(resp.status)\n",
    "            data = await resp.text()\n",
    "\n",
    "\n",
    "t1 = time.time()\n",
    "await fetch_url(URL)\n",
    "\n",
    "t2 = time.time()\n",
    "print(t2 - t1)"
   ]
  },
  {
   "cell_type": "code",
   "execution_count": 32,
   "id": "1a4d4e88",
   "metadata": {},
   "outputs": [
    {
     "name": "stdout",
     "output_type": "stream",
     "text": [
      "200\n",
      "200\n",
      "200\n",
      "200\n",
      "200\n",
      "200\n",
      "200\n",
      "200\n",
      "200\n",
      "200\n",
      "200\n",
      "200\n",
      "200\n",
      "200\n",
      "200\n",
      "200\n",
      "200\n",
      "200\n",
      "200\n",
      "200\n",
      "4.816545009613037\n"
     ]
    }
   ],
   "source": [
    "URL = \"https://docs.python.org/3/whatsnew/3.12.html\"\n",
    "URLS = [URL] * 20\n",
    "\n",
    "\n",
    "async def fetch_url(url):\n",
    "    async with aiohttp.ClientSession() as session:\n",
    "        async with session.get(url) as resp:\n",
    "            print(resp.status)\n",
    "            data = await resp.text()\n",
    "\n",
    "\n",
    "async def fetch_batch(urls):\n",
    "    for url in urls:\n",
    "        await fetch_url(url)\n",
    "\n",
    "\n",
    "t1 = time.time()\n",
    "await fetch_batch(URLS)\n",
    "\n",
    "t2 = time.time()\n",
    "print(t2 - t1)"
   ]
  },
  {
   "cell_type": "code",
   "execution_count": 38,
   "id": "edd6d000",
   "metadata": {},
   "outputs": [
    {
     "name": "stdout",
     "output_type": "stream",
     "text": [
      "created batch\n",
      "200\n",
      "200\n",
      "200\n",
      "200\n",
      "200\n",
      "200\n",
      "200\n",
      "200\n",
      "200\n",
      "200\n",
      "200\n",
      "200\n",
      "200\n",
      "200\n",
      "200\n",
      "200\n",
      "200\n",
      "200\n",
      "200\n",
      "200\n",
      "0.3502228260040283\n"
     ]
    }
   ],
   "source": [
    "URL = \"https://docs.python.org/3/whatsnew/3.12.html\"\n",
    "URLS = [URL] * 20\n",
    "\n",
    "\n",
    "async def fetch_url(url):\n",
    "    async with aiohttp.ClientSession() as session:\n",
    "        async with session.get(url) as resp:\n",
    "            print(resp.status)\n",
    "            data = await resp.text()\n",
    "\n",
    "\n",
    "async def fetch_batch(urls):\n",
    "    tasks = []\n",
    "\n",
    "    for url in urls:\n",
    "        tasks.append(fetch_url(url))\n",
    "\n",
    "#     for task in tasks:\n",
    "#         await task\n",
    "\n",
    "    batch = asyncio.gather(*tasks)\n",
    "    print(\"created batch\")\n",
    "    await batch\n",
    "\n",
    "\n",
    "t1 = time.time()\n",
    "await fetch_batch(URLS)\n",
    "\n",
    "t2 = time.time()\n",
    "print(t2 - t1)"
   ]
  },
  {
   "cell_type": "code",
   "execution_count": 42,
   "id": "8f0446ce",
   "metadata": {},
   "outputs": [
    {
     "name": "stdout",
     "output_type": "stream",
     "text": [
      "created batch\n",
      "200\n",
      "200\n",
      "200\n",
      "200\n",
      "200\n",
      "200\n",
      "200\n",
      "200\n",
      "200\n",
      "200\n",
      "200\n",
      "200\n",
      "200\n",
      "200\n",
      "200\n",
      "200\n",
      "200\n",
      "200\n",
      "200\n",
      "200\n",
      "0.30506205558776855\n"
     ]
    }
   ],
   "source": [
    "URL = \"https://docs.python.org/3/whatsnew/3.12.html\"\n",
    "URLS = [URL] * 20\n",
    "\n",
    "\n",
    "async def fetch_url(url, sem):\n",
    "    async with aiohttp.ClientSession() as session:\n",
    "        async with sem:\n",
    "            async with session.get(url) as resp:\n",
    "                print(resp.status)\n",
    "                data = await resp.text()\n",
    "\n",
    "\n",
    "async def fetch_batch(urls):\n",
    "    sem = asyncio.Semaphore(20)\n",
    "    \n",
    "    tasks = []\n",
    "\n",
    "    for url in urls:\n",
    "        tasks.append(fetch_url(url, sem))\n",
    "\n",
    "    batch = asyncio.gather(*tasks)\n",
    "    print(\"created batch\")\n",
    "    await batch\n",
    "\n",
    "\n",
    "t1 = time.time()\n",
    "await fetch_batch(URLS)\n",
    "\n",
    "t2 = time.time()\n",
    "print(t2 - t1)"
   ]
  },
  {
   "cell_type": "code",
   "execution_count": 5,
   "id": "df74b49d",
   "metadata": {},
   "outputs": [],
   "source": [
    "import asyncio\n",
    "import aiohttp\n",
    "import time"
   ]
  },
  {
   "cell_type": "code",
   "execution_count": 8,
   "id": "6167bb42",
   "metadata": {},
   "outputs": [
    {
     "name": "stdout",
     "output_type": "stream",
     "text": [
      "200\n",
      "200\n",
      "200\n",
      "200\n",
      "200\n",
      "200\n",
      "200\n",
      "200\n",
      "200\n",
      "200\n",
      "200\n",
      "200\n",
      "200\n",
      "200\n",
      "200\n",
      "200\n",
      "200\n",
      "200\n",
      "200\n",
      "200\n",
      "1.9173879623413086\n"
     ]
    }
   ],
   "source": [
    "URL = \"https://docs.python.org/3/whatsnew/3.12.html\"\n",
    "URLS = [URL] * 20\n",
    "WORKERS_NUM = 5\n",
    "\n",
    "\n",
    "async def fetch_url(url):\n",
    "    async with aiohttp.ClientSession() as session:\n",
    "        async with session.get(url) as resp:\n",
    "            print(resp.status)\n",
    "            data = await resp.text()\n",
    "\n",
    "\n",
    "async def fetch_worker(que, i):\n",
    "    while True:\n",
    "        url = await que.get()\n",
    "        try:\n",
    "            result = await fetch_url(url)\n",
    "        finally:\n",
    "            que.task_done()\n",
    "    \n",
    "\n",
    "async def fetch_batch(urls, workers_num):\n",
    "    workers = []\n",
    "    que = asyncio.Queue()\n",
    "\n",
    "    for i in range(workers_num):\n",
    "        workers.append(asyncio.create_task(fetch_worker(que, i)))\n",
    "\n",
    "    for url in urls:\n",
    "        await que.put(url)\n",
    "\n",
    "    await que.join()\n",
    "\n",
    "    for worker in workers:\n",
    "        worker.cancel()\n",
    "\n",
    "\n",
    "t1 = time.time()\n",
    "await fetch_batch(URLS, WORKERS_NUM)\n",
    "\n",
    "t2 = time.time()\n",
    "print(t2 - t1)"
   ]
  },
  {
   "cell_type": "code",
   "execution_count": null,
   "id": "0942db40",
   "metadata": {},
   "outputs": [],
   "source": []
  }
 ],
 "metadata": {
  "kernelspec": {
   "display_name": "Python 3 (ipykernel)",
   "language": "python",
   "name": "python3"
  },
  "language_info": {
   "codemirror_mode": {
    "name": "ipython",
    "version": 3
   },
   "file_extension": ".py",
   "mimetype": "text/x-python",
   "name": "python",
   "nbconvert_exporter": "python",
   "pygments_lexer": "ipython3",
   "version": "3.10.2"
  }
 },
 "nbformat": 4,
 "nbformat_minor": 5
}
