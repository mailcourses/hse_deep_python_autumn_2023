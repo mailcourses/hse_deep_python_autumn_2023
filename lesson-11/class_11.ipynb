{
 "cells": [
  {
   "cell_type": "code",
   "execution_count": null,
   "id": "3f407388",
   "metadata": {},
   "outputs": [],
   "source": [
    "# lru_cache/dll.py\n",
    "\n",
    "logger = logging.getLogger(__name__)  # lru_cache.dll\n",
    "\n",
    "\n",
    "# main.py\n",
    "\n",
    "logger = logging.getLogger(\"lru_cache.dll\") # \"lru_cache.dll\" -> \"lru_cache\" -> \"\""
   ]
  },
  {
   "cell_type": "code",
   "execution_count": null,
   "id": "52d47b46",
   "metadata": {},
   "outputs": [],
   "source": []
  },
  {
   "cell_type": "code",
   "execution_count": 1,
   "id": "88bc6849",
   "metadata": {},
   "outputs": [],
   "source": [
    "import logging"
   ]
  },
  {
   "cell_type": "code",
   "execution_count": 2,
   "id": "cf1c14ff",
   "metadata": {},
   "outputs": [
    {
     "name": "stdout",
     "output_type": "stream",
     "text": [
      "cat: example.log: No such file or directory\r\n"
     ]
    }
   ],
   "source": [
    "!cat example.log"
   ]
  },
  {
   "cell_type": "code",
   "execution_count": 3,
   "id": "3750d550",
   "metadata": {},
   "outputs": [],
   "source": [
    "logging.basicConfig(\n",
    "    filename=\"example.log\",\n",
    "    level=logging.DEBUG,\n",
    ")\n",
    "\n",
    "\n",
    "logging.debug(\"This message should go to the log file\")\n",
    "logging.info(\"So should this\")\n",
    "logging.warning(\"And this, too\")"
   ]
  },
  {
   "cell_type": "code",
   "execution_count": 4,
   "id": "99994da2",
   "metadata": {},
   "outputs": [
    {
     "name": "stdout",
     "output_type": "stream",
     "text": [
      "DEBUG:root:This message should go to the log file\r\n",
      "INFO:root:So should this\r\n",
      "WARNING:root:And this, too\r\n"
     ]
    }
   ],
   "source": [
    "!cat example.log"
   ]
  },
  {
   "cell_type": "code",
   "execution_count": null,
   "id": "0a4acc72",
   "metadata": {},
   "outputs": [],
   "source": []
  },
  {
   "cell_type": "code",
   "execution_count": null,
   "id": "a6ff1ead",
   "metadata": {},
   "outputs": [],
   "source": []
  },
  {
   "cell_type": "code",
   "execution_count": 15,
   "id": "f7cc1a83",
   "metadata": {},
   "outputs": [],
   "source": [
    "logging.basicConfig(\n",
    "    filename=\"example1.log\",\n",
    "    filemode=\"w\",\n",
    "    level=logging.WARNING,\n",
    "    force=True,\n",
    ")\n",
    "\n",
    "\n",
    "logging.debug(\"This message should go to the log file\")\n",
    "logging.info(\"So should this\")\n",
    "logging.warning(\"And this, too\")"
   ]
  },
  {
   "cell_type": "code",
   "execution_count": 8,
   "id": "a494cd56",
   "metadata": {},
   "outputs": [
    {
     "name": "stdout",
     "output_type": "stream",
     "text": [
      "DEBUG:root:This message should go to the log file\r\n",
      "INFO:root:So should this\r\n",
      "WARNING:root:And this, too\r\n",
      "DEBUG:root:This message should go to the log file\r\n",
      "INFO:root:So should this\r\n",
      "WARNING:root:And this, too\r\n",
      "DEBUG:parso.cache:pickle loaded: /Library/Frameworks/Python.framework/Versions/3.10/lib/python3.10/logging/__init__.py\r\n",
      "INFO:root:So should this\r\n",
      "WARNING:root:And this, too\r\n"
     ]
    }
   ],
   "source": [
    "!cat example.log"
   ]
  },
  {
   "cell_type": "code",
   "execution_count": 16,
   "id": "20984302",
   "metadata": {},
   "outputs": [
    {
     "name": "stdout",
     "output_type": "stream",
     "text": [
      "WARNING:root:And this, too\r\n"
     ]
    }
   ],
   "source": [
    "!cat example1.log"
   ]
  },
  {
   "cell_type": "code",
   "execution_count": null,
   "id": "671d3f5f",
   "metadata": {},
   "outputs": [],
   "source": []
  },
  {
   "cell_type": "code",
   "execution_count": 19,
   "id": "6e380dba",
   "metadata": {},
   "outputs": [],
   "source": [
    "logging.basicConfig(\n",
    "    filename=\"example1.log\",\n",
    "    filemode=\"w\",\n",
    "    level=logging.WARNING,\n",
    "    force=True,\n",
    ")\n",
    "\n",
    "\n",
    "logging.debug(\"This message should go to the log file\")\n",
    "logging.info(\"So should this\")\n",
    "logging.warning(\"And this, too\")\n",
    "\n",
    "\n",
    "logger = logging.getLogger(\"\")\n",
    "logger.error(\"error msg\")\n",
    "\n",
    "\n",
    "d = {}\n",
    "try:\n",
    "    val = d[42]\n",
    "except Exception as err:\n",
    "    logger.exception(\"wrong key %s\", err)\n",
    "    \n",
    "    "
   ]
  },
  {
   "cell_type": "code",
   "execution_count": 20,
   "id": "8c5cac22",
   "metadata": {},
   "outputs": [
    {
     "name": "stdout",
     "output_type": "stream",
     "text": [
      "WARNING:root:And this, too\r\n",
      "ERROR:root:error msg\r\n",
      "ERROR:root:wrong key 42\r\n",
      "Traceback (most recent call last):\r\n",
      "  File \"/var/folders/c1/9wdb7dps2x332c6l1y2hrqkh0000gp/T/ipykernel_89722/4236966578.py\", line 20, in <cell line: 19>\r\n",
      "    val = d[42]\r\n",
      "KeyError: 42\r\n"
     ]
    }
   ],
   "source": [
    "!cat example1.log"
   ]
  },
  {
   "cell_type": "code",
   "execution_count": null,
   "id": "574b98ac",
   "metadata": {},
   "outputs": [],
   "source": []
  },
  {
   "cell_type": "code",
   "execution_count": 44,
   "id": "846f5fdd",
   "metadata": {},
   "outputs": [
    {
     "name": "stderr",
     "output_type": "stream",
     "text": [
      "STREAM 22222 2023-12-06 19:47:24,519\tERROR\tedx\tedx error msg\n",
      "STREAM 22222 2023-12-06 19:47:24,519\tCRITICAL\tedx\tedx crit msg\n"
     ]
    }
   ],
   "source": [
    "logging.basicConfig(\n",
    "    filename=\"example1.log\",\n",
    "    filemode=\"w\",\n",
    "    level=logging.WARNING,\n",
    "    format=\"%(asctime)s\\t%(levelname)s\\t%(name)s\\t%(message)s\",\n",
    "    force=True,\n",
    ")\n",
    "\n",
    "\n",
    "logging.debug(\"This message should go to the log file\")\n",
    "logging.info(\"So should this\")\n",
    "logging.warning(\"And this, too\")\n",
    "\n",
    "\n",
    "logger = logging.getLogger(\"\")\n",
    "logger.error(\"error msg\")\n",
    "\n",
    "\n",
    "logger_edx = logging.getLogger(\"edx\")\n",
    "logger_edx.setLevel(logging.WARNING)\n",
    "logger_edx.propagate = True\n",
    "\n",
    "stream = logging.StreamHandler()\n",
    "stream.setLevel(logging.DEBUG)\n",
    "\n",
    "stream.setFormatter(\n",
    "    logging.Formatter(\"STREAM 22222 %(asctime)s\\t%(levelname)s\\t%(name)s\\t%(message)s\")\n",
    ")\n",
    "\n",
    "logger_edx.addHandler(stream)\n",
    "\n",
    "\n",
    "logger_edx.debug(\"edx debug msg\")\n",
    "logger_edx.info(\"edx info msg\")\n",
    "logger_edx.error(\"edx error msg\")\n",
    "logger_edx.critical(\"edx crit msg\")\n",
    "\n"
   ]
  },
  {
   "cell_type": "code",
   "execution_count": 43,
   "id": "b31b386f",
   "metadata": {},
   "outputs": [
    {
     "data": {
      "text/plain": [
       "[]"
      ]
     },
     "execution_count": 43,
     "metadata": {},
     "output_type": "execute_result"
    }
   ],
   "source": [
    "logger_edx.handlers"
   ]
  },
  {
   "cell_type": "code",
   "execution_count": 42,
   "id": "a5d839d8",
   "metadata": {},
   "outputs": [],
   "source": [
    "logger_edx.removeHandler(logger_edx.handlers[0])"
   ]
  },
  {
   "cell_type": "code",
   "execution_count": 32,
   "id": "f48f3914",
   "metadata": {},
   "outputs": [
    {
     "name": "stdout",
     "output_type": "stream",
     "text": [
      "2023-12-06 19:40:34,504\tWARNING\troot\tAnd this, too\r\n",
      "2023-12-06 19:40:34,505\tERROR\troot\terror msg\r\n",
      "2023-12-06 19:40:34,505\tERROR\tedx\tedx error msg\r\n"
     ]
    }
   ],
   "source": [
    "!cat example1.log"
   ]
  },
  {
   "cell_type": "code",
   "execution_count": null,
   "id": "f2b57eb0",
   "metadata": {},
   "outputs": [],
   "source": []
  },
  {
   "cell_type": "code",
   "execution_count": 45,
   "id": "63407eea",
   "metadata": {},
   "outputs": [
    {
     "name": "stderr",
     "output_type": "stream",
     "text": [
      "STREAM 22222 2023-12-06 20:01:24,443\tERROR\tedx\tedx error msg\n",
      "STREAM 22222 2023-12-06 20:01:24,443\tERROR\tedx\tedx error msg\n",
      "STREAM 22222 2023-12-06 20:01:24,444\tCRITICAL\tedx\tedx crit msg\n",
      "STREAM 22222 2023-12-06 20:01:24,444\tCRITICAL\tedx\tedx crit msg\n"
     ]
    }
   ],
   "source": [
    "logging.basicConfig(\n",
    "    filename=\"example1.log\",\n",
    "    filemode=\"w\",\n",
    "    level=logging.WARNING,\n",
    "    format=\"%(asctime)s\\t%(levelname)s\\t%(name)s\\t%(message)s\",\n",
    "    force=True,\n",
    ")\n",
    "\n",
    "\n",
    "logging.debug(\"This message should go to the log file\")\n",
    "logging.info(\"So should this\")\n",
    "logging.warning(\"And this, too\")\n",
    "\n",
    "\n",
    "logger = logging.getLogger(\"\")\n",
    "logger.error(\"error msg\")\n",
    "\n",
    "\n",
    "logger_edx = logging.getLogger(\"edx\")\n",
    "logger_edx.setLevel(logging.WARNING)\n",
    "logger_edx.propagate = False\n",
    "\n",
    "stream = logging.StreamHandler()\n",
    "stream.setLevel(logging.DEBUG)\n",
    "\n",
    "stream.setFormatter(\n",
    "    logging.Formatter(\"STREAM 22222 %(asctime)s\\t%(levelname)s\\t%(name)s\\t%(message)s\")\n",
    ")\n",
    "\n",
    "logger_edx.addHandler(stream)\n",
    "\n",
    "\n",
    "logger_edx.debug(\"edx debug msg\")\n",
    "logger_edx.info(\"edx info msg\")\n",
    "logger_edx.error(\"edx error msg\")\n",
    "logger_edx.critical(\"edx crit msg\")\n",
    "\n"
   ]
  },
  {
   "cell_type": "code",
   "execution_count": 46,
   "id": "c065e882",
   "metadata": {},
   "outputs": [
    {
     "name": "stdout",
     "output_type": "stream",
     "text": [
      "2023-12-06 20:01:24,442\tWARNING\troot\tAnd this, too\r\n",
      "2023-12-06 20:01:24,442\tERROR\troot\terror msg\r\n"
     ]
    }
   ],
   "source": [
    "!cat example1.log"
   ]
  },
  {
   "cell_type": "code",
   "execution_count": null,
   "id": "ee20ab61",
   "metadata": {},
   "outputs": [],
   "source": []
  },
  {
   "cell_type": "code",
   "execution_count": null,
   "id": "420c7737",
   "metadata": {},
   "outputs": [],
   "source": []
  },
  {
   "cell_type": "code",
   "execution_count": 48,
   "id": "cd8f4dfb",
   "metadata": {},
   "outputs": [
    {
     "name": "stderr",
     "output_type": "stream",
     "text": [
      "CTX STREAM 2023-12-06 20:05:07,039\tINFO\tctl\tstart contexting\n"
     ]
    }
   ],
   "source": [
    "def create_logger(logger_name):\n",
    "    logger = logging.getLogger(logger_name)\n",
    "    logger.setLevel(logging.DEBUG)\n",
    "    logger.propagate = False\n",
    "\n",
    "    stream = logging.StreamHandler()\n",
    "    stream.setLevel(logging.DEBUG)\n",
    "\n",
    "    stream.setFormatter(\n",
    "        logging.Formatter(\"CTX STREAM %(asctime)s\\t%(levelname)s\\t%(name)s\\t%(message)s\")\n",
    "    )\n",
    "\n",
    "    logger.addHandler(stream)\n",
    "    \n",
    "    return logger\n",
    "\n",
    "\n",
    "logger_ctx = create_logger(\"ctl\")\n",
    "\n",
    "logger_ctx.info(\"start contexting\")"
   ]
  },
  {
   "cell_type": "code",
   "execution_count": 50,
   "id": "81352458",
   "metadata": {},
   "outputs": [
    {
     "data": {
      "text/plain": [
       "[<StreamHandler stderr (DEBUG)>]"
      ]
     },
     "execution_count": 50,
     "metadata": {},
     "output_type": "execute_result"
    }
   ],
   "source": [
    "logger_ctx.handlers"
   ]
  },
  {
   "cell_type": "code",
   "execution_count": 51,
   "id": "ea8004c0",
   "metadata": {},
   "outputs": [
    {
     "name": "stderr",
     "output_type": "stream",
     "text": [
      "CTX STREAM 2023-12-06 20:07:36,141\tINFO\tctl\tconnect user=admin to db=pg_store\n"
     ]
    }
   ],
   "source": [
    "username = \"admin\"\n",
    "dbname = \"pg_store\"\n",
    "\n",
    "logger_ctx.info(f\"connect user={username} to db={dbname}\")"
   ]
  },
  {
   "cell_type": "code",
   "execution_count": 52,
   "id": "562a05f1",
   "metadata": {},
   "outputs": [
    {
     "name": "stderr",
     "output_type": "stream",
     "text": [
      "CTX STREAM 2023-12-06 20:10:25,988\tINFO\tctl\tconnect user=admin to db=pg_store\n"
     ]
    }
   ],
   "source": [
    "username = \"admin\"\n",
    "dbname = \"pg_store\"\n",
    "\n",
    "logger_ctx.info(\"connect user=%s to db=%s\", username, dbname)"
   ]
  },
  {
   "cell_type": "code",
   "execution_count": 54,
   "id": "f0a2dfb8",
   "metadata": {},
   "outputs": [
    {
     "name": "stderr",
     "output_type": "stream",
     "text": [
      "CTX STREAM xxx=42 2023-12-06 20:15:46,846\tINFO\textra\tstart extra\n",
      "CTX STREAM xxx=42 2023-12-06 20:15:46,846\tINFO\textra\tstart extra\n"
     ]
    }
   ],
   "source": [
    "def create_logger(logger_name):\n",
    "    logger = logging.getLogger(logger_name)\n",
    "    logger.setLevel(logging.DEBUG)\n",
    "    logger.propagate = False\n",
    "\n",
    "    stream = logging.StreamHandler()\n",
    "    stream.setLevel(logging.DEBUG)\n",
    "\n",
    "    stream.setFormatter(\n",
    "        logging.Formatter(\n",
    "            \"CTX STREAM xxx=%(xxx)s %(asctime)s\\t%(levelname)s\\t%(name)s\\t%(message)s\"\n",
    "        )\n",
    "    )\n",
    "\n",
    "    logger.addHandler(stream)\n",
    "    \n",
    "    return logger\n",
    "\n",
    "\n",
    "logger_extra = create_logger(\"extra\")\n",
    "\n",
    "logger_extra.info(\"start extra\", extra={\"xxx\": 42})"
   ]
  },
  {
   "cell_type": "code",
   "execution_count": 55,
   "id": "1c72e202",
   "metadata": {},
   "outputs": [
    {
     "name": "stderr",
     "output_type": "stream",
     "text": [
      "CTX STREAM 2023-12-06 20:21:41,655\tINFO\tfilt\tconnect user=admin to db=pg_store\n",
      "CTX STREAM 2023-12-06 20:21:41,656\tINFO\tfilt\tupdate user=Steve age with 42\n",
      "CTX STREAM 2023-12-06 20:21:41,657\tINFO\tfilt\tupdate user=Person age with 99\n",
      "CTX STREAM 2023-12-06 20:21:41,657\tINFO\tfilt\tupdate user=Marta age with 50\n",
      "CTX STREAM 2023-12-06 20:21:41,658\tERROR\tfilt\tfailed to update user_id=10001\n",
      "CTX STREAM 2023-12-06 20:21:41,659\tERROR\tfilt\tfailed to update field=name\n"
     ]
    }
   ],
   "source": [
    "def create_logger(logger_name):\n",
    "    logger = logging.getLogger(logger_name)\n",
    "    logger.setLevel(logging.DEBUG)\n",
    "    logger.propagate = False\n",
    "\n",
    "    stream = logging.StreamHandler()\n",
    "    stream.setLevel(logging.DEBUG)\n",
    "\n",
    "    stream.setFormatter(\n",
    "        logging.Formatter(\n",
    "            \"CTX STREAM %(asctime)s\\t%(levelname)s\\t%(name)s\\t%(message)s\"\n",
    "        )\n",
    "    )\n",
    "\n",
    "    logger.addHandler(stream)\n",
    "    \n",
    "    return logger\n",
    "\n",
    "\n",
    "logger_filt = create_logger(\"filt\")\n",
    "\n",
    "username = \"admin\"\n",
    "dbname = \"pg_store\"\n",
    "\n",
    "logger_filt.info(\"connect user=%s to db=%s\", username, dbname)\n",
    "\n",
    "logger_filt.info(\"update user=%s age with %s\", \"Steve\", 42)\n",
    "logger_filt.info(\"update user=%s age with %s\", \"Person\", 99)\n",
    "logger_filt.info(\"update user=%s age with %s\", \"Marta\", 50)\n",
    "\n",
    "logger_filt.error(\"failed to update user_id=%s\", 10001)\n",
    "logger_filt.error(\"failed to update field=%s\", \"name\")"
   ]
  },
  {
   "cell_type": "code",
   "execution_count": 57,
   "id": "2c3c8739",
   "metadata": {},
   "outputs": [
    {
     "name": "stdout",
     "output_type": "stream",
     "text": [
      "> \u001b[0;32m/var/folders/c1/9wdb7dps2x332c6l1y2hrqkh0000gp/T/ipykernel_89722/3987243808.py\u001b[0m(4)\u001b[0;36mfilter\u001b[0;34m()\u001b[0m\n",
      "\u001b[0;32m      2 \u001b[0;31m    \u001b[0;32mdef\u001b[0m \u001b[0mfilter\u001b[0m\u001b[0;34m(\u001b[0m\u001b[0mself\u001b[0m\u001b[0;34m,\u001b[0m \u001b[0mrecord\u001b[0m\u001b[0;34m)\u001b[0m\u001b[0;34m:\u001b[0m\u001b[0;34m\u001b[0m\u001b[0;34m\u001b[0m\u001b[0m\n",
      "\u001b[0m\u001b[0;32m      3 \u001b[0;31m        \u001b[0;32mimport\u001b[0m \u001b[0mpdb\u001b[0m\u001b[0;34m;\u001b[0m \u001b[0mpdb\u001b[0m\u001b[0;34m.\u001b[0m\u001b[0mset_trace\u001b[0m\u001b[0;34m(\u001b[0m\u001b[0;34m)\u001b[0m\u001b[0;34m\u001b[0m\u001b[0;34m\u001b[0m\u001b[0m\n",
      "\u001b[0m\u001b[0;32m----> 4 \u001b[0;31m        \u001b[0;32mreturn\u001b[0m \u001b[0;32mTrue\u001b[0m\u001b[0;34m\u001b[0m\u001b[0;34m\u001b[0m\u001b[0m\n",
      "\u001b[0m\u001b[0;32m      5 \u001b[0;31m\u001b[0;34m\u001b[0m\u001b[0m\n",
      "\u001b[0m\u001b[0;32m      6 \u001b[0;31m\u001b[0;34m\u001b[0m\u001b[0m\n",
      "\u001b[0m\n",
      "ipdb> l\n",
      "\u001b[1;32m      1 \u001b[0m\u001b[0;32mclass\u001b[0m \u001b[0mSteveFilter\u001b[0m\u001b[0;34m(\u001b[0m\u001b[0mlogging\u001b[0m\u001b[0;34m.\u001b[0m\u001b[0mFilter\u001b[0m\u001b[0;34m)\u001b[0m\u001b[0;34m:\u001b[0m\u001b[0;34m\u001b[0m\u001b[0;34m\u001b[0m\u001b[0m\n",
      "\u001b[1;32m      2 \u001b[0m    \u001b[0;32mdef\u001b[0m \u001b[0mfilter\u001b[0m\u001b[0;34m(\u001b[0m\u001b[0mself\u001b[0m\u001b[0;34m,\u001b[0m \u001b[0mrecord\u001b[0m\u001b[0;34m)\u001b[0m\u001b[0;34m:\u001b[0m\u001b[0;34m\u001b[0m\u001b[0;34m\u001b[0m\u001b[0m\n",
      "\u001b[1;32m      3 \u001b[0m        \u001b[0;32mimport\u001b[0m \u001b[0mpdb\u001b[0m\u001b[0;34m;\u001b[0m \u001b[0mpdb\u001b[0m\u001b[0;34m.\u001b[0m\u001b[0mset_trace\u001b[0m\u001b[0;34m(\u001b[0m\u001b[0;34m)\u001b[0m\u001b[0;34m\u001b[0m\u001b[0;34m\u001b[0m\u001b[0m\n",
      "\u001b[0;32m----> 4 \u001b[0;31m        \u001b[0;32mreturn\u001b[0m \u001b[0;32mTrue\u001b[0m\u001b[0;34m\u001b[0m\u001b[0;34m\u001b[0m\u001b[0m\n",
      "\u001b[0m\u001b[1;32m      5 \u001b[0m\u001b[0;34m\u001b[0m\u001b[0m\n",
      "\u001b[1;32m      6 \u001b[0m\u001b[0;34m\u001b[0m\u001b[0m\n",
      "\u001b[1;32m      7 \u001b[0m\u001b[0mlogger_filt\u001b[0m\u001b[0;34m.\u001b[0m\u001b[0maddFilter\u001b[0m\u001b[0;34m(\u001b[0m\u001b[0mSteveFilter\u001b[0m\u001b[0;34m(\u001b[0m\u001b[0;34m)\u001b[0m\u001b[0;34m)\u001b[0m\u001b[0;34m\u001b[0m\u001b[0;34m\u001b[0m\u001b[0m\n",
      "\u001b[1;32m      8 \u001b[0m\u001b[0;34m\u001b[0m\u001b[0m\n",
      "\u001b[1;32m      9 \u001b[0m\u001b[0;34m\u001b[0m\u001b[0m\n",
      "\u001b[1;32m     10 \u001b[0m\u001b[0musername\u001b[0m \u001b[0;34m=\u001b[0m \u001b[0;34m\"admin\"\u001b[0m\u001b[0;34m\u001b[0m\u001b[0;34m\u001b[0m\u001b[0m\n",
      "\u001b[1;32m     11 \u001b[0m\u001b[0mdbname\u001b[0m \u001b[0;34m=\u001b[0m \u001b[0;34m\"pg_store\"\u001b[0m\u001b[0;34m\u001b[0m\u001b[0;34m\u001b[0m\u001b[0m\n",
      "\n",
      "ipdb> up\n",
      "> \u001b[0;32m/Library/Frameworks/Python.framework/Versions/3.10/lib/python3.10/logging/__init__.py\u001b[0m(821)\u001b[0;36mfilter\u001b[0;34m()\u001b[0m\n",
      "\u001b[0;32m    819 \u001b[0;31m        \u001b[0;32mfor\u001b[0m \u001b[0mf\u001b[0m \u001b[0;32min\u001b[0m \u001b[0mself\u001b[0m\u001b[0;34m.\u001b[0m\u001b[0mfilters\u001b[0m\u001b[0;34m:\u001b[0m\u001b[0;34m\u001b[0m\u001b[0;34m\u001b[0m\u001b[0m\n",
      "\u001b[0m\u001b[0;32m    820 \u001b[0;31m            \u001b[0;32mif\u001b[0m \u001b[0mhasattr\u001b[0m\u001b[0;34m(\u001b[0m\u001b[0mf\u001b[0m\u001b[0;34m,\u001b[0m \u001b[0;34m'filter'\u001b[0m\u001b[0;34m)\u001b[0m\u001b[0;34m:\u001b[0m\u001b[0;34m\u001b[0m\u001b[0;34m\u001b[0m\u001b[0m\n",
      "\u001b[0m\u001b[0;32m--> 821 \u001b[0;31m                \u001b[0mresult\u001b[0m \u001b[0;34m=\u001b[0m \u001b[0mf\u001b[0m\u001b[0;34m.\u001b[0m\u001b[0mfilter\u001b[0m\u001b[0;34m(\u001b[0m\u001b[0mrecord\u001b[0m\u001b[0;34m)\u001b[0m\u001b[0;34m\u001b[0m\u001b[0;34m\u001b[0m\u001b[0m\n",
      "\u001b[0m\u001b[0;32m    822 \u001b[0;31m            \u001b[0;32melse\u001b[0m\u001b[0;34m:\u001b[0m\u001b[0;34m\u001b[0m\u001b[0;34m\u001b[0m\u001b[0m\n",
      "\u001b[0m\u001b[0;32m    823 \u001b[0;31m                \u001b[0mresult\u001b[0m \u001b[0;34m=\u001b[0m \u001b[0mf\u001b[0m\u001b[0;34m(\u001b[0m\u001b[0mrecord\u001b[0m\u001b[0;34m)\u001b[0m \u001b[0;31m# assume callable - will raise if not\u001b[0m\u001b[0;34m\u001b[0m\u001b[0;34m\u001b[0m\u001b[0m\n",
      "\u001b[0m\n",
      "ipdb> up\n",
      "> \u001b[0;32m/Library/Frameworks/Python.framework/Versions/3.10/lib/python3.10/logging/__init__.py\u001b[0m(1633)\u001b[0;36mhandle\u001b[0;34m()\u001b[0m\n",
      "\u001b[0;32m   1631 \u001b[0;31m        \u001b[0mwell\u001b[0m \u001b[0;32mas\u001b[0m \u001b[0mthose\u001b[0m \u001b[0mcreated\u001b[0m \u001b[0mlocally\u001b[0m\u001b[0;34m.\u001b[0m \u001b[0mLogger\u001b[0m\u001b[0;34m-\u001b[0m\u001b[0mlevel\u001b[0m \u001b[0mfiltering\u001b[0m \u001b[0;32mis\u001b[0m \u001b[0mapplied\u001b[0m\u001b[0;34m.\u001b[0m\u001b[0;34m\u001b[0m\u001b[0;34m\u001b[0m\u001b[0m\n",
      "\u001b[0m\u001b[0;32m   1632 \u001b[0;31m        \"\"\"\n",
      "\u001b[0m\u001b[0;32m-> 1633 \u001b[0;31m        \u001b[0;32mif\u001b[0m \u001b[0;34m(\u001b[0m\u001b[0;32mnot\u001b[0m \u001b[0mself\u001b[0m\u001b[0;34m.\u001b[0m\u001b[0mdisabled\u001b[0m\u001b[0;34m)\u001b[0m \u001b[0;32mand\u001b[0m \u001b[0mself\u001b[0m\u001b[0;34m.\u001b[0m\u001b[0mfilter\u001b[0m\u001b[0;34m(\u001b[0m\u001b[0mrecord\u001b[0m\u001b[0;34m)\u001b[0m\u001b[0;34m:\u001b[0m\u001b[0;34m\u001b[0m\u001b[0;34m\u001b[0m\u001b[0m\n",
      "\u001b[0m\u001b[0;32m   1634 \u001b[0;31m            \u001b[0mself\u001b[0m\u001b[0;34m.\u001b[0m\u001b[0mcallHandlers\u001b[0m\u001b[0;34m(\u001b[0m\u001b[0mrecord\u001b[0m\u001b[0;34m)\u001b[0m\u001b[0;34m\u001b[0m\u001b[0;34m\u001b[0m\u001b[0m\n",
      "\u001b[0m\u001b[0;32m   1635 \u001b[0;31m\u001b[0;34m\u001b[0m\u001b[0m\n",
      "\u001b[0m\n",
      "ipdb> up\n",
      "> \u001b[0;32m/Library/Frameworks/Python.framework/Versions/3.10/lib/python3.10/logging/__init__.py\u001b[0m(1624)\u001b[0;36m_log\u001b[0;34m()\u001b[0m\n",
      "\u001b[0;32m   1622 \u001b[0;31m        record = self.makeRecord(self.name, level, fn, lno, msg, args,\n",
      "\u001b[0m\u001b[0;32m   1623 \u001b[0;31m                                 exc_info, func, extra, sinfo)\n",
      "\u001b[0m\u001b[0;32m-> 1624 \u001b[0;31m        \u001b[0mself\u001b[0m\u001b[0;34m.\u001b[0m\u001b[0mhandle\u001b[0m\u001b[0;34m(\u001b[0m\u001b[0mrecord\u001b[0m\u001b[0;34m)\u001b[0m\u001b[0;34m\u001b[0m\u001b[0;34m\u001b[0m\u001b[0m\n",
      "\u001b[0m\u001b[0;32m   1625 \u001b[0;31m\u001b[0;34m\u001b[0m\u001b[0m\n",
      "\u001b[0m\u001b[0;32m   1626 \u001b[0;31m    \u001b[0;32mdef\u001b[0m \u001b[0mhandle\u001b[0m\u001b[0;34m(\u001b[0m\u001b[0mself\u001b[0m\u001b[0;34m,\u001b[0m \u001b[0mrecord\u001b[0m\u001b[0;34m)\u001b[0m\u001b[0;34m:\u001b[0m\u001b[0;34m\u001b[0m\u001b[0;34m\u001b[0m\u001b[0m\n",
      "\u001b[0m\n",
      "ipdb> up\n",
      "> \u001b[0;32m/Library/Frameworks/Python.framework/Versions/3.10/lib/python3.10/logging/__init__.py\u001b[0m(1477)\u001b[0;36minfo\u001b[0;34m()\u001b[0m\n",
      "\u001b[0;32m   1475 \u001b[0;31m        \"\"\"\n",
      "\u001b[0m\u001b[0;32m   1476 \u001b[0;31m        \u001b[0;32mif\u001b[0m \u001b[0mself\u001b[0m\u001b[0;34m.\u001b[0m\u001b[0misEnabledFor\u001b[0m\u001b[0;34m(\u001b[0m\u001b[0mINFO\u001b[0m\u001b[0;34m)\u001b[0m\u001b[0;34m:\u001b[0m\u001b[0;34m\u001b[0m\u001b[0;34m\u001b[0m\u001b[0m\n",
      "\u001b[0m\u001b[0;32m-> 1477 \u001b[0;31m            \u001b[0mself\u001b[0m\u001b[0;34m.\u001b[0m\u001b[0m_log\u001b[0m\u001b[0;34m(\u001b[0m\u001b[0mINFO\u001b[0m\u001b[0;34m,\u001b[0m \u001b[0mmsg\u001b[0m\u001b[0;34m,\u001b[0m \u001b[0margs\u001b[0m\u001b[0;34m,\u001b[0m \u001b[0;34m**\u001b[0m\u001b[0mkwargs\u001b[0m\u001b[0;34m)\u001b[0m\u001b[0;34m\u001b[0m\u001b[0;34m\u001b[0m\u001b[0m\n",
      "\u001b[0m\u001b[0;32m   1478 \u001b[0;31m\u001b[0;34m\u001b[0m\u001b[0m\n",
      "\u001b[0m\u001b[0;32m   1479 \u001b[0;31m    \u001b[0;32mdef\u001b[0m \u001b[0mwarning\u001b[0m\u001b[0;34m(\u001b[0m\u001b[0mself\u001b[0m\u001b[0;34m,\u001b[0m \u001b[0mmsg\u001b[0m\u001b[0;34m,\u001b[0m \u001b[0;34m*\u001b[0m\u001b[0margs\u001b[0m\u001b[0;34m,\u001b[0m \u001b[0;34m**\u001b[0m\u001b[0mkwargs\u001b[0m\u001b[0;34m)\u001b[0m\u001b[0;34m:\u001b[0m\u001b[0;34m\u001b[0m\u001b[0;34m\u001b[0m\u001b[0m\n",
      "\u001b[0m\n",
      "ipdb> up\n",
      "> \u001b[0;32m/var/folders/c1/9wdb7dps2x332c6l1y2hrqkh0000gp/T/ipykernel_89722/3987243808.py\u001b[0m(13)\u001b[0;36m<cell line: 13>\u001b[0;34m()\u001b[0m\n",
      "\u001b[0;32m     11 \u001b[0;31m\u001b[0mdbname\u001b[0m \u001b[0;34m=\u001b[0m \u001b[0;34m\"pg_store\"\u001b[0m\u001b[0;34m\u001b[0m\u001b[0;34m\u001b[0m\u001b[0m\n",
      "\u001b[0m\u001b[0;32m     12 \u001b[0;31m\u001b[0;34m\u001b[0m\u001b[0m\n",
      "\u001b[0m\u001b[0;32m---> 13 \u001b[0;31m\u001b[0mlogger_filt\u001b[0m\u001b[0;34m.\u001b[0m\u001b[0minfo\u001b[0m\u001b[0;34m(\u001b[0m\u001b[0;34m\"connect user=%s to db=%s\"\u001b[0m\u001b[0;34m,\u001b[0m \u001b[0musername\u001b[0m\u001b[0;34m,\u001b[0m \u001b[0mdbname\u001b[0m\u001b[0;34m)\u001b[0m\u001b[0;34m\u001b[0m\u001b[0;34m\u001b[0m\u001b[0m\n",
      "\u001b[0m\u001b[0;32m     14 \u001b[0;31m\u001b[0;34m\u001b[0m\u001b[0m\n",
      "\u001b[0m\u001b[0;32m     15 \u001b[0;31m\u001b[0mlogger_filt\u001b[0m\u001b[0;34m.\u001b[0m\u001b[0minfo\u001b[0m\u001b[0;34m(\u001b[0m\u001b[0;34m\"update user=%s age with %s\"\u001b[0m\u001b[0;34m,\u001b[0m \u001b[0;34m\"Steve\"\u001b[0m\u001b[0;34m,\u001b[0m \u001b[0;36m42\u001b[0m\u001b[0;34m)\u001b[0m\u001b[0;34m\u001b[0m\u001b[0;34m\u001b[0m\u001b[0m\n",
      "\u001b[0m\n",
      "ipdb> username\n",
      "'admin'\n",
      "ipdb> down\n",
      "> \u001b[0;32m/Library/Frameworks/Python.framework/Versions/3.10/lib/python3.10/logging/__init__.py\u001b[0m(1477)\u001b[0;36minfo\u001b[0;34m()\u001b[0m\n",
      "\u001b[0;32m   1475 \u001b[0;31m        \"\"\"\n",
      "\u001b[0m\u001b[0;32m   1476 \u001b[0;31m        \u001b[0;32mif\u001b[0m \u001b[0mself\u001b[0m\u001b[0;34m.\u001b[0m\u001b[0misEnabledFor\u001b[0m\u001b[0;34m(\u001b[0m\u001b[0mINFO\u001b[0m\u001b[0;34m)\u001b[0m\u001b[0;34m:\u001b[0m\u001b[0;34m\u001b[0m\u001b[0;34m\u001b[0m\u001b[0m\n",
      "\u001b[0m\u001b[0;32m-> 1477 \u001b[0;31m            \u001b[0mself\u001b[0m\u001b[0;34m.\u001b[0m\u001b[0m_log\u001b[0m\u001b[0;34m(\u001b[0m\u001b[0mINFO\u001b[0m\u001b[0;34m,\u001b[0m \u001b[0mmsg\u001b[0m\u001b[0;34m,\u001b[0m \u001b[0margs\u001b[0m\u001b[0;34m,\u001b[0m \u001b[0;34m**\u001b[0m\u001b[0mkwargs\u001b[0m\u001b[0;34m)\u001b[0m\u001b[0;34m\u001b[0m\u001b[0;34m\u001b[0m\u001b[0m\n",
      "\u001b[0m\u001b[0;32m   1478 \u001b[0;31m\u001b[0;34m\u001b[0m\u001b[0m\n",
      "\u001b[0m\u001b[0;32m   1479 \u001b[0;31m    \u001b[0;32mdef\u001b[0m \u001b[0mwarning\u001b[0m\u001b[0;34m(\u001b[0m\u001b[0mself\u001b[0m\u001b[0;34m,\u001b[0m \u001b[0mmsg\u001b[0m\u001b[0;34m,\u001b[0m \u001b[0;34m*\u001b[0m\u001b[0margs\u001b[0m\u001b[0;34m,\u001b[0m \u001b[0;34m**\u001b[0m\u001b[0mkwargs\u001b[0m\u001b[0;34m)\u001b[0m\u001b[0;34m:\u001b[0m\u001b[0;34m\u001b[0m\u001b[0;34m\u001b[0m\u001b[0m\n",
      "\u001b[0m\n",
      "ipdb> down\n",
      "> \u001b[0;32m/Library/Frameworks/Python.framework/Versions/3.10/lib/python3.10/logging/__init__.py\u001b[0m(1624)\u001b[0;36m_log\u001b[0;34m()\u001b[0m\n",
      "\u001b[0;32m   1622 \u001b[0;31m        record = self.makeRecord(self.name, level, fn, lno, msg, args,\n",
      "\u001b[0m\u001b[0;32m   1623 \u001b[0;31m                                 exc_info, func, extra, sinfo)\n",
      "\u001b[0m\u001b[0;32m-> 1624 \u001b[0;31m        \u001b[0mself\u001b[0m\u001b[0;34m.\u001b[0m\u001b[0mhandle\u001b[0m\u001b[0;34m(\u001b[0m\u001b[0mrecord\u001b[0m\u001b[0;34m)\u001b[0m\u001b[0;34m\u001b[0m\u001b[0;34m\u001b[0m\u001b[0m\n",
      "\u001b[0m\u001b[0;32m   1625 \u001b[0;31m\u001b[0;34m\u001b[0m\u001b[0m\n",
      "\u001b[0m\u001b[0;32m   1626 \u001b[0;31m    \u001b[0;32mdef\u001b[0m \u001b[0mhandle\u001b[0m\u001b[0;34m(\u001b[0m\u001b[0mself\u001b[0m\u001b[0;34m,\u001b[0m \u001b[0mrecord\u001b[0m\u001b[0;34m)\u001b[0m\u001b[0;34m:\u001b[0m\u001b[0;34m\u001b[0m\u001b[0;34m\u001b[0m\u001b[0m\n",
      "\u001b[0m\n",
      "ipdb> down\n",
      "> \u001b[0;32m/Library/Frameworks/Python.framework/Versions/3.10/lib/python3.10/logging/__init__.py\u001b[0m(1633)\u001b[0;36mhandle\u001b[0;34m()\u001b[0m\n",
      "\u001b[0;32m   1631 \u001b[0;31m        \u001b[0mwell\u001b[0m \u001b[0;32mas\u001b[0m \u001b[0mthose\u001b[0m \u001b[0mcreated\u001b[0m \u001b[0mlocally\u001b[0m\u001b[0;34m.\u001b[0m \u001b[0mLogger\u001b[0m\u001b[0;34m-\u001b[0m\u001b[0mlevel\u001b[0m \u001b[0mfiltering\u001b[0m \u001b[0;32mis\u001b[0m \u001b[0mapplied\u001b[0m\u001b[0;34m.\u001b[0m\u001b[0;34m\u001b[0m\u001b[0;34m\u001b[0m\u001b[0m\n",
      "\u001b[0m\u001b[0;32m   1632 \u001b[0;31m        \"\"\"\n",
      "\u001b[0m\u001b[0;32m-> 1633 \u001b[0;31m        \u001b[0;32mif\u001b[0m \u001b[0;34m(\u001b[0m\u001b[0;32mnot\u001b[0m \u001b[0mself\u001b[0m\u001b[0;34m.\u001b[0m\u001b[0mdisabled\u001b[0m\u001b[0;34m)\u001b[0m \u001b[0;32mand\u001b[0m \u001b[0mself\u001b[0m\u001b[0;34m.\u001b[0m\u001b[0mfilter\u001b[0m\u001b[0;34m(\u001b[0m\u001b[0mrecord\u001b[0m\u001b[0;34m)\u001b[0m\u001b[0;34m:\u001b[0m\u001b[0;34m\u001b[0m\u001b[0;34m\u001b[0m\u001b[0m\n",
      "\u001b[0m\u001b[0;32m   1634 \u001b[0;31m            \u001b[0mself\u001b[0m\u001b[0;34m.\u001b[0m\u001b[0mcallHandlers\u001b[0m\u001b[0;34m(\u001b[0m\u001b[0mrecord\u001b[0m\u001b[0;34m)\u001b[0m\u001b[0;34m\u001b[0m\u001b[0;34m\u001b[0m\u001b[0m\n",
      "\u001b[0m\u001b[0;32m   1635 \u001b[0;31m\u001b[0;34m\u001b[0m\u001b[0m\n",
      "\u001b[0m\n",
      "ipdb> down\n",
      "> \u001b[0;32m/Library/Frameworks/Python.framework/Versions/3.10/lib/python3.10/logging/__init__.py\u001b[0m(821)\u001b[0;36mfilter\u001b[0;34m()\u001b[0m\n",
      "\u001b[0;32m    819 \u001b[0;31m        \u001b[0;32mfor\u001b[0m \u001b[0mf\u001b[0m \u001b[0;32min\u001b[0m \u001b[0mself\u001b[0m\u001b[0;34m.\u001b[0m\u001b[0mfilters\u001b[0m\u001b[0;34m:\u001b[0m\u001b[0;34m\u001b[0m\u001b[0;34m\u001b[0m\u001b[0m\n",
      "\u001b[0m\u001b[0;32m    820 \u001b[0;31m            \u001b[0;32mif\u001b[0m \u001b[0mhasattr\u001b[0m\u001b[0;34m(\u001b[0m\u001b[0mf\u001b[0m\u001b[0;34m,\u001b[0m \u001b[0;34m'filter'\u001b[0m\u001b[0;34m)\u001b[0m\u001b[0;34m:\u001b[0m\u001b[0;34m\u001b[0m\u001b[0;34m\u001b[0m\u001b[0m\n",
      "\u001b[0m\u001b[0;32m--> 821 \u001b[0;31m                \u001b[0mresult\u001b[0m \u001b[0;34m=\u001b[0m \u001b[0mf\u001b[0m\u001b[0;34m.\u001b[0m\u001b[0mfilter\u001b[0m\u001b[0;34m(\u001b[0m\u001b[0mrecord\u001b[0m\u001b[0;34m)\u001b[0m\u001b[0;34m\u001b[0m\u001b[0;34m\u001b[0m\u001b[0m\n",
      "\u001b[0m\u001b[0;32m    822 \u001b[0;31m            \u001b[0;32melse\u001b[0m\u001b[0;34m:\u001b[0m\u001b[0;34m\u001b[0m\u001b[0;34m\u001b[0m\u001b[0m\n",
      "\u001b[0m\u001b[0;32m    823 \u001b[0;31m                \u001b[0mresult\u001b[0m \u001b[0;34m=\u001b[0m \u001b[0mf\u001b[0m\u001b[0;34m(\u001b[0m\u001b[0mrecord\u001b[0m\u001b[0;34m)\u001b[0m \u001b[0;31m# assume callable - will raise if not\u001b[0m\u001b[0;34m\u001b[0m\u001b[0;34m\u001b[0m\u001b[0m\n",
      "\u001b[0m\n"
     ]
    },
    {
     "name": "stdout",
     "output_type": "stream",
     "text": [
      "ipdb> down\n",
      "> \u001b[0;32m/var/folders/c1/9wdb7dps2x332c6l1y2hrqkh0000gp/T/ipykernel_89722/3987243808.py\u001b[0m(4)\u001b[0;36mfilter\u001b[0;34m()\u001b[0m\n",
      "\u001b[0;32m      2 \u001b[0;31m    \u001b[0;32mdef\u001b[0m \u001b[0mfilter\u001b[0m\u001b[0;34m(\u001b[0m\u001b[0mself\u001b[0m\u001b[0;34m,\u001b[0m \u001b[0mrecord\u001b[0m\u001b[0;34m)\u001b[0m\u001b[0;34m:\u001b[0m\u001b[0;34m\u001b[0m\u001b[0;34m\u001b[0m\u001b[0m\n",
      "\u001b[0m\u001b[0;32m      3 \u001b[0;31m        \u001b[0;32mimport\u001b[0m \u001b[0mpdb\u001b[0m\u001b[0;34m;\u001b[0m \u001b[0mpdb\u001b[0m\u001b[0;34m.\u001b[0m\u001b[0mset_trace\u001b[0m\u001b[0;34m(\u001b[0m\u001b[0;34m)\u001b[0m\u001b[0;34m\u001b[0m\u001b[0;34m\u001b[0m\u001b[0m\n",
      "\u001b[0m\u001b[0;32m----> 4 \u001b[0;31m        \u001b[0;32mreturn\u001b[0m \u001b[0;32mTrue\u001b[0m\u001b[0;34m\u001b[0m\u001b[0;34m\u001b[0m\u001b[0m\n",
      "\u001b[0m\u001b[0;32m      5 \u001b[0;31m\u001b[0;34m\u001b[0m\u001b[0m\n",
      "\u001b[0m\u001b[0;32m      6 \u001b[0;31m\u001b[0;34m\u001b[0m\u001b[0m\n",
      "\u001b[0m\n",
      "ipdb> down\n",
      "*** Newest frame\n",
      "ipdb> record\n",
      "<LogRecord: filt, 20, /var/folders/c1/9wdb7dps2x332c6l1y2hrqkh0000gp/T/ipykernel_89722/3987243808.py, 13, \"connect user=%s to db=%s\">\n",
      "ipdb> record.__dict__\n",
      "{'name': 'filt', 'msg': 'connect user=%s to db=%s', 'args': ('admin', 'pg_store'), 'levelname': 'INFO', 'levelno': 20, 'pathname': '/var/folders/c1/9wdb7dps2x332c6l1y2hrqkh0000gp/T/ipykernel_89722/3987243808.py', 'filename': '3987243808.py', 'module': '3987243808', 'exc_info': None, 'exc_text': None, 'stack_info': None, 'lineno': 13, 'funcName': '<cell line: 13>', 'created': 1701883793.090936, 'msecs': 90.93594551086426, 'relativeCreated': 15051474.121809006, 'thread': 4452967936, 'threadName': 'MainThread', 'processName': 'MainProcess', 'process': 89722}\n",
      "ipdb> c\n"
     ]
    },
    {
     "name": "stderr",
     "output_type": "stream",
     "text": [
      "CTX STREAM 2023-12-06 20:29:53,090\tINFO\tfilt\tconnect user=admin to db=pg_store\n"
     ]
    },
    {
     "name": "stdout",
     "output_type": "stream",
     "text": [
      "> \u001b[0;32m/var/folders/c1/9wdb7dps2x332c6l1y2hrqkh0000gp/T/ipykernel_89722/3987243808.py\u001b[0m(4)\u001b[0;36mfilter\u001b[0;34m()\u001b[0m\n",
      "\u001b[0;32m      2 \u001b[0;31m    \u001b[0;32mdef\u001b[0m \u001b[0mfilter\u001b[0m\u001b[0;34m(\u001b[0m\u001b[0mself\u001b[0m\u001b[0;34m,\u001b[0m \u001b[0mrecord\u001b[0m\u001b[0;34m)\u001b[0m\u001b[0;34m:\u001b[0m\u001b[0;34m\u001b[0m\u001b[0;34m\u001b[0m\u001b[0m\n",
      "\u001b[0m\u001b[0;32m      3 \u001b[0;31m        \u001b[0;32mimport\u001b[0m \u001b[0mpdb\u001b[0m\u001b[0;34m;\u001b[0m \u001b[0mpdb\u001b[0m\u001b[0;34m.\u001b[0m\u001b[0mset_trace\u001b[0m\u001b[0;34m(\u001b[0m\u001b[0;34m)\u001b[0m\u001b[0;34m\u001b[0m\u001b[0;34m\u001b[0m\u001b[0m\n",
      "\u001b[0m\u001b[0;32m----> 4 \u001b[0;31m        \u001b[0;32mreturn\u001b[0m \u001b[0;32mTrue\u001b[0m\u001b[0;34m\u001b[0m\u001b[0;34m\u001b[0m\u001b[0m\n",
      "\u001b[0m\u001b[0;32m      5 \u001b[0;31m\u001b[0;34m\u001b[0m\u001b[0m\n",
      "\u001b[0m\u001b[0;32m      6 \u001b[0;31m\u001b[0;34m\u001b[0m\u001b[0m\n",
      "\u001b[0m\n",
      "ipdb> c\n"
     ]
    },
    {
     "name": "stderr",
     "output_type": "stream",
     "text": [
      "CTX STREAM 2023-12-06 20:34:02,426\tINFO\tfilt\tupdate user=Steve age with 42\n"
     ]
    },
    {
     "name": "stdout",
     "output_type": "stream",
     "text": [
      "> \u001b[0;32m/var/folders/c1/9wdb7dps2x332c6l1y2hrqkh0000gp/T/ipykernel_89722/3987243808.py\u001b[0m(4)\u001b[0;36mfilter\u001b[0;34m()\u001b[0m\n",
      "\u001b[0;32m      2 \u001b[0;31m    \u001b[0;32mdef\u001b[0m \u001b[0mfilter\u001b[0m\u001b[0;34m(\u001b[0m\u001b[0mself\u001b[0m\u001b[0;34m,\u001b[0m \u001b[0mrecord\u001b[0m\u001b[0;34m)\u001b[0m\u001b[0;34m:\u001b[0m\u001b[0;34m\u001b[0m\u001b[0;34m\u001b[0m\u001b[0m\n",
      "\u001b[0m\u001b[0;32m      3 \u001b[0;31m        \u001b[0;32mimport\u001b[0m \u001b[0mpdb\u001b[0m\u001b[0;34m;\u001b[0m \u001b[0mpdb\u001b[0m\u001b[0;34m.\u001b[0m\u001b[0mset_trace\u001b[0m\u001b[0;34m(\u001b[0m\u001b[0;34m)\u001b[0m\u001b[0;34m\u001b[0m\u001b[0;34m\u001b[0m\u001b[0m\n",
      "\u001b[0m\u001b[0;32m----> 4 \u001b[0;31m        \u001b[0;32mreturn\u001b[0m \u001b[0;32mTrue\u001b[0m\u001b[0;34m\u001b[0m\u001b[0;34m\u001b[0m\u001b[0m\n",
      "\u001b[0m\u001b[0;32m      5 \u001b[0;31m\u001b[0;34m\u001b[0m\u001b[0m\n",
      "\u001b[0m\u001b[0;32m      6 \u001b[0;31m\u001b[0;34m\u001b[0m\u001b[0m\n",
      "\u001b[0m\n",
      "ipdb> c\n"
     ]
    },
    {
     "name": "stderr",
     "output_type": "stream",
     "text": [
      "CTX STREAM 2023-12-06 20:34:12,553\tINFO\tfilt\tupdate user=Person age with 99\n"
     ]
    },
    {
     "name": "stdout",
     "output_type": "stream",
     "text": [
      "> \u001b[0;32m/var/folders/c1/9wdb7dps2x332c6l1y2hrqkh0000gp/T/ipykernel_89722/3987243808.py\u001b[0m(4)\u001b[0;36mfilter\u001b[0;34m()\u001b[0m\n",
      "\u001b[0;32m      2 \u001b[0;31m    \u001b[0;32mdef\u001b[0m \u001b[0mfilter\u001b[0m\u001b[0;34m(\u001b[0m\u001b[0mself\u001b[0m\u001b[0;34m,\u001b[0m \u001b[0mrecord\u001b[0m\u001b[0;34m)\u001b[0m\u001b[0;34m:\u001b[0m\u001b[0;34m\u001b[0m\u001b[0;34m\u001b[0m\u001b[0m\n",
      "\u001b[0m\u001b[0;32m      3 \u001b[0;31m        \u001b[0;32mimport\u001b[0m \u001b[0mpdb\u001b[0m\u001b[0;34m;\u001b[0m \u001b[0mpdb\u001b[0m\u001b[0;34m.\u001b[0m\u001b[0mset_trace\u001b[0m\u001b[0;34m(\u001b[0m\u001b[0;34m)\u001b[0m\u001b[0;34m\u001b[0m\u001b[0;34m\u001b[0m\u001b[0m\n",
      "\u001b[0m\u001b[0;32m----> 4 \u001b[0;31m        \u001b[0;32mreturn\u001b[0m \u001b[0;32mTrue\u001b[0m\u001b[0;34m\u001b[0m\u001b[0;34m\u001b[0m\u001b[0m\n",
      "\u001b[0m\u001b[0;32m      5 \u001b[0;31m\u001b[0;34m\u001b[0m\u001b[0m\n",
      "\u001b[0m\u001b[0;32m      6 \u001b[0;31m\u001b[0;34m\u001b[0m\u001b[0m\n",
      "\u001b[0m\n",
      "ipdb> c\n"
     ]
    },
    {
     "name": "stderr",
     "output_type": "stream",
     "text": [
      "CTX STREAM 2023-12-06 20:34:13,472\tINFO\tfilt\tupdate user=Marta age with 50\n"
     ]
    },
    {
     "name": "stdout",
     "output_type": "stream",
     "text": [
      "> \u001b[0;32m/var/folders/c1/9wdb7dps2x332c6l1y2hrqkh0000gp/T/ipykernel_89722/3987243808.py\u001b[0m(4)\u001b[0;36mfilter\u001b[0;34m()\u001b[0m\n",
      "\u001b[0;32m      2 \u001b[0;31m    \u001b[0;32mdef\u001b[0m \u001b[0mfilter\u001b[0m\u001b[0;34m(\u001b[0m\u001b[0mself\u001b[0m\u001b[0;34m,\u001b[0m \u001b[0mrecord\u001b[0m\u001b[0;34m)\u001b[0m\u001b[0;34m:\u001b[0m\u001b[0;34m\u001b[0m\u001b[0;34m\u001b[0m\u001b[0m\n",
      "\u001b[0m\u001b[0;32m      3 \u001b[0;31m        \u001b[0;32mimport\u001b[0m \u001b[0mpdb\u001b[0m\u001b[0;34m;\u001b[0m \u001b[0mpdb\u001b[0m\u001b[0;34m.\u001b[0m\u001b[0mset_trace\u001b[0m\u001b[0;34m(\u001b[0m\u001b[0;34m)\u001b[0m\u001b[0;34m\u001b[0m\u001b[0;34m\u001b[0m\u001b[0m\n",
      "\u001b[0m\u001b[0;32m----> 4 \u001b[0;31m        \u001b[0;32mreturn\u001b[0m \u001b[0;32mTrue\u001b[0m\u001b[0;34m\u001b[0m\u001b[0;34m\u001b[0m\u001b[0m\n",
      "\u001b[0m\u001b[0;32m      5 \u001b[0;31m\u001b[0;34m\u001b[0m\u001b[0m\n",
      "\u001b[0m\u001b[0;32m      6 \u001b[0;31m\u001b[0;34m\u001b[0m\u001b[0m\n",
      "\u001b[0m\n",
      "ipdb> c\n"
     ]
    },
    {
     "name": "stderr",
     "output_type": "stream",
     "text": [
      "CTX STREAM 2023-12-06 20:34:14,280\tERROR\tfilt\tfailed to update user_id=10001\n"
     ]
    },
    {
     "name": "stdout",
     "output_type": "stream",
     "text": [
      "> \u001b[0;32m/var/folders/c1/9wdb7dps2x332c6l1y2hrqkh0000gp/T/ipykernel_89722/3987243808.py\u001b[0m(4)\u001b[0;36mfilter\u001b[0;34m()\u001b[0m\n",
      "\u001b[0;32m      2 \u001b[0;31m    \u001b[0;32mdef\u001b[0m \u001b[0mfilter\u001b[0m\u001b[0;34m(\u001b[0m\u001b[0mself\u001b[0m\u001b[0;34m,\u001b[0m \u001b[0mrecord\u001b[0m\u001b[0;34m)\u001b[0m\u001b[0;34m:\u001b[0m\u001b[0;34m\u001b[0m\u001b[0;34m\u001b[0m\u001b[0m\n",
      "\u001b[0m\u001b[0;32m      3 \u001b[0;31m        \u001b[0;32mimport\u001b[0m \u001b[0mpdb\u001b[0m\u001b[0;34m;\u001b[0m \u001b[0mpdb\u001b[0m\u001b[0;34m.\u001b[0m\u001b[0mset_trace\u001b[0m\u001b[0;34m(\u001b[0m\u001b[0;34m)\u001b[0m\u001b[0;34m\u001b[0m\u001b[0;34m\u001b[0m\u001b[0m\n",
      "\u001b[0m\u001b[0;32m----> 4 \u001b[0;31m        \u001b[0;32mreturn\u001b[0m \u001b[0;32mTrue\u001b[0m\u001b[0;34m\u001b[0m\u001b[0;34m\u001b[0m\u001b[0m\n",
      "\u001b[0m\u001b[0;32m      5 \u001b[0;31m\u001b[0;34m\u001b[0m\u001b[0m\n",
      "\u001b[0m\u001b[0;32m      6 \u001b[0;31m\u001b[0;34m\u001b[0m\u001b[0m\n",
      "\u001b[0m\n",
      "ipdb> c\n"
     ]
    },
    {
     "name": "stderr",
     "output_type": "stream",
     "text": [
      "CTX STREAM 2023-12-06 20:34:15,019\tERROR\tfilt\tfailed to update field=name\n"
     ]
    }
   ],
   "source": [
    "class SteveFilter(logging.Filter):\n",
    "    def filter(self, record):\n",
    "        import pdb; pdb.set_trace()\n",
    "\n",
    "        return True\n",
    "\n",
    "    \n",
    "logger_filt.addFilter(SteveFilter())\n",
    "\n",
    "\n",
    "username = \"admin\"\n",
    "dbname = \"pg_store\"\n",
    "\n",
    "logger_filt.info(\"connect user=%s to db=%s\", username, dbname)\n",
    "\n",
    "logger_filt.info(\"update user=%s age with %s\", \"Steve\", 42)\n",
    "logger_filt.info(\"update user=%s age with %s\", \"Person\", 99)\n",
    "logger_filt.info(\"update user=%s age with %s\", \"Marta\", 50)\n",
    "\n",
    "logger_filt.error(\"failed to update user_id=%s\", 10001)\n",
    "logger_filt.error(\"failed to update field=%s\", \"name\")"
   ]
  },
  {
   "cell_type": "code",
   "execution_count": null,
   "id": "9907b188",
   "metadata": {},
   "outputs": [],
   "source": []
  },
  {
   "cell_type": "code",
   "execution_count": null,
   "id": "fcfa0c54",
   "metadata": {},
   "outputs": [],
   "source": []
  },
  {
   "cell_type": "code",
   "execution_count": 61,
   "id": "24272333",
   "metadata": {},
   "outputs": [
    {
     "name": "stderr",
     "output_type": "stream",
     "text": [
      "CTX STREAM 2023-12-06 20:40:57,552\tINFO\tsteve3\tconnect user=admin to db=pg_store\n",
      "CTX STREAM 2023-12-06 20:40:57,554\tINFO\tsteve3\tupdate user=Person age with 99\n",
      "CTX STREAM 2023-12-06 20:40:57,555\tINFO\tsteve3\tupdate user=Marta age with 50\n"
     ]
    }
   ],
   "source": [
    "class SteveFilter(logging.Filter):\n",
    "    def filter(self, record):\n",
    "        return \"Steve\" not in record.args\n",
    "\n",
    "    \n",
    "class FailedFilter(logging.Filter):\n",
    "    def filter(self, record):\n",
    "        return \"failed\" not in record.msg\n",
    "\n",
    "    \n",
    "def create_logger(logger_name):\n",
    "    logger = logging.getLogger(logger_name)\n",
    "    logger.setLevel(logging.DEBUG)\n",
    "    logger.propagate = False\n",
    "\n",
    "    stream = logging.StreamHandler()\n",
    "    stream.setLevel(logging.DEBUG)\n",
    "\n",
    "    stream_format = logging.Formatter(\n",
    "        \"CTX STREAM %(asctime)s\\t%(levelname)s\\t%(name)s\\t%(message)s\"\n",
    "    )\n",
    "    stream.setFormatter(stream_format)\n",
    "\n",
    "    logger.addHandler(stream)\n",
    "    \n",
    "    logger.addFilter(SteveFilter())\n",
    "    logger.addFilter(FailedFilter())\n",
    "    \n",
    "    return logger\n",
    "\n",
    "\n",
    "logger_steve = create_logger(\"steve3\")\n",
    "\n",
    "username = \"admin\"\n",
    "dbname = \"pg_store\"\n",
    "\n",
    "logger_steve.info(\"connect user=%s to db=%s\", username, dbname)\n",
    "\n",
    "logger_steve.info(\"update user=%s age with %s\", \"Steve\", 42)\n",
    "logger_steve.info(\"update user=%s age with %s\", \"Person\", 99)\n",
    "logger_steve.info(\"update user=%s age with %s\", \"Marta\", 50)\n",
    "\n",
    "logger_steve.error(\"failed to update user_id=%s\", 10001)\n",
    "logger_steve.error(\"failed to update field=%s\", \"name\")"
   ]
  },
  {
   "cell_type": "code",
   "execution_count": null,
   "id": "53677231",
   "metadata": {},
   "outputs": [],
   "source": []
  },
  {
   "cell_type": "code",
   "execution_count": 63,
   "id": "7b46f915",
   "metadata": {},
   "outputs": [],
   "source": [
    "import logging.config"
   ]
  },
  {
   "cell_type": "code",
   "execution_count": 65,
   "id": "cb4942e9",
   "metadata": {},
   "outputs": [],
   "source": [
    "log_conf = {\n",
    "    \"version\": 1,\n",
    "    \"formatters\": {\n",
    "        \"stream_format\": {\n",
    "            \"format\": \"CTX STREAM %(asctime)s\\t%(levelname)s\\t%(name)s\\t%(message)s\",\n",
    "        },\n",
    "    },\n",
    "    \"handlers\": {\n",
    "        \"stream_handler\": {\n",
    "            \"formatter\": \"stream_format\",\n",
    "            \"class\": \"logging.StreamHandler\",\n",
    "            \"level\": \"WARNING\",\n",
    "        },\n",
    "    },\n",
    "    \"loggers\": {\n",
    "        \"\": {\n",
    "            \"handlers\": [\"stream_handler\"],\n",
    "            \"level\": \"INFO\",\n",
    "        },\n",
    "        \"not_root\": {\n",
    "            \"handlers\": [\"stream_handler\"],\n",
    "            \"level\": \"DEBUG\",\n",
    "            \"propagate\": False,\n",
    "        },\n",
    "    }\n",
    "}\n",
    "\n",
    "logging.config.dictConfig(log_conf)"
   ]
  },
  {
   "cell_type": "code",
   "execution_count": 66,
   "id": "ad8fa9a9",
   "metadata": {},
   "outputs": [],
   "source": [
    "not_root_logger = logging.getLogger(\"not_root\")"
   ]
  },
  {
   "cell_type": "code",
   "execution_count": 67,
   "id": "b4acf343",
   "metadata": {},
   "outputs": [
    {
     "data": {
      "text/plain": [
       "[<StreamHandler stderr (WARNING)>]"
      ]
     },
     "execution_count": 67,
     "metadata": {},
     "output_type": "execute_result"
    }
   ],
   "source": [
    "not_root_logger.handlers"
   ]
  },
  {
   "cell_type": "code",
   "execution_count": 68,
   "id": "46edcbd9",
   "metadata": {},
   "outputs": [
    {
     "name": "stderr",
     "output_type": "stream",
     "text": [
      "CTX STREAM 2023-12-06 20:55:59,565\tERROR\tnot_root\tQWERTY\n"
     ]
    }
   ],
   "source": [
    "not_root_logger.error(\"QWERTY\")"
   ]
  },
  {
   "cell_type": "code",
   "execution_count": null,
   "id": "a33f4179",
   "metadata": {},
   "outputs": [],
   "source": []
  },
  {
   "cell_type": "code",
   "execution_count": 69,
   "id": "ba72b5c5",
   "metadata": {},
   "outputs": [
    {
     "data": {
      "text/plain": [
       "[]"
      ]
     },
     "execution_count": 69,
     "metadata": {},
     "output_type": "execute_result"
    }
   ],
   "source": [
    "simple_logger = logging.getLogger(\"simple\")\n",
    "simple_logger.handlers"
   ]
  },
  {
   "cell_type": "code",
   "execution_count": 70,
   "id": "eaf56f02",
   "metadata": {},
   "outputs": [
    {
     "data": {
      "text/plain": [
       "True"
      ]
     },
     "execution_count": 70,
     "metadata": {},
     "output_type": "execute_result"
    }
   ],
   "source": [
    "simple_logger.propagate"
   ]
  },
  {
   "cell_type": "code",
   "execution_count": 71,
   "id": "c95a4b3a",
   "metadata": {},
   "outputs": [
    {
     "name": "stderr",
     "output_type": "stream",
     "text": [
      "CTX STREAM 2023-12-06 20:57:34,209\tERROR\tsimple\tSIMPLE WRONG\n"
     ]
    }
   ],
   "source": [
    "simple_logger.error(\"SIMPLE WRONG\")"
   ]
  },
  {
   "cell_type": "code",
   "execution_count": null,
   "id": "fbcfeebf",
   "metadata": {},
   "outputs": [],
   "source": []
  }
 ],
 "metadata": {
  "kernelspec": {
   "display_name": "Python 3 (ipykernel)",
   "language": "python",
   "name": "python3"
  },
  "language_info": {
   "codemirror_mode": {
    "name": "ipython",
    "version": 3
   },
   "file_extension": ".py",
   "mimetype": "text/x-python",
   "name": "python",
   "nbconvert_exporter": "python",
   "pygments_lexer": "ipython3",
   "version": "3.10.2"
  }
 },
 "nbformat": 4,
 "nbformat_minor": 5
}
