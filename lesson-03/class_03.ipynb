{
 "cells": [
  {
   "cell_type": "code",
   "execution_count": 46,
   "id": "382772c0",
   "metadata": {},
   "outputs": [],
   "source": [
    "class ClassA:\n",
    "    name = \"cls_name\"\n",
    "    __cls_private = \"cls_private\"\n",
    "\n",
    "    def __init__(self, val):\n",
    "        self.val = val\n",
    "        self._protected = \"protected\"\n",
    "        self.__private = \"private\"\n",
    "\n",
    "    def print(self):\n",
    "        print(\n",
    "            f\"{self.val=}, {self._protected=}, {self.__private=}, \"\n",
    "            f\"{self.name=}, {self.__cls_private=}\"\n",
    "        )\n",
    "    \n",
    "    def print_new(self):\n",
    "        print(f\"{self.__private_3=}\")\n",
    "        \n",
    "    def update(self):\n",
    "        print(f\"{self.val=}\")"
   ]
  },
  {
   "cell_type": "code",
   "execution_count": 4,
   "id": "8ce7ec1f",
   "metadata": {},
   "outputs": [
    {
     "name": "stdout",
     "output_type": "stream",
     "text": [
      "self.val=10, self._protected='protected', self.__private='private', self.name='cls_name', self.__cls_private='cls_private'\n"
     ]
    }
   ],
   "source": [
    "a = ClassA(10)\n",
    "a.print()"
   ]
  },
  {
   "cell_type": "code",
   "execution_count": 5,
   "id": "25bb9498",
   "metadata": {},
   "outputs": [
    {
     "data": {
      "text/plain": [
       "<bound method ClassA.print of <__main__.ClassA object at 0x112d3ad70>>"
      ]
     },
     "execution_count": 5,
     "metadata": {},
     "output_type": "execute_result"
    }
   ],
   "source": [
    "a.print"
   ]
  },
  {
   "cell_type": "code",
   "execution_count": 6,
   "id": "238533be",
   "metadata": {},
   "outputs": [
    {
     "data": {
      "text/plain": [
       "<function __main__.ClassA.print(self)>"
      ]
     },
     "execution_count": 6,
     "metadata": {},
     "output_type": "execute_result"
    }
   ],
   "source": [
    "ClassA.print"
   ]
  },
  {
   "cell_type": "code",
   "execution_count": 8,
   "id": "95ff2295",
   "metadata": {},
   "outputs": [
    {
     "data": {
      "text/plain": [
       "(10, 'protected')"
      ]
     },
     "execution_count": 8,
     "metadata": {},
     "output_type": "execute_result"
    }
   ],
   "source": [
    "a.val, a._protected"
   ]
  },
  {
   "cell_type": "code",
   "execution_count": 9,
   "id": "4de8f9f7",
   "metadata": {},
   "outputs": [],
   "source": [
    "a.val, a._protected = 42, \"new_prot\""
   ]
  },
  {
   "cell_type": "code",
   "execution_count": 10,
   "id": "6d24b7f0",
   "metadata": {},
   "outputs": [
    {
     "data": {
      "text/plain": [
       "(42, 'new_prot')"
      ]
     },
     "execution_count": 10,
     "metadata": {},
     "output_type": "execute_result"
    }
   ],
   "source": [
    "a.val, a._protected"
   ]
  },
  {
   "cell_type": "code",
   "execution_count": 11,
   "id": "ecb1c266",
   "metadata": {},
   "outputs": [
    {
     "ename": "AttributeError",
     "evalue": "'ClassA' object has no attribute '__private'",
     "output_type": "error",
     "traceback": [
      "\u001b[0;31m---------------------------------------------------------------------------\u001b[0m",
      "\u001b[0;31mAttributeError\u001b[0m                            Traceback (most recent call last)",
      "Input \u001b[0;32mIn [11]\u001b[0m, in \u001b[0;36m<cell line: 1>\u001b[0;34m()\u001b[0m\n\u001b[0;32m----> 1\u001b[0m \u001b[43ma\u001b[49m\u001b[38;5;241;43m.\u001b[39;49m\u001b[43m__private\u001b[49m\n",
      "\u001b[0;31mAttributeError\u001b[0m: 'ClassA' object has no attribute '__private'"
     ]
    }
   ],
   "source": [
    "a.__private"
   ]
  },
  {
   "cell_type": "code",
   "execution_count": 12,
   "id": "bd146637",
   "metadata": {},
   "outputs": [
    {
     "data": {
      "text/plain": [
       "{'val': 42, '_protected': 'new_prot', '_ClassA__private': 'private'}"
      ]
     },
     "execution_count": 12,
     "metadata": {},
     "output_type": "execute_result"
    }
   ],
   "source": [
    "a.__dict__"
   ]
  },
  {
   "cell_type": "code",
   "execution_count": 13,
   "id": "138cce74",
   "metadata": {},
   "outputs": [
    {
     "data": {
      "text/plain": [
       "'private'"
      ]
     },
     "execution_count": 13,
     "metadata": {},
     "output_type": "execute_result"
    }
   ],
   "source": [
    "a._ClassA__private"
   ]
  },
  {
   "cell_type": "code",
   "execution_count": 14,
   "id": "f7137e17",
   "metadata": {},
   "outputs": [],
   "source": [
    "a._ClassA__private = \"new_priv\""
   ]
  },
  {
   "cell_type": "code",
   "execution_count": 15,
   "id": "086e95e0",
   "metadata": {},
   "outputs": [
    {
     "data": {
      "text/plain": [
       "'new_priv'"
      ]
     },
     "execution_count": 15,
     "metadata": {},
     "output_type": "execute_result"
    }
   ],
   "source": [
    "a._ClassA__private"
   ]
  },
  {
   "cell_type": "code",
   "execution_count": 17,
   "id": "ff05ad12",
   "metadata": {},
   "outputs": [],
   "source": [
    "a.__dict__[\"xxx\"] = \"yyyy\""
   ]
  },
  {
   "cell_type": "code",
   "execution_count": 18,
   "id": "3f09226e",
   "metadata": {},
   "outputs": [
    {
     "data": {
      "text/plain": [
       "{'val': 42,\n",
       " '_protected': 'new_prot',\n",
       " '_ClassA__private': 'new_priv',\n",
       " 'xxx': 'yyyy'}"
      ]
     },
     "execution_count": 18,
     "metadata": {},
     "output_type": "execute_result"
    }
   ],
   "source": [
    "a.__dict__"
   ]
  },
  {
   "cell_type": "code",
   "execution_count": 19,
   "id": "ee1a7a06",
   "metadata": {},
   "outputs": [
    {
     "data": {
      "text/plain": [
       "'yyyy'"
      ]
     },
     "execution_count": 19,
     "metadata": {},
     "output_type": "execute_result"
    }
   ],
   "source": [
    "a.xxx"
   ]
  },
  {
   "cell_type": "code",
   "execution_count": 21,
   "id": "accad72f",
   "metadata": {},
   "outputs": [
    {
     "ename": "SyntaxError",
     "evalue": "invalid syntax (1318225784.py, line 1)",
     "output_type": "error",
     "traceback": [
      "\u001b[0;36m  Input \u001b[0;32mIn [21]\u001b[0;36m\u001b[0m\n\u001b[0;31m    a.12123 = \"dkwjdkwj\"\u001b[0m\n\u001b[0m     ^\u001b[0m\n\u001b[0;31mSyntaxError\u001b[0m\u001b[0;31m:\u001b[0m invalid syntax\n"
     ]
    }
   ],
   "source": [
    "a.12123 = \"dkwjdkwj\""
   ]
  },
  {
   "cell_type": "code",
   "execution_count": 22,
   "id": "830077e2",
   "metadata": {},
   "outputs": [],
   "source": [
    "a.__dict__[\"28378273\"] = \"yyyy\""
   ]
  },
  {
   "cell_type": "code",
   "execution_count": 23,
   "id": "307f46ce",
   "metadata": {},
   "outputs": [
    {
     "data": {
      "text/plain": [
       "{'val': 42,\n",
       " '_protected': 'new_prot',\n",
       " '_ClassA__private': 'new_priv',\n",
       " 'xxx': 'yyyy',\n",
       " '28378273': 'yyyy'}"
      ]
     },
     "execution_count": 23,
     "metadata": {},
     "output_type": "execute_result"
    }
   ],
   "source": [
    "a.__dict__"
   ]
  },
  {
   "cell_type": "code",
   "execution_count": 24,
   "id": "5998b86a",
   "metadata": {},
   "outputs": [
    {
     "ename": "SyntaxError",
     "evalue": "invalid syntax (2632084146.py, line 1)",
     "output_type": "error",
     "traceback": [
      "\u001b[0;36m  Input \u001b[0;32mIn [24]\u001b[0;36m\u001b[0m\n\u001b[0;31m    a.28378273\u001b[0m\n\u001b[0m     ^\u001b[0m\n\u001b[0;31mSyntaxError\u001b[0m\u001b[0;31m:\u001b[0m invalid syntax\n"
     ]
    }
   ],
   "source": [
    "a.28378273"
   ]
  },
  {
   "cell_type": "code",
   "execution_count": 26,
   "id": "a098209b",
   "metadata": {},
   "outputs": [
    {
     "data": {
      "text/plain": [
       "'yyyy'"
      ]
     },
     "execution_count": 26,
     "metadata": {},
     "output_type": "execute_result"
    }
   ],
   "source": [
    "getattr(a, \"28378273\")"
   ]
  },
  {
   "cell_type": "code",
   "execution_count": 27,
   "id": "8d78b0ee",
   "metadata": {},
   "outputs": [
    {
     "data": {
      "text/plain": [
       "mappingproxy({'__module__': '__main__',\n",
       "              'name': 'cls_name',\n",
       "              '_ClassA__cls_private': 'cls_private',\n",
       "              '__init__': <function __main__.ClassA.__init__(self, val)>,\n",
       "              'print': <function __main__.ClassA.print(self)>,\n",
       "              'print_new': <function __main__.ClassA.print_new(self)>,\n",
       "              'update': <function __main__.ClassA.update(self)>,\n",
       "              '__dict__': <attribute '__dict__' of 'ClassA' objects>,\n",
       "              '__weakref__': <attribute '__weakref__' of 'ClassA' objects>,\n",
       "              '__doc__': None})"
      ]
     },
     "execution_count": 27,
     "metadata": {},
     "output_type": "execute_result"
    }
   ],
   "source": [
    "ClassA.__dict__"
   ]
  },
  {
   "cell_type": "code",
   "execution_count": 28,
   "id": "4a489853",
   "metadata": {},
   "outputs": [
    {
     "ename": "TypeError",
     "evalue": "'mappingproxy' object does not support item assignment",
     "output_type": "error",
     "traceback": [
      "\u001b[0;31m---------------------------------------------------------------------------\u001b[0m",
      "\u001b[0;31mTypeError\u001b[0m                                 Traceback (most recent call last)",
      "Input \u001b[0;32mIn [28]\u001b[0m, in \u001b[0;36m<cell line: 1>\u001b[0;34m()\u001b[0m\n\u001b[0;32m----> 1\u001b[0m ClassA\u001b[38;5;241m.\u001b[39m\u001b[38;5;18m__dict__\u001b[39m[\u001b[38;5;124m\"\u001b[39m\u001b[38;5;124mxxx\u001b[39m\u001b[38;5;124m\"\u001b[39m] \u001b[38;5;241m=\u001b[39m \u001b[38;5;124m\"\u001b[39m\u001b[38;5;124mtete\u001b[39m\u001b[38;5;124m\"\u001b[39m\n",
      "\u001b[0;31mTypeError\u001b[0m: 'mappingproxy' object does not support item assignment"
     ]
    }
   ],
   "source": [
    "ClassA.__dict__[\"xxx\"] = \"tete\""
   ]
  },
  {
   "cell_type": "code",
   "execution_count": 29,
   "id": "998dcf7c",
   "metadata": {},
   "outputs": [],
   "source": [
    "ClassA.qwert = \"qwery\""
   ]
  },
  {
   "cell_type": "code",
   "execution_count": 30,
   "id": "063b437d",
   "metadata": {},
   "outputs": [
    {
     "data": {
      "text/plain": [
       "mappingproxy({'__module__': '__main__',\n",
       "              'name': 'cls_name',\n",
       "              '_ClassA__cls_private': 'cls_private',\n",
       "              '__init__': <function __main__.ClassA.__init__(self, val)>,\n",
       "              'print': <function __main__.ClassA.print(self)>,\n",
       "              'print_new': <function __main__.ClassA.print_new(self)>,\n",
       "              'update': <function __main__.ClassA.update(self)>,\n",
       "              '__dict__': <attribute '__dict__' of 'ClassA' objects>,\n",
       "              '__weakref__': <attribute '__weakref__' of 'ClassA' objects>,\n",
       "              '__doc__': None,\n",
       "              'qwert': 'qwery'})"
      ]
     },
     "execution_count": 30,
     "metadata": {},
     "output_type": "execute_result"
    }
   ],
   "source": [
    "ClassA.__dict__"
   ]
  },
  {
   "cell_type": "code",
   "execution_count": 31,
   "id": "43dc9cab",
   "metadata": {},
   "outputs": [
    {
     "data": {
      "text/plain": [
       "'cls_name'"
      ]
     },
     "execution_count": 31,
     "metadata": {},
     "output_type": "execute_result"
    }
   ],
   "source": [
    "a.name"
   ]
  },
  {
   "cell_type": "code",
   "execution_count": 32,
   "id": "c4eff9ed",
   "metadata": {},
   "outputs": [
    {
     "data": {
      "text/plain": [
       "'cls_name'"
      ]
     },
     "execution_count": 32,
     "metadata": {},
     "output_type": "execute_result"
    }
   ],
   "source": [
    "ClassA.name"
   ]
  },
  {
   "cell_type": "code",
   "execution_count": 33,
   "id": "2e12dac5",
   "metadata": {},
   "outputs": [
    {
     "data": {
      "text/plain": [
       "{'val': 42,\n",
       " '_protected': 'new_prot',\n",
       " '_ClassA__private': 'new_priv',\n",
       " 'xxx': 'yyyy',\n",
       " '28378273': 'yyyy'}"
      ]
     },
     "execution_count": 33,
     "metadata": {},
     "output_type": "execute_result"
    }
   ],
   "source": [
    "a.__dict__"
   ]
  },
  {
   "cell_type": "code",
   "execution_count": 34,
   "id": "ab3d5bee",
   "metadata": {},
   "outputs": [],
   "source": [
    "a.name = \"instance_name\""
   ]
  },
  {
   "cell_type": "code",
   "execution_count": 35,
   "id": "bb0cd597",
   "metadata": {},
   "outputs": [
    {
     "data": {
      "text/plain": [
       "'instance_name'"
      ]
     },
     "execution_count": 35,
     "metadata": {},
     "output_type": "execute_result"
    }
   ],
   "source": [
    "a.name"
   ]
  },
  {
   "cell_type": "code",
   "execution_count": 36,
   "id": "794dcb2a",
   "metadata": {},
   "outputs": [
    {
     "data": {
      "text/plain": [
       "'cls_name'"
      ]
     },
     "execution_count": 36,
     "metadata": {},
     "output_type": "execute_result"
    }
   ],
   "source": [
    "ClassA.name"
   ]
  },
  {
   "cell_type": "code",
   "execution_count": 37,
   "id": "74b73374",
   "metadata": {},
   "outputs": [
    {
     "data": {
      "text/plain": [
       "{'val': 42,\n",
       " '_protected': 'new_prot',\n",
       " '_ClassA__private': 'new_priv',\n",
       " 'xxx': 'yyyy',\n",
       " '28378273': 'yyyy',\n",
       " 'name': 'instance_name'}"
      ]
     },
     "execution_count": 37,
     "metadata": {},
     "output_type": "execute_result"
    }
   ],
   "source": [
    "a.__dict__"
   ]
  },
  {
   "cell_type": "code",
   "execution_count": 38,
   "id": "0f85b96a",
   "metadata": {},
   "outputs": [
    {
     "data": {
      "text/plain": [
       "mappingproxy({'__module__': '__main__',\n",
       "              'name': 'cls_name',\n",
       "              '_ClassA__cls_private': 'cls_private',\n",
       "              '__init__': <function __main__.ClassA.__init__(self, val)>,\n",
       "              'print': <function __main__.ClassA.print(self)>,\n",
       "              'print_new': <function __main__.ClassA.print_new(self)>,\n",
       "              'update': <function __main__.ClassA.update(self)>,\n",
       "              '__dict__': <attribute '__dict__' of 'ClassA' objects>,\n",
       "              '__weakref__': <attribute '__weakref__' of 'ClassA' objects>,\n",
       "              '__doc__': None,\n",
       "              'qwert': 'qwery'})"
      ]
     },
     "execution_count": 38,
     "metadata": {},
     "output_type": "execute_result"
    }
   ],
   "source": [
    "ClassA.__dict__"
   ]
  },
  {
   "cell_type": "code",
   "execution_count": 39,
   "id": "1a632fe0",
   "metadata": {},
   "outputs": [
    {
     "data": {
      "text/plain": [
       "['28378273',\n",
       " '_ClassA__cls_private',\n",
       " '_ClassA__private',\n",
       " '__class__',\n",
       " '__delattr__',\n",
       " '__dict__',\n",
       " '__dir__',\n",
       " '__doc__',\n",
       " '__eq__',\n",
       " '__format__',\n",
       " '__ge__',\n",
       " '__getattribute__',\n",
       " '__gt__',\n",
       " '__hash__',\n",
       " '__init__',\n",
       " '__init_subclass__',\n",
       " '__le__',\n",
       " '__lt__',\n",
       " '__module__',\n",
       " '__ne__',\n",
       " '__new__',\n",
       " '__reduce__',\n",
       " '__reduce_ex__',\n",
       " '__repr__',\n",
       " '__setattr__',\n",
       " '__sizeof__',\n",
       " '__str__',\n",
       " '__subclasshook__',\n",
       " '__weakref__',\n",
       " '_protected',\n",
       " 'name',\n",
       " 'print',\n",
       " 'print_new',\n",
       " 'qwert',\n",
       " 'update',\n",
       " 'val',\n",
       " 'xxx']"
      ]
     },
     "execution_count": 39,
     "metadata": {},
     "output_type": "execute_result"
    }
   ],
   "source": [
    "dir(a)"
   ]
  },
  {
   "cell_type": "code",
   "execution_count": null,
   "id": "1062ba3f",
   "metadata": {},
   "outputs": [],
   "source": []
  },
  {
   "cell_type": "code",
   "execution_count": 40,
   "id": "c3cd8732",
   "metadata": {},
   "outputs": [],
   "source": [
    "a.__dict__[\"__priv_2\"] = \"priv2\""
   ]
  },
  {
   "cell_type": "code",
   "execution_count": 41,
   "id": "1c241177",
   "metadata": {},
   "outputs": [
    {
     "data": {
      "text/plain": [
       "{'val': 42,\n",
       " '_protected': 'new_prot',\n",
       " '_ClassA__private': 'new_priv',\n",
       " 'xxx': 'yyyy',\n",
       " '28378273': 'yyyy',\n",
       " 'name': 'instance_name',\n",
       " '__priv_2': 'priv2'}"
      ]
     },
     "execution_count": 41,
     "metadata": {},
     "output_type": "execute_result"
    }
   ],
   "source": [
    "a.__dict__"
   ]
  },
  {
   "cell_type": "code",
   "execution_count": 42,
   "id": "82f96846",
   "metadata": {},
   "outputs": [
    {
     "data": {
      "text/plain": [
       "'priv2'"
      ]
     },
     "execution_count": 42,
     "metadata": {},
     "output_type": "execute_result"
    }
   ],
   "source": [
    "a.__priv_2"
   ]
  },
  {
   "cell_type": "code",
   "execution_count": null,
   "id": "03e3ff1d",
   "metadata": {},
   "outputs": [],
   "source": []
  },
  {
   "cell_type": "code",
   "execution_count": 47,
   "id": "252f2d16",
   "metadata": {},
   "outputs": [],
   "source": [
    "a = ClassA(42)"
   ]
  },
  {
   "cell_type": "code",
   "execution_count": 48,
   "id": "21609d3b",
   "metadata": {},
   "outputs": [
    {
     "data": {
      "text/plain": [
       "{'val': 42, '_protected': 'protected', '_ClassA__private': 'private'}"
      ]
     },
     "execution_count": 48,
     "metadata": {},
     "output_type": "execute_result"
    }
   ],
   "source": [
    "a.__dict__"
   ]
  },
  {
   "cell_type": "code",
   "execution_count": 49,
   "id": "29937715",
   "metadata": {},
   "outputs": [],
   "source": [
    "a.__dict__[\"_ClassA__private_3\"] = \"priv_3\""
   ]
  },
  {
   "cell_type": "code",
   "execution_count": 50,
   "id": "529e345a",
   "metadata": {},
   "outputs": [
    {
     "data": {
      "text/plain": [
       "{'val': 42,\n",
       " '_protected': 'protected',\n",
       " '_ClassA__private': 'private',\n",
       " '_ClassA__private_3': 'priv_3'}"
      ]
     },
     "execution_count": 50,
     "metadata": {},
     "output_type": "execute_result"
    }
   ],
   "source": [
    "a.__dict__"
   ]
  },
  {
   "cell_type": "code",
   "execution_count": 51,
   "id": "b8f06d60",
   "metadata": {},
   "outputs": [
    {
     "name": "stdout",
     "output_type": "stream",
     "text": [
      "self.__private_3='priv_3'\n"
     ]
    }
   ],
   "source": [
    "a.print_new()"
   ]
  },
  {
   "cell_type": "code",
   "execution_count": null,
   "id": "37162ad3",
   "metadata": {},
   "outputs": [],
   "source": []
  },
  {
   "cell_type": "code",
   "execution_count": null,
   "id": "d5312bcf",
   "metadata": {},
   "outputs": [],
   "source": []
  },
  {
   "cell_type": "code",
   "execution_count": 52,
   "id": "d597a9f2",
   "metadata": {},
   "outputs": [
    {
     "data": {
      "text/plain": [
       "True"
      ]
     },
     "execution_count": 52,
     "metadata": {},
     "output_type": "execute_result"
    }
   ],
   "source": [
    "class Singleton:\n",
    "    _instance = None\n",
    "\n",
    "    def __new__(cls, *args, **kwargs):\n",
    "        if cls._instance is None:\n",
    "            cls._instance = super().__new__(cls)\n",
    "        return cls._instance\n",
    "\n",
    "\n",
    "s1 = Singleton()\n",
    "s2 = Singleton()\n",
    "\n",
    "s1 is s2"
   ]
  },
  {
   "cell_type": "code",
   "execution_count": 58,
   "id": "9b3dd597",
   "metadata": {},
   "outputs": [],
   "source": [
    "class DbDriver:\n",
    "    pass\n",
    "\n",
    "\n",
    "class Connector:\n",
    "    def __init__(self, db_name):\n",
    "        self.conn = DbDriver()\n",
    "\n",
    "    def __del__(self):\n",
    "        #self.conn.close()\n",
    "        print(\"DEL\")\n",
    "\n",
    "\n",
    "db = Connector(\"users\")  # [Connector] #### <- db\n",
    "db1 = db                 # [Connector] <- db1"
   ]
  },
  {
   "cell_type": "code",
   "execution_count": 56,
   "id": "738447ba",
   "metadata": {},
   "outputs": [],
   "source": [
    "del db"
   ]
  },
  {
   "cell_type": "code",
   "execution_count": 57,
   "id": "7da9d713",
   "metadata": {},
   "outputs": [
    {
     "name": "stdout",
     "output_type": "stream",
     "text": [
      "DEL\n"
     ]
    }
   ],
   "source": [
    "del db1"
   ]
  },
  {
   "cell_type": "code",
   "execution_count": 59,
   "id": "73c7d84f",
   "metadata": {},
   "outputs": [],
   "source": [
    "db = None   # [None] <- db"
   ]
  },
  {
   "cell_type": "code",
   "execution_count": 60,
   "id": "cc580ed3",
   "metadata": {},
   "outputs": [
    {
     "name": "stdout",
     "output_type": "stream",
     "text": [
      "DEL\n"
     ]
    }
   ],
   "source": [
    "db1 = None"
   ]
  },
  {
   "cell_type": "code",
   "execution_count": null,
   "id": "ce8de82a",
   "metadata": {},
   "outputs": [],
   "source": []
  },
  {
   "cell_type": "code",
   "execution_count": null,
   "id": "6937f03a",
   "metadata": {},
   "outputs": [],
   "source": []
  },
  {
   "cell_type": "code",
   "execution_count": 61,
   "id": "0237534f",
   "metadata": {},
   "outputs": [],
   "source": [
    "class AuthorName:\n",
    "    def __init__(self, name):\n",
    "        self.name = name\n",
    "\n",
    "    @property\n",
    "    def name(self):\n",
    "        return f\"My name is {self.__name}\"\n",
    "    \n",
    "    @name.setter\n",
    "    def name(self, val):\n",
    "        print(\"set_name\", val)\n",
    "    \n",
    "        if isinstance(val, str):\n",
    "            self.__name = val\n",
    "        else:\n",
    "            raise Exception(\"wrong type\")\n",
    "    \n",
    "    @name.deleter\n",
    "    def name(self):\n",
    "        print(\"DELTE\")\n",
    "        del self.__name"
   ]
  },
  {
   "cell_type": "code",
   "execution_count": 62,
   "id": "a2f99e22",
   "metadata": {},
   "outputs": [
    {
     "name": "stdout",
     "output_type": "stream",
     "text": [
      "set_name Nosov\n"
     ]
    }
   ],
   "source": [
    "nosov = AuthorName(\"Nosov\")"
   ]
  },
  {
   "cell_type": "code",
   "execution_count": 63,
   "id": "a45eb7e8",
   "metadata": {},
   "outputs": [
    {
     "data": {
      "text/plain": [
       "{'_AuthorName__name': 'Nosov'}"
      ]
     },
     "execution_count": 63,
     "metadata": {},
     "output_type": "execute_result"
    }
   ],
   "source": [
    "nosov.__dict__"
   ]
  },
  {
   "cell_type": "code",
   "execution_count": 64,
   "id": "a9543567",
   "metadata": {},
   "outputs": [
    {
     "data": {
      "text/plain": [
       "mappingproxy({'__module__': '__main__',\n",
       "              '__init__': <function __main__.AuthorName.__init__(self, name)>,\n",
       "              'name': <property at 0x112d5ea70>,\n",
       "              '__dict__': <attribute '__dict__' of 'AuthorName' objects>,\n",
       "              '__weakref__': <attribute '__weakref__' of 'AuthorName' objects>,\n",
       "              '__doc__': None})"
      ]
     },
     "execution_count": 64,
     "metadata": {},
     "output_type": "execute_result"
    }
   ],
   "source": [
    "AuthorName.__dict__"
   ]
  },
  {
   "cell_type": "code",
   "execution_count": 65,
   "id": "8a927965",
   "metadata": {},
   "outputs": [
    {
     "data": {
      "text/plain": [
       "'My name is Nosov'"
      ]
     },
     "execution_count": 65,
     "metadata": {},
     "output_type": "execute_result"
    }
   ],
   "source": [
    "nosov.name"
   ]
  },
  {
   "cell_type": "code",
   "execution_count": 66,
   "id": "09204b80",
   "metadata": {},
   "outputs": [
    {
     "name": "stdout",
     "output_type": "stream",
     "text": [
      "set_name 1\n"
     ]
    },
    {
     "ename": "Exception",
     "evalue": "wrong type",
     "output_type": "error",
     "traceback": [
      "\u001b[0;31m---------------------------------------------------------------------------\u001b[0m",
      "\u001b[0;31mException\u001b[0m                                 Traceback (most recent call last)",
      "Input \u001b[0;32mIn [66]\u001b[0m, in \u001b[0;36m<cell line: 1>\u001b[0;34m()\u001b[0m\n\u001b[0;32m----> 1\u001b[0m nosov\u001b[38;5;241m.\u001b[39mname \u001b[38;5;241m=\u001b[39m \u001b[38;5;241m1\u001b[39m\n",
      "Input \u001b[0;32mIn [61]\u001b[0m, in \u001b[0;36mAuthorName.name\u001b[0;34m(self, val)\u001b[0m\n\u001b[1;32m     14\u001b[0m     \u001b[38;5;28mself\u001b[39m\u001b[38;5;241m.\u001b[39m__name \u001b[38;5;241m=\u001b[39m val\n\u001b[1;32m     15\u001b[0m \u001b[38;5;28;01melse\u001b[39;00m:\n\u001b[0;32m---> 16\u001b[0m     \u001b[38;5;28;01mraise\u001b[39;00m \u001b[38;5;167;01mException\u001b[39;00m(\u001b[38;5;124m\"\u001b[39m\u001b[38;5;124mwrong type\u001b[39m\u001b[38;5;124m\"\u001b[39m)\n",
      "\u001b[0;31mException\u001b[0m: wrong type"
     ]
    }
   ],
   "source": [
    "nosov.name = 1"
   ]
  },
  {
   "cell_type": "code",
   "execution_count": 79,
   "id": "8d5a9169",
   "metadata": {},
   "outputs": [
    {
     "name": "stdout",
     "output_type": "stream",
     "text": [
      "DELTE\n"
     ]
    }
   ],
   "source": [
    "del nosov.name"
   ]
  },
  {
   "cell_type": "code",
   "execution_count": 80,
   "id": "2e53bdf7",
   "metadata": {},
   "outputs": [
    {
     "ename": "AttributeError",
     "evalue": "'AuthorName' object has no attribute '_AuthorName__name'",
     "output_type": "error",
     "traceback": [
      "\u001b[0;31m---------------------------------------------------------------------------\u001b[0m",
      "\u001b[0;31mAttributeError\u001b[0m                            Traceback (most recent call last)",
      "Input \u001b[0;32mIn [80]\u001b[0m, in \u001b[0;36m<cell line: 1>\u001b[0;34m()\u001b[0m\n\u001b[0;32m----> 1\u001b[0m \u001b[43mnosov\u001b[49m\u001b[38;5;241;43m.\u001b[39;49m\u001b[43mname\u001b[49m\n",
      "Input \u001b[0;32mIn [61]\u001b[0m, in \u001b[0;36mAuthorName.name\u001b[0;34m(self)\u001b[0m\n\u001b[1;32m      5\u001b[0m \u001b[38;5;129m@property\u001b[39m\n\u001b[1;32m      6\u001b[0m \u001b[38;5;28;01mdef\u001b[39;00m \u001b[38;5;21mname\u001b[39m(\u001b[38;5;28mself\u001b[39m):\n\u001b[0;32m----> 7\u001b[0m     \u001b[38;5;28;01mreturn\u001b[39;00m \u001b[38;5;124mf\u001b[39m\u001b[38;5;124m\"\u001b[39m\u001b[38;5;124mMy name is \u001b[39m\u001b[38;5;132;01m{\u001b[39;00m\u001b[38;5;28mself\u001b[39m\u001b[38;5;241m.\u001b[39m__name\u001b[38;5;132;01m}\u001b[39;00m\u001b[38;5;124m\"\u001b[39m\n",
      "\u001b[0;31mAttributeError\u001b[0m: 'AuthorName' object has no attribute '_AuthorName__name'"
     ]
    }
   ],
   "source": [
    "nosov.name"
   ]
  },
  {
   "cell_type": "code",
   "execution_count": 81,
   "id": "3cfcde7e",
   "metadata": {},
   "outputs": [
    {
     "name": "stdout",
     "output_type": "stream",
     "text": [
      "set_name dkwjdjhwjd\n"
     ]
    }
   ],
   "source": [
    "nosov.name = \"dkwjdjhwjd\""
   ]
  },
  {
   "cell_type": "code",
   "execution_count": 82,
   "id": "416c2acf",
   "metadata": {},
   "outputs": [
    {
     "data": {
      "text/plain": [
       "'My name is dkwjdjhwjd'"
      ]
     },
     "execution_count": 82,
     "metadata": {},
     "output_type": "execute_result"
    }
   ],
   "source": [
    "nosov.name"
   ]
  },
  {
   "cell_type": "code",
   "execution_count": null,
   "id": "70aab2f4",
   "metadata": {},
   "outputs": [],
   "source": []
  },
  {
   "cell_type": "code",
   "execution_count": null,
   "id": "2a95be02",
   "metadata": {},
   "outputs": [],
   "source": []
  },
  {
   "cell_type": "code",
   "execution_count": null,
   "id": "89ae6d9c",
   "metadata": {},
   "outputs": [],
   "source": []
  },
  {
   "cell_type": "code",
   "execution_count": null,
   "id": "27eb5848",
   "metadata": {},
   "outputs": [],
   "source": []
  },
  {
   "cell_type": "code",
   "execution_count": null,
   "id": "f23da314",
   "metadata": {},
   "outputs": [],
   "source": []
  },
  {
   "cell_type": "code",
   "execution_count": 70,
   "id": "4dbeef42",
   "metadata": {},
   "outputs": [],
   "source": [
    "def make_hash_from_password(password):\n",
    "    return hash(password)\n",
    "\n",
    "\n",
    "class Author:\n",
    "    def __init__(self, name, password):\n",
    "        self.__name = name\n",
    "        self.password_hash = None\n",
    "        self.password = password\n",
    "\n",
    "    @property\n",
    "    def name(self):\n",
    "        \"\"\"name is read-only\"\"\"\n",
    "        return self.__name\n",
    "\n",
    "    @property\n",
    "    def password(self):\n",
    "        raise AttributeError(\"Password is write-only\")\n",
    "\n",
    "    @password.setter\n",
    "    def password(self, plaintext):\n",
    "        self.password_hash = make_hash_from_password(plaintext)\n"
   ]
  },
  {
   "cell_type": "code",
   "execution_count": 71,
   "id": "ce319dbf",
   "metadata": {},
   "outputs": [],
   "source": [
    "auth = Author(\"auth\", \"duhgd33yg18g\")"
   ]
  },
  {
   "cell_type": "code",
   "execution_count": 72,
   "id": "667834ad",
   "metadata": {},
   "outputs": [
    {
     "data": {
      "text/plain": [
       "'auth'"
      ]
     },
     "execution_count": 72,
     "metadata": {},
     "output_type": "execute_result"
    }
   ],
   "source": [
    "auth.name"
   ]
  },
  {
   "cell_type": "code",
   "execution_count": 73,
   "id": "7b223b8f",
   "metadata": {},
   "outputs": [
    {
     "ename": "AttributeError",
     "evalue": "can't set attribute 'name'",
     "output_type": "error",
     "traceback": [
      "\u001b[0;31m---------------------------------------------------------------------------\u001b[0m",
      "\u001b[0;31mAttributeError\u001b[0m                            Traceback (most recent call last)",
      "Input \u001b[0;32mIn [73]\u001b[0m, in \u001b[0;36m<cell line: 1>\u001b[0;34m()\u001b[0m\n\u001b[0;32m----> 1\u001b[0m auth\u001b[38;5;241m.\u001b[39mname \u001b[38;5;241m=\u001b[39m \u001b[38;5;124m\"\u001b[39m\u001b[38;5;124mdwdw\u001b[39m\u001b[38;5;124m\"\u001b[39m\n",
      "\u001b[0;31mAttributeError\u001b[0m: can't set attribute 'name'"
     ]
    }
   ],
   "source": [
    "auth.name = \"dwdw\""
   ]
  },
  {
   "cell_type": "code",
   "execution_count": 74,
   "id": "5d21ee4d",
   "metadata": {},
   "outputs": [
    {
     "ename": "AttributeError",
     "evalue": "Password is write-only",
     "output_type": "error",
     "traceback": [
      "\u001b[0;31m---------------------------------------------------------------------------\u001b[0m",
      "\u001b[0;31mAttributeError\u001b[0m                            Traceback (most recent call last)",
      "Input \u001b[0;32mIn [74]\u001b[0m, in \u001b[0;36m<cell line: 1>\u001b[0;34m()\u001b[0m\n\u001b[0;32m----> 1\u001b[0m \u001b[43mauth\u001b[49m\u001b[38;5;241;43m.\u001b[39;49m\u001b[43mpassword\u001b[49m\n",
      "Input \u001b[0;32mIn [70]\u001b[0m, in \u001b[0;36mAuthor.password\u001b[0;34m(self)\u001b[0m\n\u001b[1;32m     16\u001b[0m \u001b[38;5;129m@property\u001b[39m\n\u001b[1;32m     17\u001b[0m \u001b[38;5;28;01mdef\u001b[39;00m \u001b[38;5;21mpassword\u001b[39m(\u001b[38;5;28mself\u001b[39m):\n\u001b[0;32m---> 18\u001b[0m     \u001b[38;5;28;01mraise\u001b[39;00m \u001b[38;5;167;01mAttributeError\u001b[39;00m(\u001b[38;5;124m\"\u001b[39m\u001b[38;5;124mPassword is write-only\u001b[39m\u001b[38;5;124m\"\u001b[39m)\n",
      "\u001b[0;31mAttributeError\u001b[0m: Password is write-only"
     ]
    }
   ],
   "source": [
    "auth.password"
   ]
  },
  {
   "cell_type": "code",
   "execution_count": 75,
   "id": "56589f6f",
   "metadata": {},
   "outputs": [
    {
     "data": {
      "text/plain": [
       "-5886841388883996165"
      ]
     },
     "execution_count": 75,
     "metadata": {},
     "output_type": "execute_result"
    }
   ],
   "source": [
    "auth.password_hash"
   ]
  },
  {
   "cell_type": "code",
   "execution_count": 76,
   "id": "f29215de",
   "metadata": {},
   "outputs": [],
   "source": [
    "auth.password = \"leljejenf2bkjen2uofu2befkjjb2e\""
   ]
  },
  {
   "cell_type": "code",
   "execution_count": 77,
   "id": "11c74f99",
   "metadata": {},
   "outputs": [
    {
     "data": {
      "text/plain": [
       "-2434722695194480239"
      ]
     },
     "execution_count": 77,
     "metadata": {},
     "output_type": "execute_result"
    }
   ],
   "source": [
    "auth.password_hash"
   ]
  },
  {
   "cell_type": "code",
   "execution_count": 78,
   "id": "379e3f9d",
   "metadata": {},
   "outputs": [
    {
     "ename": "AttributeError",
     "evalue": "Password is write-only",
     "output_type": "error",
     "traceback": [
      "\u001b[0;31m---------------------------------------------------------------------------\u001b[0m",
      "\u001b[0;31mAttributeError\u001b[0m                            Traceback (most recent call last)",
      "Input \u001b[0;32mIn [78]\u001b[0m, in \u001b[0;36m<cell line: 1>\u001b[0;34m()\u001b[0m\n\u001b[0;32m----> 1\u001b[0m \u001b[43mauth\u001b[49m\u001b[38;5;241;43m.\u001b[39;49m\u001b[43mpassword\u001b[49m\n",
      "Input \u001b[0;32mIn [70]\u001b[0m, in \u001b[0;36mAuthor.password\u001b[0;34m(self)\u001b[0m\n\u001b[1;32m     16\u001b[0m \u001b[38;5;129m@property\u001b[39m\n\u001b[1;32m     17\u001b[0m \u001b[38;5;28;01mdef\u001b[39;00m \u001b[38;5;21mpassword\u001b[39m(\u001b[38;5;28mself\u001b[39m):\n\u001b[0;32m---> 18\u001b[0m     \u001b[38;5;28;01mraise\u001b[39;00m \u001b[38;5;167;01mAttributeError\u001b[39;00m(\u001b[38;5;124m\"\u001b[39m\u001b[38;5;124mPassword is write-only\u001b[39m\u001b[38;5;124m\"\u001b[39m)\n",
      "\u001b[0;31mAttributeError\u001b[0m: Password is write-only"
     ]
    }
   ],
   "source": [
    "auth.password"
   ]
  },
  {
   "cell_type": "code",
   "execution_count": null,
   "id": "624d7436",
   "metadata": {},
   "outputs": [],
   "source": []
  },
  {
   "cell_type": "code",
   "execution_count": null,
   "id": "801d2152",
   "metadata": {},
   "outputs": [],
   "source": []
  },
  {
   "cell_type": "code",
   "execution_count": 83,
   "id": "f839e745",
   "metadata": {},
   "outputs": [],
   "source": [
    "class Timing:\n",
    "    def __init__(self, start, end):\n",
    "        self.start = start\n",
    "        self.end = end\n",
    "    def duration(self):\n",
    "        print(\"Timing.duration\")\n",
    "        return self.end - self.start\n",
    "class MinuteTiming(Timing):\n",
    "    def duration(self):\n",
    "        print(\"MinuteTiming.duration\")\n",
    "        seconds = super().duration()\n",
    "        return seconds / 60"
   ]
  },
  {
   "cell_type": "code",
   "execution_count": 86,
   "id": "82036c38",
   "metadata": {},
   "outputs": [
    {
     "data": {
      "text/plain": [
       "[__main__.D, __main__.B, __main__.C, __main__.A, object]"
      ]
     },
     "execution_count": 86,
     "metadata": {},
     "output_type": "execute_result"
    }
   ],
   "source": [
    "class A:\n",
    "    pass\n",
    "\n",
    "class B(A):\n",
    "    pass\n",
    "\n",
    "class C(A):\n",
    "    pass\n",
    "\n",
    "class D(B, C):\n",
    "    pass\n",
    "\n",
    "D.mro()"
   ]
  },
  {
   "cell_type": "code",
   "execution_count": 87,
   "id": "64cc2314",
   "metadata": {},
   "outputs": [
    {
     "data": {
      "text/plain": [
       "[__main__.D, __main__.C, __main__.B, __main__.A, object]"
      ]
     },
     "execution_count": 87,
     "metadata": {},
     "output_type": "execute_result"
    }
   ],
   "source": [
    "class A:\n",
    "    pass\n",
    "\n",
    "class B(A):\n",
    "    pass\n",
    "\n",
    "class C(A):\n",
    "    pass\n",
    "\n",
    "class D(C, B):\n",
    "    pass\n",
    "\n",
    "D.mro()"
   ]
  },
  {
   "cell_type": "code",
   "execution_count": 88,
   "id": "8ed3c6d4",
   "metadata": {},
   "outputs": [
    {
     "data": {
      "text/plain": [
       "[__main__.D, __main__.C, __main__.B, __main__.A, object]"
      ]
     },
     "execution_count": 88,
     "metadata": {},
     "output_type": "execute_result"
    }
   ],
   "source": [
    "class A:\n",
    "    pass\n",
    "\n",
    "class B(A):\n",
    "    pass\n",
    "\n",
    "class C(A):\n",
    "    pass\n",
    "\n",
    "class D(C, B, A):\n",
    "    pass\n",
    "\n",
    "D.mro()"
   ]
  },
  {
   "cell_type": "code",
   "execution_count": 89,
   "id": "c709d149",
   "metadata": {},
   "outputs": [
    {
     "ename": "TypeError",
     "evalue": "Cannot create a consistent method resolution\norder (MRO) for bases A, C, B",
     "output_type": "error",
     "traceback": [
      "\u001b[0;31m---------------------------------------------------------------------------\u001b[0m",
      "\u001b[0;31mTypeError\u001b[0m                                 Traceback (most recent call last)",
      "Input \u001b[0;32mIn [89]\u001b[0m, in \u001b[0;36m<cell line: 10>\u001b[0;34m()\u001b[0m\n\u001b[1;32m      7\u001b[0m \u001b[38;5;28;01mclass\u001b[39;00m \u001b[38;5;21;01mC\u001b[39;00m(A):\n\u001b[1;32m      8\u001b[0m     \u001b[38;5;28;01mpass\u001b[39;00m\n\u001b[0;32m---> 10\u001b[0m \u001b[38;5;28;01mclass\u001b[39;00m \u001b[38;5;21;01mD\u001b[39;00m(A, C, B):\n\u001b[1;32m     11\u001b[0m     \u001b[38;5;28;01mpass\u001b[39;00m\n\u001b[1;32m     13\u001b[0m D\u001b[38;5;241m.\u001b[39mmro()\n",
      "\u001b[0;31mTypeError\u001b[0m: Cannot create a consistent method resolution\norder (MRO) for bases A, C, B"
     ]
    }
   ],
   "source": [
    "class A:\n",
    "    pass\n",
    "\n",
    "class B(A):\n",
    "    pass\n",
    "\n",
    "class C(A):\n",
    "    pass\n",
    "\n",
    "class D(A, C, B):\n",
    "    pass\n",
    "\n",
    "D.mro()"
   ]
  },
  {
   "cell_type": "code",
   "execution_count": null,
   "id": "45944bee",
   "metadata": {},
   "outputs": [],
   "source": []
  },
  {
   "cell_type": "code",
   "execution_count": null,
   "id": "c31d4135",
   "metadata": {},
   "outputs": [],
   "source": []
  },
  {
   "cell_type": "code",
   "execution_count": null,
   "id": "a7828c2c",
   "metadata": {},
   "outputs": [],
   "source": []
  },
  {
   "cell_type": "code",
   "execution_count": null,
   "id": "48c87a60",
   "metadata": {},
   "outputs": [],
   "source": []
  },
  {
   "cell_type": "code",
   "execution_count": null,
   "id": "6d83a029",
   "metadata": {},
   "outputs": [],
   "source": []
  },
  {
   "cell_type": "code",
   "execution_count": 90,
   "id": "9edb0c68",
   "metadata": {},
   "outputs": [
    {
     "name": "stdout",
     "output_type": "stream",
     "text": [
      "__setattr__ name='val', val=42\n"
     ]
    }
   ],
   "source": [
    "class AttrAccess:\n",
    "    name = \"cls_AttrAccess\"\n",
    "\n",
    "    def __init__(self, val):\n",
    "        self.val = val\n",
    "\n",
    "    def __getattribute__(self, name):\n",
    "        print(f\"__getattribute__ {name=}\")\n",
    "        return super().__getattribute__(name)\n",
    "        \n",
    "    def __getattr__(self, name):\n",
    "        print(f\"__getattr__ {name=}\")\n",
    "        raise AttributeError(\"no attr {name}\")\n",
    "        \n",
    "    def __setattr__(self, name, val):\n",
    "        print(f\"__setattr__ {name=}, {val=}\")\n",
    "        return super().__setattr__(name, val)\n",
    "    \n",
    "    def __delattr__(self, name):\n",
    "        print(f\"__delattr__ {name=}\")\n",
    "        return super().__delattr__(name)\n",
    "\n",
    "    \n",
    "aa = AttrAccess(42)"
   ]
  },
  {
   "cell_type": "code",
   "execution_count": 92,
   "id": "e7dbddda",
   "metadata": {},
   "outputs": [
    {
     "name": "stdout",
     "output_type": "stream",
     "text": [
      "__getattribute__ name='val'\n"
     ]
    },
    {
     "data": {
      "text/plain": [
       "42"
      ]
     },
     "execution_count": 92,
     "metadata": {},
     "output_type": "execute_result"
    }
   ],
   "source": [
    "getattr(aa, \"val\")"
   ]
  },
  {
   "cell_type": "code",
   "execution_count": 93,
   "id": "ca25903c",
   "metadata": {},
   "outputs": [
    {
     "name": "stdout",
     "output_type": "stream",
     "text": [
      "__setattr__ name='val', val=99\n"
     ]
    }
   ],
   "source": [
    "setattr(aa, \"val\", 99)"
   ]
  },
  {
   "cell_type": "code",
   "execution_count": 94,
   "id": "cffa6a31",
   "metadata": {},
   "outputs": [
    {
     "name": "stdout",
     "output_type": "stream",
     "text": [
      "__setattr__ name='val', val=105\n"
     ]
    }
   ],
   "source": [
    "aa.val = 105"
   ]
  },
  {
   "cell_type": "code",
   "execution_count": 96,
   "id": "d317dad5",
   "metadata": {},
   "outputs": [
    {
     "name": "stdout",
     "output_type": "stream",
     "text": [
      "__setattr__ name='val', val=206\n"
     ]
    }
   ],
   "source": [
    "fields = [(\"val\", 206)]\n",
    "\n",
    "for field, val in fields:\n",
    "    setattr(aa, field, val)"
   ]
  },
  {
   "cell_type": "code",
   "execution_count": 97,
   "id": "9f13e3c8",
   "metadata": {},
   "outputs": [
    {
     "name": "stdout",
     "output_type": "stream",
     "text": [
      "__setattr__ name='new_val', val='43'\n"
     ]
    }
   ],
   "source": [
    "aa.new_val = \"43\""
   ]
  },
  {
   "cell_type": "code",
   "execution_count": 98,
   "id": "da26366c",
   "metadata": {},
   "outputs": [
    {
     "name": "stdout",
     "output_type": "stream",
     "text": [
      "__getattribute__ name='unknown'\n",
      "__getattr__ name='unknown'\n"
     ]
    },
    {
     "ename": "AttributeError",
     "evalue": "no attr {name}",
     "output_type": "error",
     "traceback": [
      "\u001b[0;31m---------------------------------------------------------------------------\u001b[0m",
      "\u001b[0;31mAttributeError\u001b[0m                            Traceback (most recent call last)",
      "Input \u001b[0;32mIn [98]\u001b[0m, in \u001b[0;36m<cell line: 1>\u001b[0;34m()\u001b[0m\n\u001b[0;32m----> 1\u001b[0m \u001b[43maa\u001b[49m\u001b[38;5;241;43m.\u001b[39;49m\u001b[43munknown\u001b[49m\n",
      "Input \u001b[0;32mIn [90]\u001b[0m, in \u001b[0;36mAttrAccess.__getattr__\u001b[0;34m(self, name)\u001b[0m\n\u001b[1;32m     11\u001b[0m \u001b[38;5;28;01mdef\u001b[39;00m \u001b[38;5;21m__getattr__\u001b[39m(\u001b[38;5;28mself\u001b[39m, name):\n\u001b[1;32m     12\u001b[0m     \u001b[38;5;28mprint\u001b[39m(\u001b[38;5;124mf\u001b[39m\u001b[38;5;124m\"\u001b[39m\u001b[38;5;124m__getattr__ \u001b[39m\u001b[38;5;132;01m{\u001b[39;00mname\u001b[38;5;132;01m=}\u001b[39;00m\u001b[38;5;124m\"\u001b[39m)\n\u001b[0;32m---> 13\u001b[0m     \u001b[38;5;28;01mraise\u001b[39;00m \u001b[38;5;167;01mAttributeError\u001b[39;00m(\u001b[38;5;124m\"\u001b[39m\u001b[38;5;124mno attr \u001b[39m\u001b[38;5;132;01m{name}\u001b[39;00m\u001b[38;5;124m\"\u001b[39m)\n",
      "\u001b[0;31mAttributeError\u001b[0m: no attr {name}"
     ]
    }
   ],
   "source": [
    "aa.unknown"
   ]
  },
  {
   "cell_type": "code",
   "execution_count": 99,
   "id": "00257fb1",
   "metadata": {},
   "outputs": [
    {
     "name": "stdout",
     "output_type": "stream",
     "text": [
      "__setattr__ name='val', val=42\n"
     ]
    }
   ],
   "source": [
    "class AttrAccess:\n",
    "    name = \"cls_AttrAccess\"\n",
    "\n",
    "    def __init__(self, val):\n",
    "        self.val = val\n",
    "\n",
    "    def __getattribute__(self, name):\n",
    "        print(f\"__getattribute__ {name=}\")\n",
    "        return super().__getattribute__(name)\n",
    "        \n",
    "#     def __getattr__(self, name):\n",
    "#         print(f\"__getattr__ {name=}\")\n",
    "#         raise AttributeError(\"no attr {name}\")\n",
    "        \n",
    "    def __setattr__(self, name, val):\n",
    "        print(f\"__setattr__ {name=}, {val=}\")\n",
    "        return super().__setattr__(name, val)\n",
    "    \n",
    "    def __delattr__(self, name):\n",
    "        print(f\"__delattr__ {name=}\")\n",
    "        return super().__delattr__(name)\n",
    "\n",
    "    \n",
    "aa = AttrAccess(42)"
   ]
  },
  {
   "cell_type": "code",
   "execution_count": 100,
   "id": "5ad8d9cf",
   "metadata": {},
   "outputs": [
    {
     "name": "stdout",
     "output_type": "stream",
     "text": [
      "__getattribute__ name='unknown'\n"
     ]
    },
    {
     "ename": "AttributeError",
     "evalue": "'AttrAccess' object has no attribute 'unknown'",
     "output_type": "error",
     "traceback": [
      "\u001b[0;31m---------------------------------------------------------------------------\u001b[0m",
      "\u001b[0;31mAttributeError\u001b[0m                            Traceback (most recent call last)",
      "Input \u001b[0;32mIn [100]\u001b[0m, in \u001b[0;36m<cell line: 1>\u001b[0;34m()\u001b[0m\n\u001b[0;32m----> 1\u001b[0m \u001b[43maa\u001b[49m\u001b[38;5;241;43m.\u001b[39;49m\u001b[43munknown\u001b[49m\n",
      "Input \u001b[0;32mIn [99]\u001b[0m, in \u001b[0;36mAttrAccess.__getattribute__\u001b[0;34m(self, name)\u001b[0m\n\u001b[1;32m      7\u001b[0m \u001b[38;5;28;01mdef\u001b[39;00m \u001b[38;5;21m__getattribute__\u001b[39m(\u001b[38;5;28mself\u001b[39m, name):\n\u001b[1;32m      8\u001b[0m     \u001b[38;5;28mprint\u001b[39m(\u001b[38;5;124mf\u001b[39m\u001b[38;5;124m\"\u001b[39m\u001b[38;5;124m__getattribute__ \u001b[39m\u001b[38;5;132;01m{\u001b[39;00mname\u001b[38;5;132;01m=}\u001b[39;00m\u001b[38;5;124m\"\u001b[39m)\n\u001b[0;32m----> 9\u001b[0m     \u001b[38;5;28;01mreturn\u001b[39;00m \u001b[38;5;28;43msuper\u001b[39;49m\u001b[43m(\u001b[49m\u001b[43m)\u001b[49m\u001b[38;5;241;43m.\u001b[39;49m\u001b[38;5;21;43m__getattribute__\u001b[39;49m\u001b[43m(\u001b[49m\u001b[43mname\u001b[49m\u001b[43m)\u001b[49m\n",
      "\u001b[0;31mAttributeError\u001b[0m: 'AttrAccess' object has no attribute 'unknown'"
     ]
    }
   ],
   "source": [
    "aa.unknown"
   ]
  },
  {
   "cell_type": "code",
   "execution_count": null,
   "id": "8c5c2f76",
   "metadata": {},
   "outputs": [],
   "source": []
  },
  {
   "cell_type": "code",
   "execution_count": null,
   "id": "ff698fd2",
   "metadata": {},
   "outputs": [],
   "source": []
  },
  {
   "cell_type": "code",
   "execution_count": null,
   "id": "88a68bef",
   "metadata": {},
   "outputs": [],
   "source": []
  },
  {
   "cell_type": "code",
   "execution_count": null,
   "id": "541086a3",
   "metadata": {},
   "outputs": [],
   "source": []
  },
  {
   "cell_type": "code",
   "execution_count": 101,
   "id": "43c295f2",
   "metadata": {},
   "outputs": [],
   "source": [
    "class Timing:\n",
    "    def __init__(self, start, end):\n",
    "        self.start = start\n",
    "        self.end = end\n",
    "\n",
    "    @classmethod\n",
    "    def __init_subclass__(cls, **kwargs):\n",
    "        print(\"INIT subclass\", cls, kwargs)\n",
    "\n",
    "\n"
   ]
  },
  {
   "cell_type": "code",
   "execution_count": 102,
   "id": "cd887b60",
   "metadata": {},
   "outputs": [
    {
     "name": "stdout",
     "output_type": "stream",
     "text": [
      "INIT subclass <class '__main__.MinuteTiming'> {}\n"
     ]
    }
   ],
   "source": [
    "class MinuteTiming(Timing):\n",
    "    def duration(self):\n",
    "        print(\"MinuteTiming.duration\")\n",
    "        seconds = super().duration()\n",
    "        return seconds / 60"
   ]
  },
  {
   "cell_type": "code",
   "execution_count": null,
   "id": "8b874ef6",
   "metadata": {},
   "outputs": [],
   "source": []
  },
  {
   "cell_type": "code",
   "execution_count": null,
   "id": "f7603212",
   "metadata": {},
   "outputs": [],
   "source": []
  },
  {
   "cell_type": "code",
   "execution_count": null,
   "id": "4e31549e",
   "metadata": {},
   "outputs": [],
   "source": []
  },
  {
   "cell_type": "code",
   "execution_count": 113,
   "id": "6825696a",
   "metadata": {},
   "outputs": [
    {
     "data": {
      "text/plain": [
       "[__main__.Aspirant,\n",
       " __main__.Student,\n",
       " __main__.Professor,\n",
       " __main__.Person,\n",
       " object]"
      ]
     },
     "execution_count": 113,
     "metadata": {},
     "output_type": "execute_result"
    }
   ],
   "source": [
    "class Person:\n",
    "    def __init__(self, name):\n",
    "        print(f\"Person.init({name=}, {self=})\")\n",
    "#         self.name = name\n",
    "        self.__name = name\n",
    "\n",
    "    def eat(self):\n",
    "        print(f\"Person.eat({self=})\")\n",
    "\n",
    "\n",
    "class Student(Person):\n",
    "    def __init__(self, school, *args, **kwargs):\n",
    "        print(f\"Student.init({school=}, {args=})\")\n",
    "\n",
    "        super().__init__(*args, **kwargs)\n",
    "        self.school = school\n",
    "\n",
    "\n",
    "class Professor(Person):\n",
    "    def __init__(self, degree, *args, **kwargs):\n",
    "        print(f\"Professor.init({degree=}, {args=})\")\n",
    "        super().__init__(*args, **kwargs)\n",
    "\n",
    "        self.degree = degree\n",
    "    \n",
    "    def eat(self):\n",
    "        print(f\"Professor.eat({self=})\")\n",
    "        \n",
    "\n",
    "class Aspirant(Student, Professor):\n",
    "    pass\n",
    "\n",
    "\n",
    "Aspirant.mro()"
   ]
  },
  {
   "cell_type": "code",
   "execution_count": 114,
   "id": "88f046e9",
   "metadata": {},
   "outputs": [
    {
     "name": "stdout",
     "output_type": "stream",
     "text": [
      "Student.init(school='MSE', args=('doctor', 'Steve'))\n",
      "Professor.init(degree='doctor', args=('Steve',))\n",
      "Person.init(name='Steve', self=<__main__.Aspirant object at 0x113390670>)\n"
     ]
    }
   ],
   "source": [
    "asp = Aspirant(\"MSE\", \"doctor\", \"Steve\")"
   ]
  },
  {
   "cell_type": "code",
   "execution_count": 115,
   "id": "337fa203",
   "metadata": {},
   "outputs": [
    {
     "data": {
      "text/plain": [
       "{'_Person__name': 'Steve', 'degree': 'doctor', 'school': 'MSE'}"
      ]
     },
     "execution_count": 115,
     "metadata": {},
     "output_type": "execute_result"
    }
   ],
   "source": [
    "asp.__dict__"
   ]
  },
  {
   "cell_type": "code",
   "execution_count": 116,
   "id": "f0460c91",
   "metadata": {},
   "outputs": [
    {
     "name": "stdout",
     "output_type": "stream",
     "text": [
      "Professor.eat(self=<__main__.Aspirant object at 0x113390670>)\n"
     ]
    }
   ],
   "source": [
    "asp.eat()"
   ]
  },
  {
   "cell_type": "code",
   "execution_count": null,
   "id": "b03c5ec3",
   "metadata": {},
   "outputs": [],
   "source": []
  }
 ],
 "metadata": {
  "kernelspec": {
   "display_name": "Python 3 (ipykernel)",
   "language": "python",
   "name": "python3"
  },
  "language_info": {
   "codemirror_mode": {
    "name": "ipython",
    "version": 3
   },
   "file_extension": ".py",
   "mimetype": "text/x-python",
   "name": "python",
   "nbconvert_exporter": "python",
   "pygments_lexer": "ipython3",
   "version": "3.10.2"
  }
 },
 "nbformat": 4,
 "nbformat_minor": 5
}
