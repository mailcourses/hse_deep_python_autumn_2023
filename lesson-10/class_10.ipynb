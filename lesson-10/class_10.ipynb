{
 "cells": [
  {
   "cell_type": "code",
   "execution_count": 1,
   "id": "df58663e",
   "metadata": {},
   "outputs": [],
   "source": [
    "import sys"
   ]
  },
  {
   "cell_type": "code",
   "execution_count": 3,
   "id": "53ee118f",
   "metadata": {},
   "outputs": [
    {
     "data": {
      "text/plain": [
       "<function sys.getrefcount(object, /)>"
      ]
     },
     "execution_count": 3,
     "metadata": {},
     "output_type": "execute_result"
    }
   ],
   "source": [
    "sys.getrefcount"
   ]
  },
  {
   "cell_type": "code",
   "execution_count": 6,
   "id": "3aa4566c",
   "metadata": {},
   "outputs": [
    {
     "data": {
      "text/plain": [
       "28"
      ]
     },
     "execution_count": 6,
     "metadata": {},
     "output_type": "execute_result"
    }
   ],
   "source": [
    "sys.getrefcount(\"import\")"
   ]
  },
  {
   "cell_type": "code",
   "execution_count": 7,
   "id": "d30b91ba",
   "metadata": {},
   "outputs": [],
   "source": [
    "import cProfile"
   ]
  },
  {
   "cell_type": "code",
   "execution_count": 8,
   "id": "16183bda",
   "metadata": {},
   "outputs": [
    {
     "data": {
      "text/plain": [
       "28"
      ]
     },
     "execution_count": 8,
     "metadata": {},
     "output_type": "execute_result"
    }
   ],
   "source": [
    "sys.getrefcount(\"import\")"
   ]
  },
  {
   "cell_type": "code",
   "execution_count": 9,
   "id": "1466bff0",
   "metadata": {},
   "outputs": [],
   "source": [
    "import_str = \"import\""
   ]
  },
  {
   "cell_type": "code",
   "execution_count": 10,
   "id": "1ced18fb",
   "metadata": {},
   "outputs": [
    {
     "data": {
      "text/plain": [
       "29"
      ]
     },
     "execution_count": 10,
     "metadata": {},
     "output_type": "execute_result"
    }
   ],
   "source": [
    "sys.getrefcount(\"import\")"
   ]
  },
  {
   "cell_type": "code",
   "execution_count": 11,
   "id": "3836dbbb",
   "metadata": {},
   "outputs": [
    {
     "data": {
      "text/plain": [
       "9"
      ]
     },
     "execution_count": 11,
     "metadata": {},
     "output_type": "execute_result"
    }
   ],
   "source": [
    "sys.getrefcount(-5)"
   ]
  },
  {
   "cell_type": "code",
   "execution_count": 12,
   "id": "cac4ac04",
   "metadata": {},
   "outputs": [
    {
     "data": {
      "text/plain": [
       "2"
      ]
     },
     "execution_count": 12,
     "metadata": {},
     "output_type": "execute_result"
    }
   ],
   "source": [
    "sys.getrefcount(-6)"
   ]
  },
  {
   "cell_type": "code",
   "execution_count": 13,
   "id": "5557a035",
   "metadata": {},
   "outputs": [
    {
     "data": {
      "text/plain": [
       "5983"
      ]
     },
     "execution_count": 13,
     "metadata": {},
     "output_type": "execute_result"
    }
   ],
   "source": [
    "sys.getrefcount(0)"
   ]
  },
  {
   "cell_type": "code",
   "execution_count": 14,
   "id": "3f86215e",
   "metadata": {},
   "outputs": [
    {
     "data": {
      "text/plain": [
       "(91, 3)"
      ]
     },
     "execution_count": 14,
     "metadata": {},
     "output_type": "execute_result"
    }
   ],
   "source": [
    "sys.getrefcount(256), sys.getrefcount(257)"
   ]
  },
  {
   "cell_type": "code",
   "execution_count": 15,
   "id": "b08527c8",
   "metadata": {},
   "outputs": [],
   "source": [
    "x = 10 ** 10 + 5"
   ]
  },
  {
   "cell_type": "code",
   "execution_count": 16,
   "id": "71c1bfbb",
   "metadata": {},
   "outputs": [
    {
     "data": {
      "text/plain": [
       "10000000005"
      ]
     },
     "execution_count": 16,
     "metadata": {},
     "output_type": "execute_result"
    }
   ],
   "source": [
    "x"
   ]
  },
  {
   "cell_type": "code",
   "execution_count": 17,
   "id": "b0b725f6",
   "metadata": {},
   "outputs": [
    {
     "data": {
      "text/plain": [
       "9"
      ]
     },
     "execution_count": 17,
     "metadata": {},
     "output_type": "execute_result"
    }
   ],
   "source": [
    "sys.getrefcount(x)"
   ]
  },
  {
   "cell_type": "code",
   "execution_count": 22,
   "id": "4dc4b25c",
   "metadata": {},
   "outputs": [
    {
     "name": "stdout",
     "output_type": "stream",
     "text": [
      "2\n",
      "3\n",
      "2\n"
     ]
    }
   ],
   "source": [
    "x = 10 ** 10 + 5\n",
    "\n",
    "print(sys.getrefcount(x))\n",
    "\n",
    "y = x\n",
    "\n",
    "print(sys.getrefcount(x))\n",
    "\n",
    "del x\n",
    "\n",
    "print(sys.getrefcount(y))"
   ]
  },
  {
   "cell_type": "code",
   "execution_count": 25,
   "id": "d0ed2af8",
   "metadata": {},
   "outputs": [
    {
     "name": "stdout",
     "output_type": "stream",
     "text": [
      "before 2\n",
      "count_refs 4\n",
      "after 2\n"
     ]
    }
   ],
   "source": [
    "lst = [1, 2, \"qwerty\"]\n",
    "\n",
    "print(\"before\", sys.getrefcount(lst))\n",
    "\n",
    "def count_refs(obj):\n",
    "    print(\"count_refs\", sys.getrefcount(obj))\n",
    "    \n",
    "count_refs(lst)\n",
    "\n",
    "print(\"after\", sys.getrefcount(lst))\n",
    "\n",
    "del lst"
   ]
  },
  {
   "cell_type": "code",
   "execution_count": 28,
   "id": "b868cce4",
   "metadata": {},
   "outputs": [
    {
     "name": "stdout",
     "output_type": "stream",
     "text": [
      "dwd\n"
     ]
    }
   ],
   "source": [
    "print(\"dwd\")"
   ]
  },
  {
   "cell_type": "code",
   "execution_count": 31,
   "id": "8d957226",
   "metadata": {},
   "outputs": [
    {
     "name": "stdout",
     "output_type": "stream",
     "text": [
      "id(pers)=4367965088\n",
      "before 2\n",
      "count_refs 4\n",
      "after 2\n",
      "Person.__del__ 4367965088\n",
      "total after\n"
     ]
    }
   ],
   "source": [
    "class Person:\n",
    "    def __del__(self):\n",
    "        print(\"Person.__del__\", id(self))\n",
    "\n",
    "\n",
    "pers = Person()\n",
    "print(f\"{id(pers)=}\")\n",
    "\n",
    "\n",
    "print(\"before\", sys.getrefcount(pers))\n",
    "\n",
    "count_refs(pers)\n",
    "\n",
    "print(\"after\", sys.getrefcount(pers))\n",
    "\n",
    "del pers\n",
    "\n",
    "print(\"total after\")"
   ]
  },
  {
   "cell_type": "code",
   "execution_count": null,
   "id": "260b97f6",
   "metadata": {},
   "outputs": [],
   "source": []
  },
  {
   "cell_type": "code",
   "execution_count": 47,
   "id": "20cc951d",
   "metadata": {},
   "outputs": [],
   "source": [
    "import gc"
   ]
  },
  {
   "cell_type": "code",
   "execution_count": 55,
   "id": "9f21ea93",
   "metadata": {},
   "outputs": [
    {
     "name": "stdout",
     "output_type": "stream",
     "text": [
      "id(pers1)=4367548176, id(pers2)=4367548224\n",
      "before 3 3\n",
      "count_refs 5\n",
      "count_refs 5\n",
      "after 3 3\n",
      "total after\n",
      "PyObject.from_address(id_pers1).refcnt=1\n",
      "PyObject.from_address(id_pers2).refcnt=1\n",
      "Person.__del__ 4367548176\n",
      "Person.__del__ 4367548224\n",
      "\n",
      "after gc.collect()\n",
      "PyObject.from_address(id_pers1).refcnt=0\n",
      "PyObject.from_address(id_pers2).refcnt=0\n"
     ]
    }
   ],
   "source": [
    "class Person:\n",
    "    def __del__(self):\n",
    "        print(\"Person.__del__\", id(self))\n",
    "\n",
    "\n",
    "pers1 = Person()\n",
    "pers2 = Person()\n",
    "\n",
    "id_pers1 = id(pers1)\n",
    "id_pers2 = id(pers2)\n",
    "\n",
    "print(f\"{id(pers1)=}, {id(pers2)=}\")\n",
    "\n",
    "pers1.parent = pers2\n",
    "pers2.parent = pers1\n",
    "\n",
    "\n",
    "print(\"before\", sys.getrefcount(pers1), sys.getrefcount(pers2))\n",
    "\n",
    "count_refs(pers1)\n",
    "count_refs(pers2)\n",
    "\n",
    "print(\"after\", sys.getrefcount(pers1), sys.getrefcount(pers2))\n",
    "\n",
    "del pers1, pers2\n",
    "\n",
    "print(\"total after\")\n",
    "\n",
    "print(f\"{PyObject.from_address(id_pers1).refcnt=}\")\n",
    "print(f\"{PyObject.from_address(id_pers2).refcnt=}\")\n",
    "\n",
    "gc.collect()\n",
    "\n",
    "print(\"\\nafter gc.collect()\")\n",
    "\n",
    "print(f\"{PyObject.from_address(id_pers1).refcnt=}\")\n",
    "print(f\"{PyObject.from_address(id_pers2).refcnt=}\")"
   ]
  },
  {
   "cell_type": "code",
   "execution_count": 51,
   "id": "b6aadcec",
   "metadata": {},
   "outputs": [],
   "source": [
    "import ctypes"
   ]
  },
  {
   "cell_type": "code",
   "execution_count": 34,
   "id": "9447d40b",
   "metadata": {},
   "outputs": [],
   "source": [
    "class PyObject(ctypes.Structure):\n",
    "    _fields_ = [(\"refcnt\", ctypes.c_long)]"
   ]
  },
  {
   "cell_type": "code",
   "execution_count": 38,
   "id": "5f244e79",
   "metadata": {},
   "outputs": [
    {
     "data": {
      "text/plain": [
       "1"
      ]
     },
     "execution_count": 38,
     "metadata": {},
     "output_type": "execute_result"
    }
   ],
   "source": [
    "lst = [1, 2, \"qwerty\"]\n",
    "\n",
    "PyObject.from_address(id(lst)).refcnt"
   ]
  },
  {
   "cell_type": "code",
   "execution_count": null,
   "id": "17ac0776",
   "metadata": {},
   "outputs": [],
   "source": []
  },
  {
   "cell_type": "code",
   "execution_count": 56,
   "id": "7c96db19",
   "metadata": {},
   "outputs": [],
   "source": [
    "import weakref"
   ]
  },
  {
   "cell_type": "code",
   "execution_count": 84,
   "id": "54d9196a",
   "metadata": {},
   "outputs": [
    {
     "name": "stdout",
     "output_type": "stream",
     "text": [
      "calc_age 99\n",
      "before sys.getref 2\n",
      "after sys.getref 2\n",
      "after weak() 3\n",
      "Person.__del__ 99\n",
      "final delete actions\n",
      "\n",
      "after del\n",
      "obj None\n",
      "obj_meth None\n"
     ]
    }
   ],
   "source": [
    "class Person:\n",
    "    def __init__(self, age):\n",
    "        self.age = age\n",
    "        \n",
    "    def calc_age(self):\n",
    "        print(\"calc_age\", self.age)\n",
    "\n",
    "    def __del__(self):\n",
    "        print(\"Person.__del__\", self.age)\n",
    "        \n",
    "        \n",
    "def del_handler():\n",
    "    print(\"final delete actions\")\n",
    "        \n",
    "\n",
    "p1 = Person(99)\n",
    "calc_age_link = weakref.WeakMethod(p1.calc_age)\n",
    "calc_age_link()()\n",
    "\n",
    "\n",
    "p2 = Person(101)\n",
    "\n",
    "weakref.finalize(p1, del_handler)\n",
    "\n",
    "p1.parent = weakref.ref(p2)\n",
    "p2.parent = weakref.ref(p1)\n",
    "\n",
    "print(\"before sys.getref\", sys.getrefcount(p1))\n",
    "\n",
    "weak = weakref.ref(p1)\n",
    "\n",
    "print(\"after sys.getref\", sys.getrefcount(p1))\n",
    "\n",
    "obj = weak()\n",
    "\n",
    "print(\"after weak()\", sys.getrefcount(p1))\n",
    "\n",
    "del obj, p1\n",
    "print(\"\\nafter del\")\n",
    "\n",
    "obj = weak()\n",
    "print(\"obj\", obj)\n",
    "\n",
    "obj_meth = calc_age_link()\n",
    "print(\"obj_meth\", obj)"
   ]
  },
  {
   "cell_type": "code",
   "execution_count": 66,
   "id": "4c41fb06",
   "metadata": {},
   "outputs": [],
   "source": [
    "obj = weak()\n"
   ]
  },
  {
   "cell_type": "code",
   "execution_count": 68,
   "id": "b3475cd7",
   "metadata": {},
   "outputs": [
    {
     "data": {
      "text/plain": [
       "(<__main__.Person at 0x104950f70>, 99)"
      ]
     },
     "execution_count": 68,
     "metadata": {},
     "output_type": "execute_result"
    }
   ],
   "source": [
    "obj, obj.age"
   ]
  },
  {
   "cell_type": "code",
   "execution_count": 61,
   "id": "a26c7cd4",
   "metadata": {},
   "outputs": [],
   "source": [
    "weak1 = weakref.ref(p1)"
   ]
  },
  {
   "cell_type": "code",
   "execution_count": 62,
   "id": "f1b3b3ac",
   "metadata": {},
   "outputs": [
    {
     "data": {
      "text/plain": [
       "1"
      ]
     },
     "execution_count": 62,
     "metadata": {},
     "output_type": "execute_result"
    }
   ],
   "source": [
    "weakref.getweakrefcount(p1)"
   ]
  },
  {
   "cell_type": "code",
   "execution_count": 63,
   "id": "1aa54079",
   "metadata": {},
   "outputs": [
    {
     "data": {
      "text/plain": [
       "True"
      ]
     },
     "execution_count": 63,
     "metadata": {},
     "output_type": "execute_result"
    }
   ],
   "source": [
    "weak is weak1"
   ]
  },
  {
   "cell_type": "code",
   "execution_count": 64,
   "id": "f9d5ed09",
   "metadata": {},
   "outputs": [
    {
     "data": {
      "text/plain": [
       "6"
      ]
     },
     "execution_count": 64,
     "metadata": {},
     "output_type": "execute_result"
    }
   ],
   "source": [
    "sys.getrefcount(p1)"
   ]
  },
  {
   "cell_type": "code",
   "execution_count": 86,
   "id": "0eca2eb3",
   "metadata": {},
   "outputs": [
    {
     "data": {
      "text/plain": [
       "120"
      ]
     },
     "execution_count": 86,
     "metadata": {},
     "output_type": "execute_result"
    }
   ],
   "source": [
    "sys.getsizeof([1, 2, 3 * 1000])"
   ]
  },
  {
   "cell_type": "code",
   "execution_count": 88,
   "id": "0d5387d9",
   "metadata": {},
   "outputs": [
    {
     "data": {
      "text/plain": [
       "(64, 232)"
      ]
     },
     "execution_count": 88,
     "metadata": {},
     "output_type": "execute_result"
    }
   ],
   "source": [
    "sys.getsizeof({}), sys.getsizeof({1: 11})"
   ]
  },
  {
   "cell_type": "code",
   "execution_count": 89,
   "id": "81aaf780",
   "metadata": {},
   "outputs": [
    {
     "name": "stdout",
     "output_type": "stream",
     "text": [
      "\n",
      "before 0 64\n",
      "after 0 232\n",
      "\n",
      "before 1 232\n",
      "after 1 232\n",
      "\n",
      "before 2 232\n",
      "after 2 232\n",
      "\n",
      "before 3 232\n",
      "after 3 232\n",
      "\n",
      "before 4 232\n",
      "after 4 232\n",
      "\n",
      "before 5 232\n",
      "after 5 360\n",
      "\n",
      "before 6 360\n",
      "after 6 360\n"
     ]
    }
   ],
   "source": [
    "d = {}\n",
    "for i in range(7):\n",
    "    print(\"\\nbefore\", i, sys.getsizeof(d))\n",
    "    d[i] = i\n",
    "    print(\"after\", i, sys.getsizeof(d))"
   ]
  },
  {
   "cell_type": "code",
   "execution_count": 90,
   "id": "a34b684f",
   "metadata": {},
   "outputs": [],
   "source": [
    "class Point:\n",
    "    def __init__(self, x, y):\n",
    "        self.x = x\n",
    "        self.y = y\n",
    "        \n",
    "        \n",
    "class PointSlot:\n",
    "    __slots__ = (\"x\", \"y\")\n",
    "\n",
    "    def __init__(self, x, y):\n",
    "        self.x = x\n",
    "        self.y = y"
   ]
  },
  {
   "cell_type": "code",
   "execution_count": 91,
   "id": "ac382d83",
   "metadata": {},
   "outputs": [],
   "source": [
    "p = Point(10, 20)\n",
    "ps = PointSlot(30, 40)"
   ]
  },
  {
   "cell_type": "code",
   "execution_count": 92,
   "id": "70e4296d",
   "metadata": {},
   "outputs": [
    {
     "data": {
      "text/plain": [
       "{'x': 10, 'y': 20}"
      ]
     },
     "execution_count": 92,
     "metadata": {},
     "output_type": "execute_result"
    }
   ],
   "source": [
    "p.__dict__"
   ]
  },
  {
   "cell_type": "code",
   "execution_count": 93,
   "id": "326e182c",
   "metadata": {},
   "outputs": [
    {
     "ename": "AttributeError",
     "evalue": "'PointSlot' object has no attribute '__dict__'",
     "output_type": "error",
     "traceback": [
      "\u001b[0;31m---------------------------------------------------------------------------\u001b[0m",
      "\u001b[0;31mAttributeError\u001b[0m                            Traceback (most recent call last)",
      "Input \u001b[0;32mIn [93]\u001b[0m, in \u001b[0;36m<cell line: 1>\u001b[0;34m()\u001b[0m\n\u001b[0;32m----> 1\u001b[0m \u001b[43mps\u001b[49m\u001b[38;5;241;43m.\u001b[39;49m\u001b[38;5;18;43m__dict__\u001b[39;49m\n",
      "\u001b[0;31mAttributeError\u001b[0m: 'PointSlot' object has no attribute '__dict__'"
     ]
    }
   ],
   "source": [
    "ps.__dict__"
   ]
  },
  {
   "cell_type": "code",
   "execution_count": 94,
   "id": "e87c01a2",
   "metadata": {},
   "outputs": [
    {
     "data": {
      "text/plain": [
       "mappingproxy({'__module__': '__main__',\n",
       "              '__init__': <function __main__.Point.__init__(self, x, y)>,\n",
       "              '__dict__': <attribute '__dict__' of 'Point' objects>,\n",
       "              '__weakref__': <attribute '__weakref__' of 'Point' objects>,\n",
       "              '__doc__': None})"
      ]
     },
     "execution_count": 94,
     "metadata": {},
     "output_type": "execute_result"
    }
   ],
   "source": [
    "Point.__dict__"
   ]
  },
  {
   "cell_type": "code",
   "execution_count": 95,
   "id": "97650237",
   "metadata": {},
   "outputs": [
    {
     "data": {
      "text/plain": [
       "mappingproxy({'__module__': '__main__',\n",
       "              '__slots__': ('x', 'y'),\n",
       "              '__init__': <function __main__.PointSlot.__init__(self, x, y)>,\n",
       "              'x': <member 'x' of 'PointSlot' objects>,\n",
       "              'y': <member 'y' of 'PointSlot' objects>,\n",
       "              '__doc__': None})"
      ]
     },
     "execution_count": 95,
     "metadata": {},
     "output_type": "execute_result"
    }
   ],
   "source": [
    "PointSlot.__dict__"
   ]
  },
  {
   "cell_type": "code",
   "execution_count": 96,
   "id": "664fb479",
   "metadata": {},
   "outputs": [],
   "source": [
    "p.z = 900"
   ]
  },
  {
   "cell_type": "code",
   "execution_count": 97,
   "id": "0c9db7ba",
   "metadata": {},
   "outputs": [
    {
     "data": {
      "text/plain": [
       "{'x': 10, 'y': 20, 'z': 900}"
      ]
     },
     "execution_count": 97,
     "metadata": {},
     "output_type": "execute_result"
    }
   ],
   "source": [
    "p.__dict__"
   ]
  },
  {
   "cell_type": "code",
   "execution_count": 98,
   "id": "61e4f655",
   "metadata": {},
   "outputs": [
    {
     "ename": "AttributeError",
     "evalue": "'PointSlot' object has no attribute 'z'",
     "output_type": "error",
     "traceback": [
      "\u001b[0;31m---------------------------------------------------------------------------\u001b[0m",
      "\u001b[0;31mAttributeError\u001b[0m                            Traceback (most recent call last)",
      "Input \u001b[0;32mIn [98]\u001b[0m, in \u001b[0;36m<cell line: 1>\u001b[0;34m()\u001b[0m\n\u001b[0;32m----> 1\u001b[0m ps\u001b[38;5;241m.\u001b[39mz \u001b[38;5;241m=\u001b[39m \u001b[38;5;241m900\u001b[39m\n",
      "\u001b[0;31mAttributeError\u001b[0m: 'PointSlot' object has no attribute 'z'"
     ]
    }
   ],
   "source": [
    "ps.z = 900"
   ]
  },
  {
   "cell_type": "code",
   "execution_count": null,
   "id": "c92c67be",
   "metadata": {},
   "outputs": [],
   "source": []
  }
 ],
 "metadata": {
  "kernelspec": {
   "display_name": "Python 3 (ipykernel)",
   "language": "python",
   "name": "python3"
  },
  "language_info": {
   "codemirror_mode": {
    "name": "ipython",
    "version": 3
   },
   "file_extension": ".py",
   "mimetype": "text/x-python",
   "name": "python",
   "nbconvert_exporter": "python",
   "pygments_lexer": "ipython3",
   "version": "3.10.2"
  }
 },
 "nbformat": 4,
 "nbformat_minor": 5
}
