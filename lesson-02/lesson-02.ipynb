{
 "cells": [
  {
   "cell_type": "code",
   "execution_count": 8,
   "id": "920b514e",
   "metadata": {},
   "outputs": [],
   "source": [
    "def make_sandwich(new_ing, base_ings=None):\n",
    "    if not base_ings:\n",
    "        base_ings = ['bread', 'butter']\n",
    "    base_ings.append(new_ing)\n",
    "    return base_ings"
   ]
  },
  {
   "cell_type": "code",
   "execution_count": 12,
   "id": "e80d5029",
   "metadata": {},
   "outputs": [
    {
     "name": "stdout",
     "output_type": "stream",
     "text": [
      "['bread', 'butter', 'salmon']\n"
     ]
    }
   ],
   "source": [
    "print(make_sandwich('salmon'))"
   ]
  },
  {
   "cell_type": "code",
   "execution_count": 11,
   "id": "77ec4611",
   "metadata": {},
   "outputs": [
    {
     "data": {
      "text/plain": [
       "NoneType"
      ]
     },
     "execution_count": 11,
     "metadata": {},
     "output_type": "execute_result"
    }
   ],
   "source": [
    "type(None)"
   ]
  },
  {
   "cell_type": "code",
   "execution_count": 13,
   "id": "7beab40d",
   "metadata": {},
   "outputs": [],
   "source": [
    "def add(a, b):\n",
    "    print(a+b)"
   ]
  },
  {
   "cell_type": "code",
   "execution_count": 15,
   "id": "1276ad21",
   "metadata": {},
   "outputs": [
    {
     "name": "stdout",
     "output_type": "stream",
     "text": [
      "15\n",
      "None\n"
     ]
    }
   ],
   "source": [
    "add(10, 5)"
   ]
  },
  {
   "cell_type": "code",
   "execution_count": 16,
   "id": "08bacf03",
   "metadata": {},
   "outputs": [],
   "source": [
    "# Декораторы"
   ]
  },
  {
   "cell_type": "code",
   "execution_count": 70,
   "id": "4d710e75",
   "metadata": {},
   "outputs": [],
   "source": [
    "import time\n",
    "\n",
    "def timer(func):\n",
    "    def wrapper(*args, **kwargs):\n",
    "        start_ts = time.time()\n",
    "        res = func(*args, **kwargs)\n",
    "        end_ts = time.time()\n",
    "        print(f\"Executing of function '{func.__name__}' is {end_ts - start_ts}\")\n",
    "        return res\n",
    "    return wrapper"
   ]
  },
  {
   "cell_type": "code",
   "execution_count": 124,
   "id": "08a71301",
   "metadata": {},
   "outputs": [],
   "source": [
    "import functools"
   ]
  },
  {
   "cell_type": "code",
   "execution_count": 133,
   "id": "db356f1e",
   "metadata": {},
   "outputs": [],
   "source": [
    "# LRU cache = Least recently used\n",
    "@timer\n",
    "def fibonacci(n, salt):\n",
    "    @functools.lru_cache(maxsize=128)\n",
    "    def _fibonacci(n):\n",
    "        if n < 2:\n",
    "            return 1\n",
    "        return _fibonacci(n-1) + _fibonacci(n-2)\n",
    "    return _fibonacci(n) + salt\n",
    "\n",
    "# wrapped_fibonacci = timer(fibonacci)"
   ]
  },
  {
   "cell_type": "code",
   "execution_count": 72,
   "id": "b9c62e2a",
   "metadata": {},
   "outputs": [
    {
     "name": "stdout",
     "output_type": "stream",
     "text": [
      "wrapper\n",
      "['__class__', '__class_getitem__', '__contains__', '__delattr__', '__delitem__', '__dir__', '__doc__', '__eq__', '__format__', '__ge__', '__getattribute__', '__getitem__', '__gt__', '__hash__', '__init__', '__init_subclass__', '__ior__', '__iter__', '__le__', '__len__', '__lt__', '__ne__', '__new__', '__or__', '__reduce__', '__reduce_ex__', '__repr__', '__reversed__', '__ror__', '__setattr__', '__setitem__', '__sizeof__', '__str__', '__subclasshook__', 'clear', 'copy', 'fromkeys', 'get', 'items', 'keys', 'pop', 'popitem', 'setdefault', 'update', 'values']\n"
     ]
    }
   ],
   "source": [
    "print(fibonacci.__name__)\n",
    "d = {}\n",
    "print(dir(d))"
   ]
  },
  {
   "cell_type": "code",
   "execution_count": 73,
   "id": "f8f479c7",
   "metadata": {},
   "outputs": [],
   "source": [
    "wrapped_fibonacci = timer(fibonacci)"
   ]
  },
  {
   "cell_type": "code",
   "execution_count": 134,
   "id": "2d328c16",
   "metadata": {},
   "outputs": [
    {
     "name": "stdout",
     "output_type": "stream",
     "text": [
      "Executing of function 'fibonacci' is 3.790855407714844e-05\n"
     ]
    },
    {
     "data": {
      "text/plain": [
       "9228465"
      ]
     },
     "execution_count": 134,
     "metadata": {},
     "output_type": "execute_result"
    }
   ],
   "source": [
    "fibonacci(34, 1000)"
   ]
  },
  {
   "cell_type": "code",
   "execution_count": 123,
   "id": "3e161166",
   "metadata": {},
   "outputs": [],
   "source": [
    "def sleeper(delay=1):\n",
    "    def inner(func):\n",
    "        @functools.wraps(func)\n",
    "        def wrapper(*args, **kwargs):\n",
    "            time.sleep(delay)\n",
    "            print(f\"Sleeping {delay}\")\n",
    "            res = func(*args, **kwargs)\n",
    "            return res\n",
    "        return wrapper\n",
    "    return inner"
   ]
  },
  {
   "cell_type": "code",
   "execution_count": 89,
   "id": "4d75da99",
   "metadata": {},
   "outputs": [],
   "source": [
    "@sleeper(1)\n",
    "def fetch_slow_2(url):\n",
    "    print(f\"Fetching {url}\")\n",
    "    # Эмуляция работы сети.\n",
    "    time.sleep(0.1)\n",
    "\n",
    "@timer\n",
    "@sleeper(0.1)\n",
    "def fetch_fast(url):\n",
    "    print(f\"Fetching {url}\")\n",
    "    # Эмуляция работы сети.\n",
    "    time.sleep(0.1)\n",
    "\n",
    "# wrapped_fetch_fast = timer( sleeper(0.1)(fetch_fast) )"
   ]
  },
  {
   "cell_type": "code",
   "execution_count": 92,
   "id": "28896733",
   "metadata": {},
   "outputs": [
    {
     "name": "stdout",
     "output_type": "stream",
     "text": [
      "fetch_slow_2\n",
      "Fetching example.com\n"
     ]
    }
   ],
   "source": [
    "print(fetch_slow_2.__wrapped__.__name__)\n",
    "original_function = fetch_slow_2.__wrapped__\n",
    "original_function('example.com')"
   ]
  },
  {
   "cell_type": "code",
   "execution_count": 84,
   "id": "04e5b685",
   "metadata": {},
   "outputs": [
    {
     "name": "stdout",
     "output_type": "stream",
     "text": [
      "Sleeping 1\n",
      "Fetching ok.ru\n"
     ]
    }
   ],
   "source": [
    "fetch_slow('ok.ru')"
   ]
  },
  {
   "cell_type": "code",
   "execution_count": 115,
   "id": "8a383213",
   "metadata": {},
   "outputs": [],
   "source": [
    "class Animal:\n",
    "    def __init__(self, name, age):\n",
    "        self.name = name\n",
    "        self.age = age\n",
    "    \n",
    "    def __str__(self):\n",
    "        return f\"{self.name} -> {self.age}\"\n",
    "    \n",
    "    def __repr__(self):\n",
    "        return f\"{self.name} -> {self.age}\"\n",
    "    \n",
    "    def __call__(self):\n",
    "        print(\"Some sound\")"
   ]
  },
  {
   "cell_type": "code",
   "execution_count": 119,
   "id": "a8cfe8b4",
   "metadata": {},
   "outputs": [
    {
     "name": "stdout",
     "output_type": "stream",
     "text": [
      "None\n"
     ]
    }
   ],
   "source": [
    "animals = [Animal('Фантомас', num) for num in range(5)]\n",
    "import random\n",
    "print(random.shuffle(animals))"
   ]
  },
  {
   "cell_type": "code",
   "execution_count": 120,
   "id": "3f147dde",
   "metadata": {},
   "outputs": [
    {
     "name": "stdout",
     "output_type": "stream",
     "text": [
      "Фантомас -> 0\n",
      "Фантомас -> 2\n",
      "Фантомас -> 1\n",
      "Фантомас -> 4\n",
      "Фантомас -> 3\n"
     ]
    },
    {
     "data": {
      "text/plain": [
       "[None, None, None, None, None]"
      ]
     },
     "execution_count": 120,
     "metadata": {},
     "output_type": "execute_result"
    }
   ],
   "source": [
    "[print(animal) for animal in animals]"
   ]
  },
  {
   "cell_type": "code",
   "execution_count": 122,
   "id": "58253329",
   "metadata": {},
   "outputs": [
    {
     "name": "stdout",
     "output_type": "stream",
     "text": [
      "[Фантомас -> 4, Фантомас -> 3, Фантомас -> 2, Фантомас -> 1, Фантомас -> 0]\n"
     ]
    }
   ],
   "source": [
    "print(sorted(animals, key=lambda animal: animal.age, reverse=True))"
   ]
  },
  {
   "cell_type": "code",
   "execution_count": 139,
   "id": "11ef32f9",
   "metadata": {},
   "outputs": [],
   "source": [
    "def make_function(name='Hello', *args, kw=12, **kwargs):\n",
    "   '''makes inner function'''\n",
    "   def inner(age=999):\n",
    "      print(f\"{name=}, {age=}, {kw=}, {args=}, {kwargs=}\")\n",
    "   return inner"
   ]
  },
  {
   "cell_type": "code",
   "execution_count": 140,
   "id": "cb013e33",
   "metadata": {},
   "outputs": [
    {
     "name": "stdout",
     "output_type": "stream",
     "text": [
      "name='skynet', age=999, kw=12, args=(54,), kwargs={'aim': 'term'}\n"
     ]
    }
   ],
   "source": [
    "fn = make_function('skynet', 54, aim='term')\n",
    "fn()"
   ]
  },
  {
   "cell_type": "code",
   "execution_count": 165,
   "id": "52192ea9",
   "metadata": {},
   "outputs": [
    {
     "name": "stdout",
     "output_type": "stream",
     "text": [
      "('Hello',)\n",
      "{'kw': 12}\n",
      "None\n",
      "make_function.<locals>.inner\n",
      "<cell at 0x111a95880: tuple object at 0x111aa2b20>\n",
      "<cell at 0x111aa2400: int object at 0x10d3aaa90>\n",
      "<cell at 0x111aa2eb0: dict object at 0x111a854c0>\n",
      "<cell at 0x111aa2580: str object at 0x111a5a430>\n"
     ]
    },
    {
     "data": {
      "text/plain": [
       "[None, None, None, None]"
      ]
     },
     "execution_count": 165,
     "metadata": {},
     "output_type": "execute_result"
    }
   ],
   "source": [
    "dir(make_function)\n",
    "print(make_function.__defaults__)\n",
    "print(make_function.__kwdefaults__)\n",
    "print(make_function.__closure__)\n",
    "print(fn.__qualname__)\n",
    "[print(param) for param in fn.__closure__]"
   ]
  },
  {
   "cell_type": "code",
   "execution_count": 145,
   "id": "c5b00df5",
   "metadata": {},
   "outputs": [],
   "source": [
    "def mylen(obj):\n",
    "    return obj.__len__()"
   ]
  },
  {
   "cell_type": "code",
   "execution_count": 146,
   "id": "d38b3b4f",
   "metadata": {},
   "outputs": [
    {
     "name": "stdout",
     "output_type": "stream",
     "text": [
      "3\n"
     ]
    }
   ],
   "source": [
    "print(mylen(obj=[1,2,3]))"
   ]
  },
  {
   "cell_type": "code",
   "execution_count": 154,
   "id": "bcaa66f5",
   "metadata": {},
   "outputs": [
    {
     "name": "stdout",
     "output_type": "stream",
     "text": [
      "def make_function(name='Hello', *args, kw=12, **kwargs):\n",
      "   '''makes inner function'''\n",
      "   def inner(age=999):\n",
      "      print(f\"{name=}, {age=}, {kw=}, {args=}, {kwargs=}\")\n",
      "   return inner\n",
      "\n"
     ]
    }
   ],
   "source": [
    "import inspect\n",
    "print(inspect.getsource(make_function))"
   ]
  },
  {
   "cell_type": "code",
   "execution_count": 151,
   "id": "29b3278b",
   "metadata": {},
   "outputs": [
    {
     "name": "stdout",
     "output_type": "stream",
     "text": [
      "  4           0 LOAD_FAST                0 (x)\n",
      "              2 LOAD_FAST                0 (x)\n",
      "              4 BINARY_MULTIPLY\n",
      "              6 RETURN_VALUE\n"
     ]
    }
   ],
   "source": [
    "import dis\n",
    "\n",
    "def square(x):\n",
    "    return x * x\n",
    "\n",
    "dis.dis(square)"
   ]
  },
  {
   "cell_type": "code",
   "execution_count": 155,
   "id": "371bdcfc",
   "metadata": {},
   "outputs": [],
   "source": [
    "def add(a, b):\n",
    "    a += b\n",
    "    return a"
   ]
  },
  {
   "cell_type": "code",
   "execution_count": 156,
   "id": "8398a26c",
   "metadata": {},
   "outputs": [],
   "source": [
    "num1 = 1\n",
    "num2 = 2"
   ]
  },
  {
   "cell_type": "code",
   "execution_count": 157,
   "id": "2ec15317",
   "metadata": {},
   "outputs": [
    {
     "name": "stdout",
     "output_type": "stream",
     "text": [
      "3 1 2\n"
     ]
    }
   ],
   "source": [
    "print(add(num1, num2), num1, num2)"
   ]
  },
  {
   "cell_type": "code",
   "execution_count": 158,
   "id": "155028f2",
   "metadata": {},
   "outputs": [
    {
     "name": "stdout",
     "output_type": "stream",
     "text": [
      "['hello', 'world'] ['hello', 'world'] ['world']\n"
     ]
    }
   ],
   "source": [
    "lst1 = ['hello']\n",
    "lst2 = ['world']\n",
    "print(add(lst1, lst2), lst1, lst2)"
   ]
  },
  {
   "cell_type": "code",
   "execution_count": 166,
   "id": "dc05ec96",
   "metadata": {},
   "outputs": [],
   "source": [
    "# Пространство имён"
   ]
  },
  {
   "cell_type": "code",
   "execution_count": 182,
   "id": "67456986",
   "metadata": {},
   "outputs": [],
   "source": [
    "global_param = \"global param\"\n",
    "\n",
    "def f1():\n",
    "    p1 = 1\n",
    "    lst = []\n",
    "    def f2():\n",
    "        p2 = 2\n",
    "        lst.append(p2)\n",
    "        nonlocal p1\n",
    "        global global_param\n",
    "        p1 += 99\n",
    "        global_param = \"changed\"\n",
    "        print(f\"{p2=}, {p1=}, {global_param=}\", locals())\n",
    "    f2()\n",
    "    print(f\"{p1=}, {global_param=}\", locals())"
   ]
  },
  {
   "cell_type": "code",
   "execution_count": 183,
   "id": "9d1f0dbb",
   "metadata": {},
   "outputs": [
    {
     "name": "stdout",
     "output_type": "stream",
     "text": [
      "p2=2, p1=100, global_param='changed' {'p2': 2, 'lst': [2], 'p1': 100}\n",
      "p1=100, global_param='changed' {'f2': <function f1.<locals>.f2 at 0x111a51b80>, 'lst': [2], 'p1': 100}\n"
     ]
    }
   ],
   "source": [
    "f1()"
   ]
  },
  {
   "cell_type": "code",
   "execution_count": 184,
   "id": "e053c837",
   "metadata": {},
   "outputs": [],
   "source": [
    "# map, reduce, filter, compile, exec"
   ]
  },
  {
   "cell_type": "code",
   "execution_count": 185,
   "id": "1331e990",
   "metadata": {},
   "outputs": [],
   "source": [
    "x = 1"
   ]
  },
  {
   "cell_type": "code",
   "execution_count": 216,
   "id": "7b1c6bd3",
   "metadata": {},
   "outputs": [],
   "source": [
    "byte_code = compile('''\n",
    "def foo_qwe_2():\n",
    "    print(\"Hello, world\", x)\n",
    "''', filename=\"<string>\", mode='exec')\n",
    "exec(byte_code, {'x': 100})"
   ]
  },
  {
   "cell_type": "code",
   "execution_count": 214,
   "id": "d029e8c8",
   "metadata": {},
   "outputs": [
    {
     "name": "stdout",
     "output_type": "stream",
     "text": [
      "Hello, world 5\n"
     ]
    }
   ],
   "source": [
    "foo_qwe_2()"
   ]
  },
  {
   "cell_type": "code",
   "execution_count": 222,
   "id": "c7992b4e",
   "metadata": {},
   "outputs": [],
   "source": [
    "exec('x += 5', {}, {'x': 100})"
   ]
  },
  {
   "cell_type": "code",
   "execution_count": 220,
   "id": "41a40f0d",
   "metadata": {},
   "outputs": [
    {
     "data": {
      "text/plain": [
       "10"
      ]
     },
     "execution_count": 220,
     "metadata": {},
     "output_type": "execute_result"
    }
   ],
   "source": [
    "x"
   ]
  },
  {
   "cell_type": "code",
   "execution_count": null,
   "id": "7cef1346",
   "metadata": {},
   "outputs": [],
   "source": []
  }
 ],
 "metadata": {
  "kernelspec": {
   "display_name": "Python 3 (ipykernel)",
   "language": "python",
   "name": "python3"
  },
  "language_info": {
   "codemirror_mode": {
    "name": "ipython",
    "version": 3
   },
   "file_extension": ".py",
   "mimetype": "text/x-python",
   "name": "python",
   "nbconvert_exporter": "python",
   "pygments_lexer": "ipython3",
   "version": "3.9.6"
  }
 },
 "nbformat": 4,
 "nbformat_minor": 5
}
