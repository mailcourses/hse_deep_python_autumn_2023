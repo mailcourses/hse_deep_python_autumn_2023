{
 "cells": [
  {
   "cell_type": "code",
   "execution_count": 1,
   "id": "de9aa905",
   "metadata": {},
   "outputs": [],
   "source": [
    "import abc\n",
    "import collections.abc as bc"
   ]
  },
  {
   "cell_type": "code",
   "execution_count": 9,
   "id": "76a06bc4",
   "metadata": {},
   "outputs": [],
   "source": [
    "class Person(abc.ABC):\n",
    "    @abc.abstractmethod\n",
    "    def say(self):\n",
    "        print(\"Person.say\")"
   ]
  },
  {
   "cell_type": "code",
   "execution_count": 3,
   "id": "f21a0091",
   "metadata": {},
   "outputs": [
    {
     "ename": "TypeError",
     "evalue": "Can't instantiate abstract class Person with abstract method say",
     "output_type": "error",
     "traceback": [
      "\u001b[0;31m---------------------------------------------------------------------------\u001b[0m",
      "\u001b[0;31mTypeError\u001b[0m                                 Traceback (most recent call last)",
      "Input \u001b[0;32mIn [3]\u001b[0m, in \u001b[0;36m<cell line: 1>\u001b[0;34m()\u001b[0m\n\u001b[0;32m----> 1\u001b[0m pers \u001b[38;5;241m=\u001b[39m \u001b[43mPerson\u001b[49m\u001b[43m(\u001b[49m\u001b[43m)\u001b[49m\n",
      "\u001b[0;31mTypeError\u001b[0m: Can't instantiate abstract class Person with abstract method say"
     ]
    }
   ],
   "source": [
    "pers = Person()"
   ]
  },
  {
   "cell_type": "code",
   "execution_count": 4,
   "id": "59161aeb",
   "metadata": {},
   "outputs": [],
   "source": [
    "class Student(Person):\n",
    "    pass"
   ]
  },
  {
   "cell_type": "code",
   "execution_count": 5,
   "id": "b1ba546f",
   "metadata": {},
   "outputs": [
    {
     "ename": "TypeError",
     "evalue": "Can't instantiate abstract class Student with abstract method say",
     "output_type": "error",
     "traceback": [
      "\u001b[0;31m---------------------------------------------------------------------------\u001b[0m",
      "\u001b[0;31mTypeError\u001b[0m                                 Traceback (most recent call last)",
      "Input \u001b[0;32mIn [5]\u001b[0m, in \u001b[0;36m<cell line: 1>\u001b[0;34m()\u001b[0m\n\u001b[0;32m----> 1\u001b[0m st \u001b[38;5;241m=\u001b[39m \u001b[43mStudent\u001b[49m\u001b[43m(\u001b[49m\u001b[43m)\u001b[49m\n",
      "\u001b[0;31mTypeError\u001b[0m: Can't instantiate abstract class Student with abstract method say"
     ]
    }
   ],
   "source": [
    "st = Student()"
   ]
  },
  {
   "cell_type": "code",
   "execution_count": 6,
   "id": "44a9a4db",
   "metadata": {},
   "outputs": [],
   "source": [
    "class HSEStudent(Student):\n",
    "    def say(self):\n",
    "        print(\"HSEStudent.say\")"
   ]
  },
  {
   "cell_type": "code",
   "execution_count": 7,
   "id": "b36b6b76",
   "metadata": {},
   "outputs": [],
   "source": [
    "st = HSEStudent()"
   ]
  },
  {
   "cell_type": "code",
   "execution_count": 8,
   "id": "6b565196",
   "metadata": {},
   "outputs": [
    {
     "name": "stdout",
     "output_type": "stream",
     "text": [
      "HSEStudent.say\n"
     ]
    }
   ],
   "source": [
    "st.say()"
   ]
  },
  {
   "cell_type": "code",
   "execution_count": null,
   "id": "e18e7999",
   "metadata": {},
   "outputs": [],
   "source": []
  },
  {
   "cell_type": "code",
   "execution_count": null,
   "id": "1d24c66a",
   "metadata": {},
   "outputs": [],
   "source": []
  },
  {
   "cell_type": "code",
   "execution_count": null,
   "id": "0ae448ba",
   "metadata": {},
   "outputs": [],
   "source": []
  },
  {
   "cell_type": "code",
   "execution_count": 22,
   "id": "24691bab",
   "metadata": {},
   "outputs": [],
   "source": [
    "class Person(metaclass=abc.ABCMeta):\n",
    "    def say_and_go(self):\n",
    "        self.say()\n",
    "        self.go()\n",
    "    \n",
    "    @abc.abstractmethod\n",
    "    def say(self):\n",
    "        print(\"Person.say\")\n",
    "\n",
    "    @abc.abstractmethod\n",
    "    def go(self):\n",
    "        print(\"Person.go\")\n",
    "\n",
    "\n",
    "class Student(Person):\n",
    "    def say(self):\n",
    "        super().say()\n",
    "        print(\"Student.say\")\n",
    "        \n",
    "    def go(self):\n",
    "        super().go()\n",
    "        print(\"Student.go\")"
   ]
  },
  {
   "cell_type": "code",
   "execution_count": 19,
   "id": "d9d77f50",
   "metadata": {},
   "outputs": [],
   "source": [
    "st = Student()"
   ]
  },
  {
   "cell_type": "code",
   "execution_count": 20,
   "id": "3f46df60",
   "metadata": {},
   "outputs": [
    {
     "name": "stdout",
     "output_type": "stream",
     "text": [
      "Person.go\n",
      "Student.go\n"
     ]
    }
   ],
   "source": [
    "st.go()"
   ]
  },
  {
   "cell_type": "code",
   "execution_count": 21,
   "id": "d4fadbed",
   "metadata": {},
   "outputs": [
    {
     "name": "stdout",
     "output_type": "stream",
     "text": [
      "Person.say\n",
      "Student.say\n",
      "Person.go\n",
      "Student.go\n"
     ]
    }
   ],
   "source": [
    "st.say_and_go()"
   ]
  },
  {
   "cell_type": "code",
   "execution_count": 24,
   "id": "3d38b32b",
   "metadata": {},
   "outputs": [
    {
     "name": "stdout",
     "output_type": "stream",
     "text": [
      "gogogo\n"
     ]
    },
    {
     "ename": "TypeError",
     "evalue": "Can't instantiate abstract class Student with abstract method go",
     "output_type": "error",
     "traceback": [
      "\u001b[0;31m---------------------------------------------------------------------------\u001b[0m",
      "\u001b[0;31mTypeError\u001b[0m                                 Traceback (most recent call last)",
      "Input \u001b[0;32mIn [24]\u001b[0m, in \u001b[0;36m<cell line: 15>\u001b[0;34m()\u001b[0m\n\u001b[1;32m     12\u001b[0m p \u001b[38;5;241m=\u001b[39m Person()\n\u001b[1;32m     13\u001b[0m p\u001b[38;5;241m.\u001b[39msay_and_go()\n\u001b[0;32m---> 15\u001b[0m st \u001b[38;5;241m=\u001b[39m \u001b[43mStudent\u001b[49m\u001b[43m(\u001b[49m\u001b[43m)\u001b[49m\n",
      "\u001b[0;31mTypeError\u001b[0m: Can't instantiate abstract class Student with abstract method go"
     ]
    }
   ],
   "source": [
    "class Person(metaclass=abc.ABCMeta):\n",
    "    def say_and_go(self):\n",
    "        print(\"gogogo\")\n",
    "\n",
    "\n",
    "class Student(Person):\n",
    "    @abc.abstractmethod\n",
    "    def go(self):\n",
    "        print(\"Student.go\")\n",
    "\n",
    "\n",
    "p = Person()\n",
    "p.say_and_go()\n",
    "\n",
    "st = Student()"
   ]
  },
  {
   "cell_type": "code",
   "execution_count": 26,
   "id": "fe4bdd91",
   "metadata": {},
   "outputs": [],
   "source": [
    "class Fail(Person, metaclass=type):\n",
    "    pass"
   ]
  },
  {
   "cell_type": "code",
   "execution_count": null,
   "id": "87851588",
   "metadata": {},
   "outputs": [],
   "source": []
  },
  {
   "cell_type": "code",
   "execution_count": null,
   "id": "a5e25692",
   "metadata": {},
   "outputs": [],
   "source": []
  },
  {
   "cell_type": "code",
   "execution_count": 30,
   "id": "b83ee668",
   "metadata": {},
   "outputs": [
    {
     "name": "stdout",
     "output_type": "stream",
     "text": [
      "True False True True\n"
     ]
    }
   ],
   "source": [
    "class IterPerson:\n",
    "    def __iter__(self):\n",
    "        pass\n",
    "    \n",
    "\n",
    "class IteratorPerson:\n",
    "    def __iter__(self):\n",
    "        pass\n",
    "    \n",
    "    def __next__(self):\n",
    "        pass\n",
    "\n",
    "\n",
    "print(\n",
    "    issubclass(IterPerson, bc.Iterable),\n",
    "    issubclass(IterPerson, bc.Iterator),\n",
    "    issubclass(IteratorPerson, bc.Iterable),\n",
    "    issubclass(IteratorPerson, bc.Iterator),\n",
    ")"
   ]
  },
  {
   "cell_type": "code",
   "execution_count": 32,
   "id": "eb2983b4",
   "metadata": {},
   "outputs": [
    {
     "data": {
      "text/plain": [
       "(True, True)"
      ]
     },
     "execution_count": 32,
     "metadata": {},
     "output_type": "execute_result"
    }
   ],
   "source": [
    "callable(IteratorPerson), isinstance(IteratorPerson, bc.Callable)"
   ]
  },
  {
   "cell_type": "code",
   "execution_count": null,
   "id": "a462e945",
   "metadata": {},
   "outputs": [],
   "source": [
    "IteratorPerson.__call__"
   ]
  },
  {
   "cell_type": "code",
   "execution_count": null,
   "id": "499210ad",
   "metadata": {},
   "outputs": [],
   "source": [
    "a + b\n",
    "b + a"
   ]
  },
  {
   "cell_type": "code",
   "execution_count": null,
   "id": "62f6e917",
   "metadata": {},
   "outputs": [],
   "source": []
  },
  {
   "cell_type": "code",
   "execution_count": null,
   "id": "38c57716",
   "metadata": {},
   "outputs": [],
   "source": []
  },
  {
   "cell_type": "code",
   "execution_count": 52,
   "id": "24890329",
   "metadata": {},
   "outputs": [
    {
     "name": "stdout",
     "output_type": "stream",
     "text": [
      "TreeModel.predict\n",
      "__subclasshook__\n",
      "__subclasshook__\n"
     ]
    },
    {
     "data": {
      "text/plain": [
       "(True, False)"
      ]
     },
     "execution_count": 52,
     "metadata": {},
     "output_type": "execute_result"
    }
   ],
   "source": [
    "#class Predictable(abc.ABC):\n",
    "class Predictable(metaclass=abc.ABCMeta):\n",
    "    @abc.abstractmethod\n",
    "    def predict(self):\n",
    "        print(\"Predictable.predict\")\n",
    "        \n",
    "    @classmethod\n",
    "    def __subclasshook__(cls, C):\n",
    "        print(\"__subclasshook__\")\n",
    "        if cls is not Predictable:\n",
    "            return NotImplemented\n",
    "\n",
    "        name = \"predict\"\n",
    "        for class_ in C.__mro__:\n",
    "            if name in class_.__dict__ and callable(class_.__dict__[name]):\n",
    "                return True\n",
    "\n",
    "        return NotImplemented\n",
    "    \n",
    "\n",
    "class TreeModel:\n",
    "    def predict(self):\n",
    "        print(\"TreeModel.predict\")\n",
    "\n",
    "        \n",
    "class NoModel:\n",
    "    predict = \"str\"\n",
    "\n",
    "\n",
    "tree = TreeModel()\n",
    "tree.predict()\n",
    "\n",
    "\n",
    "isinstance(tree, Predictable), isinstance(NoModel(), Predictable)"
   ]
  },
  {
   "cell_type": "code",
   "execution_count": 54,
   "id": "88030acd",
   "metadata": {},
   "outputs": [
    {
     "name": "stdout",
     "output_type": "stream",
     "text": [
      "__subclasshook__\n",
      "__subclasshook__\n",
      "__subclasshook__\n"
     ]
    },
    {
     "data": {
      "text/plain": [
       "(True, True, True)"
      ]
     },
     "execution_count": 54,
     "metadata": {},
     "output_type": "execute_result"
    }
   ],
   "source": [
    "Predictable.register(NoModel)\n",
    "\n",
    "isinstance(tree, Predictable), isinstance(NoModel(), Predictable), issubclass(NoModel, Predictable)\n"
   ]
  },
  {
   "cell_type": "code",
   "execution_count": null,
   "id": "d9175355",
   "metadata": {},
   "outputs": [],
   "source": []
  },
  {
   "cell_type": "code",
   "execution_count": null,
   "id": "5d77483e",
   "metadata": {},
   "outputs": [],
   "source": []
  },
  {
   "cell_type": "code",
   "execution_count": null,
   "id": "526dd43d",
   "metadata": {},
   "outputs": [],
   "source": []
  },
  {
   "cell_type": "code",
   "execution_count": null,
   "id": "dc274d3d",
   "metadata": {},
   "outputs": [],
   "source": []
  },
  {
   "cell_type": "code",
   "execution_count": 55,
   "id": "5da96c30",
   "metadata": {},
   "outputs": [
    {
     "data": {
      "text/plain": [
       "0.30000000000000004"
      ]
     },
     "execution_count": 55,
     "metadata": {},
     "output_type": "execute_result"
    }
   ],
   "source": [
    "0.1 + 0.2"
   ]
  },
  {
   "cell_type": "code",
   "execution_count": 56,
   "id": "19263b99",
   "metadata": {},
   "outputs": [
    {
     "data": {
      "text/plain": [
       "False"
      ]
     },
     "execution_count": 56,
     "metadata": {},
     "output_type": "execute_result"
    }
   ],
   "source": [
    "0.1 + 0.2 == 0.3"
   ]
  },
  {
   "cell_type": "code",
   "execution_count": 57,
   "id": "4f326e8c",
   "metadata": {},
   "outputs": [],
   "source": [
    "import math"
   ]
  },
  {
   "cell_type": "code",
   "execution_count": 65,
   "id": "adc57ef7",
   "metadata": {},
   "outputs": [
    {
     "data": {
      "text/plain": [
       "False"
      ]
     },
     "execution_count": 65,
     "metadata": {},
     "output_type": "execute_result"
    }
   ],
   "source": [
    "math.isclose(0.1 + 0.2, 0.3, rel_tol=10**(-20))"
   ]
  },
  {
   "cell_type": "code",
   "execution_count": 66,
   "id": "d0820ca6",
   "metadata": {},
   "outputs": [
    {
     "data": {
      "text/plain": [
       "(3602879701896397, 36028797018963968)"
      ]
     },
     "execution_count": 66,
     "metadata": {},
     "output_type": "execute_result"
    }
   ],
   "source": [
    "(0.1).as_integer_ratio()"
   ]
  },
  {
   "cell_type": "code",
   "execution_count": 67,
   "id": "7ddc1cb9",
   "metadata": {},
   "outputs": [
    {
     "data": {
      "text/plain": [
       "0.1"
      ]
     },
     "execution_count": 67,
     "metadata": {},
     "output_type": "execute_result"
    }
   ],
   "source": [
    "3602879701896397 / 36028797018963968"
   ]
  },
  {
   "cell_type": "code",
   "execution_count": 69,
   "id": "76c01525",
   "metadata": {},
   "outputs": [],
   "source": [
    "from decimal import Decimal\n",
    "from fractions import Fraction"
   ]
  },
  {
   "cell_type": "code",
   "execution_count": 70,
   "id": "79008d88",
   "metadata": {},
   "outputs": [
    {
     "data": {
      "text/plain": [
       "Decimal('0.3000000000000000055511151231')"
      ]
     },
     "execution_count": 70,
     "metadata": {},
     "output_type": "execute_result"
    }
   ],
   "source": [
    "d1 = Decimal(0.1)\n",
    "d2 = Decimal(\"0.2\")\n",
    "\n",
    "d1 + d2"
   ]
  },
  {
   "cell_type": "code",
   "execution_count": 73,
   "id": "016189aa",
   "metadata": {},
   "outputs": [
    {
     "data": {
      "text/plain": [
       "(Decimal('0.3'), True)"
      ]
     },
     "execution_count": 73,
     "metadata": {},
     "output_type": "execute_result"
    }
   ],
   "source": [
    "d1 = Decimal(\"0.1\")\n",
    "d2 = Decimal(\"0.2\")\n",
    "\n",
    "d1 + d2, d1 + d2 == Decimal(\"0.3\")"
   ]
  },
  {
   "cell_type": "code",
   "execution_count": 74,
   "id": "8a8bbb96",
   "metadata": {},
   "outputs": [
    {
     "data": {
      "text/plain": [
       "Decimal('0.1428571428571428571428571429')"
      ]
     },
     "execution_count": 74,
     "metadata": {},
     "output_type": "execute_result"
    }
   ],
   "source": [
    "Decimal(1) / Decimal(7)"
   ]
  },
  {
   "cell_type": "code",
   "execution_count": 75,
   "id": "9ec1c2b7",
   "metadata": {},
   "outputs": [],
   "source": [
    "f1 = Fraction(1, 10)"
   ]
  },
  {
   "cell_type": "code",
   "execution_count": 76,
   "id": "c090a32f",
   "metadata": {},
   "outputs": [
    {
     "data": {
      "text/plain": [
       "Fraction(1, 10)"
      ]
     },
     "execution_count": 76,
     "metadata": {},
     "output_type": "execute_result"
    }
   ],
   "source": [
    "f1"
   ]
  },
  {
   "cell_type": "code",
   "execution_count": 77,
   "id": "664e2fd5",
   "metadata": {},
   "outputs": [
    {
     "data": {
      "text/plain": [
       "Fraction(1, 10)"
      ]
     },
     "execution_count": 77,
     "metadata": {},
     "output_type": "execute_result"
    }
   ],
   "source": [
    "f1.conjugate()"
   ]
  },
  {
   "cell_type": "code",
   "execution_count": 78,
   "id": "5757d8db",
   "metadata": {},
   "outputs": [
    {
     "data": {
      "text/plain": [
       "0.1"
      ]
     },
     "execution_count": 78,
     "metadata": {},
     "output_type": "execute_result"
    }
   ],
   "source": [
    "f1.numerator / f1.denominator"
   ]
  },
  {
   "cell_type": "code",
   "execution_count": 79,
   "id": "0bdf4446",
   "metadata": {},
   "outputs": [],
   "source": [
    "f2 = Fraction(1, 7)"
   ]
  },
  {
   "cell_type": "code",
   "execution_count": 80,
   "id": "f9672940",
   "metadata": {},
   "outputs": [
    {
     "data": {
      "text/plain": [
       "Fraction(17, 70)"
      ]
     },
     "execution_count": 80,
     "metadata": {},
     "output_type": "execute_result"
    }
   ],
   "source": [
    "f1 + f2"
   ]
  },
  {
   "cell_type": "code",
   "execution_count": 81,
   "id": "0f8c5102",
   "metadata": {},
   "outputs": [
    {
     "data": {
      "text/plain": [
       "0.24285714285714285"
      ]
     },
     "execution_count": 81,
     "metadata": {},
     "output_type": "execute_result"
    }
   ],
   "source": [
    "17 / 70"
   ]
  },
  {
   "cell_type": "code",
   "execution_count": null,
   "id": "cf5096b4",
   "metadata": {},
   "outputs": [],
   "source": []
  },
  {
   "cell_type": "code",
   "execution_count": 82,
   "id": "8e0c60b2",
   "metadata": {},
   "outputs": [
    {
     "data": {
      "text/plain": [
       "123"
      ]
     },
     "execution_count": 82,
     "metadata": {},
     "output_type": "execute_result"
    }
   ],
   "source": [
    "int(\"123\")"
   ]
  },
  {
   "cell_type": "code",
   "execution_count": 85,
   "id": "2e3989da",
   "metadata": {},
   "outputs": [
    {
     "data": {
      "text/plain": [
       "(123, 123, 123)"
      ]
     },
     "execution_count": 85,
     "metadata": {},
     "output_type": "execute_result"
    }
   ],
   "source": [
    "int(123.0), int(123.9), int(123.9999999)"
   ]
  },
  {
   "cell_type": "code",
   "execution_count": 88,
   "id": "0294e754",
   "metadata": {},
   "outputs": [
    {
     "data": {
      "text/plain": [
       "(1, 2, 2)"
      ]
     },
     "execution_count": 88,
     "metadata": {},
     "output_type": "execute_result"
    }
   ],
   "source": [
    "round(1.4), round(1.5), round(1.6)"
   ]
  },
  {
   "cell_type": "code",
   "execution_count": 89,
   "id": "c1327948",
   "metadata": {},
   "outputs": [
    {
     "data": {
      "text/plain": [
       "(2, 2, 3)"
      ]
     },
     "execution_count": 89,
     "metadata": {},
     "output_type": "execute_result"
    }
   ],
   "source": [
    "round(2.4), round(2.5), round(2.6)"
   ]
  },
  {
   "cell_type": "code",
   "execution_count": 90,
   "id": "71cabda3",
   "metadata": {},
   "outputs": [
    {
     "data": {
      "text/plain": [
       "(3, 4, 4)"
      ]
     },
     "execution_count": 90,
     "metadata": {},
     "output_type": "execute_result"
    }
   ],
   "source": [
    "round(3.4), round(3.5), round(3.6)"
   ]
  },
  {
   "cell_type": "code",
   "execution_count": 92,
   "id": "010053fc",
   "metadata": {},
   "outputs": [
    {
     "data": {
      "text/plain": [
       "(-3, -4, -4)"
      ]
     },
     "execution_count": 92,
     "metadata": {},
     "output_type": "execute_result"
    }
   ],
   "source": [
    "round(-3.4), round(-3.5), round(-3.6)"
   ]
  },
  {
   "cell_type": "code",
   "execution_count": 93,
   "id": "28aa19cf",
   "metadata": {},
   "outputs": [
    {
     "data": {
      "text/plain": [
       "(-4, -4, -5)"
      ]
     },
     "execution_count": 93,
     "metadata": {},
     "output_type": "execute_result"
    }
   ],
   "source": [
    "round(-4.4), round(-4.5), round(-4.6)"
   ]
  },
  {
   "cell_type": "code",
   "execution_count": null,
   "id": "ed385754",
   "metadata": {},
   "outputs": [],
   "source": []
  },
  {
   "cell_type": "code",
   "execution_count": null,
   "id": "6d2fe763",
   "metadata": {},
   "outputs": [],
   "source": []
  },
  {
   "cell_type": "code",
   "execution_count": null,
   "id": "a2896c89",
   "metadata": {},
   "outputs": [],
   "source": []
  },
  {
   "cell_type": "code",
   "execution_count": 94,
   "id": "ddd7fa0b",
   "metadata": {},
   "outputs": [
    {
     "data": {
      "text/plain": [
       "True"
      ]
     },
     "execution_count": 94,
     "metadata": {},
     "output_type": "execute_result"
    }
   ],
   "source": [
    "\"abc\" in \"dmwndjw abc dkwdnwjdwjb\""
   ]
  },
  {
   "cell_type": "code",
   "execution_count": 97,
   "id": "deaa524a",
   "metadata": {},
   "outputs": [
    {
     "data": {
      "text/plain": [
       "(True, False, True)"
      ]
     },
     "execution_count": 97,
     "metadata": {},
     "output_type": "execute_result"
    }
   ],
   "source": [
    "\"abc\".isalpha(), \"abc\".isdigit(), \"5554\".isdigit()"
   ]
  },
  {
   "cell_type": "code",
   "execution_count": 98,
   "id": "a6e1be98",
   "metadata": {},
   "outputs": [
    {
     "data": {
      "text/plain": [
       "(True, True, True)"
      ]
     },
     "execution_count": 98,
     "metadata": {},
     "output_type": "execute_result"
    }
   ],
   "source": [
    "\"5554\".isdigit(), \"5554\".isnumeric(), \"5554\".isdecimal()"
   ]
  },
  {
   "cell_type": "code",
   "execution_count": 99,
   "id": "f38db7d0",
   "metadata": {},
   "outputs": [],
   "source": [
    "s = \"1¹²²³⁴⁴\""
   ]
  },
  {
   "cell_type": "code",
   "execution_count": 100,
   "id": "74105992",
   "metadata": {},
   "outputs": [
    {
     "ename": "ValueError",
     "evalue": "invalid literal for int() with base 10: '1¹²²³⁴⁴'",
     "output_type": "error",
     "traceback": [
      "\u001b[0;31m---------------------------------------------------------------------------\u001b[0m",
      "\u001b[0;31mValueError\u001b[0m                                Traceback (most recent call last)",
      "Input \u001b[0;32mIn [100]\u001b[0m, in \u001b[0;36m<cell line: 1>\u001b[0;34m()\u001b[0m\n\u001b[0;32m----> 1\u001b[0m \u001b[38;5;28;43mint\u001b[39;49m\u001b[43m(\u001b[49m\u001b[43ms\u001b[49m\u001b[43m)\u001b[49m\n",
      "\u001b[0;31mValueError\u001b[0m: invalid literal for int() with base 10: '1¹²²³⁴⁴'"
     ]
    }
   ],
   "source": [
    "int(s)"
   ]
  },
  {
   "cell_type": "code",
   "execution_count": 101,
   "id": "91b2714b",
   "metadata": {},
   "outputs": [
    {
     "data": {
      "text/plain": [
       "(True, True, False)"
      ]
     },
     "execution_count": 101,
     "metadata": {},
     "output_type": "execute_result"
    }
   ],
   "source": [
    "s.isdigit(), s.isnumeric(), s.isdecimal()"
   ]
  },
  {
   "cell_type": "code",
   "execution_count": 104,
   "id": "57cf8b4b",
   "metadata": {},
   "outputs": [
    {
     "data": {
      "text/plain": [
       "(True, False)"
      ]
     },
     "execution_count": 104,
     "metadata": {},
     "output_type": "execute_result"
    }
   ],
   "source": [
    "s.startswith(\"1\"), s.startswith(\"12\")"
   ]
  },
  {
   "cell_type": "code",
   "execution_count": 106,
   "id": "5b686aab",
   "metadata": {},
   "outputs": [
    {
     "data": {
      "text/plain": [
       "(True, False)"
      ]
     },
     "execution_count": 106,
     "metadata": {},
     "output_type": "execute_result"
    }
   ],
   "source": [
    "s[0] == \"1\", s[:2] == \"12\""
   ]
  },
  {
   "cell_type": "code",
   "execution_count": 109,
   "id": "e39576f5",
   "metadata": {},
   "outputs": [],
   "source": [
    "s = \"abc 123 abc\""
   ]
  },
  {
   "cell_type": "code",
   "execution_count": 111,
   "id": "e26174e7",
   "metadata": {},
   "outputs": [
    {
     "data": {
      "text/plain": [
       "2"
      ]
     },
     "execution_count": 111,
     "metadata": {},
     "output_type": "execute_result"
    }
   ],
   "source": [
    "s.count(\"ab\")"
   ]
  },
  {
   "cell_type": "code",
   "execution_count": 114,
   "id": "c8f03095",
   "metadata": {},
   "outputs": [
    {
     "data": {
      "text/plain": [
       "(0, 8, -1)"
      ]
     },
     "execution_count": 114,
     "metadata": {},
     "output_type": "execute_result"
    }
   ],
   "source": [
    "s.find(\"abc\"), s.rfind(\"abc\"), s.find(\"yyyy\")"
   ]
  },
  {
   "cell_type": "code",
   "execution_count": 115,
   "id": "f2ffd30d",
   "metadata": {},
   "outputs": [
    {
     "data": {
      "text/plain": [
       "(0, 8)"
      ]
     },
     "execution_count": 115,
     "metadata": {},
     "output_type": "execute_result"
    }
   ],
   "source": [
    "s.index(\"abc\"), s.rindex(\"abc\")"
   ]
  },
  {
   "cell_type": "code",
   "execution_count": 116,
   "id": "2dacdae9",
   "metadata": {},
   "outputs": [
    {
     "ename": "ValueError",
     "evalue": "substring not found",
     "output_type": "error",
     "traceback": [
      "\u001b[0;31m---------------------------------------------------------------------------\u001b[0m",
      "\u001b[0;31mValueError\u001b[0m                                Traceback (most recent call last)",
      "Input \u001b[0;32mIn [116]\u001b[0m, in \u001b[0;36m<cell line: 1>\u001b[0;34m()\u001b[0m\n\u001b[0;32m----> 1\u001b[0m \u001b[43ms\u001b[49m\u001b[38;5;241;43m.\u001b[39;49m\u001b[43mindex\u001b[49m\u001b[43m(\u001b[49m\u001b[38;5;124;43m\"\u001b[39;49m\u001b[38;5;124;43mabcd\u001b[39;49m\u001b[38;5;124;43m\"\u001b[39;49m\u001b[43m)\u001b[49m\n",
      "\u001b[0;31mValueError\u001b[0m: substring not found"
     ]
    }
   ],
   "source": [
    "s.index(\"abcd\")"
   ]
  },
  {
   "cell_type": "code",
   "execution_count": null,
   "id": "61cceead",
   "metadata": {},
   "outputs": [],
   "source": []
  },
  {
   "cell_type": "code",
   "execution_count": 117,
   "id": "3101ff78",
   "metadata": {},
   "outputs": [],
   "source": [
    "s = \"abc 123   abc\\n\\rqwe\""
   ]
  },
  {
   "cell_type": "code",
   "execution_count": 120,
   "id": "4c7c35e3",
   "metadata": {},
   "outputs": [
    {
     "data": {
      "text/plain": [
       "(['abc', '123', 'abc', 'qwe'],\n",
       " ['abc ', '   abc\\n\\rqwe'],\n",
       " ['abc', '123', '', '', 'abc\\n\\rqwe'])"
      ]
     },
     "execution_count": 120,
     "metadata": {},
     "output_type": "execute_result"
    }
   ],
   "source": [
    "s.split(), s.split(\"123\"), s.split(\" \")"
   ]
  },
  {
   "cell_type": "code",
   "execution_count": 119,
   "id": "6c932591",
   "metadata": {},
   "outputs": [
    {
     "data": {
      "text/plain": [
       "'abc_123_abc_qwe'"
      ]
     },
     "execution_count": 119,
     "metadata": {},
     "output_type": "execute_result"
    }
   ],
   "source": [
    "\"_\".join(s.split())"
   ]
  },
  {
   "cell_type": "code",
   "execution_count": 122,
   "id": "12841196",
   "metadata": {},
   "outputs": [
    {
     "data": {
      "text/plain": [
       "'1 2'"
      ]
     },
     "execution_count": 122,
     "metadata": {},
     "output_type": "execute_result"
    }
   ],
   "source": [
    "\"  1 2  \".strip()"
   ]
  },
  {
   "cell_type": "code",
   "execution_count": 123,
   "id": "5734cb4c",
   "metadata": {},
   "outputs": [
    {
     "data": {
      "text/plain": [
       "('abc ', '123', '   abc\\n\\rqwe')"
      ]
     },
     "execution_count": 123,
     "metadata": {},
     "output_type": "execute_result"
    }
   ],
   "source": [
    "s.partition(\"123\")"
   ]
  },
  {
   "cell_type": "code",
   "execution_count": 124,
   "id": "22f62ba0",
   "metadata": {},
   "outputs": [
    {
     "data": {
      "text/plain": [
       "'abc 123   abc\\n\\rqwe'"
      ]
     },
     "execution_count": 124,
     "metadata": {},
     "output_type": "execute_result"
    }
   ],
   "source": [
    "\"\".join(s.partition(\"123\"))"
   ]
  },
  {
   "cell_type": "code",
   "execution_count": 127,
   "id": "2b0a9c08",
   "metadata": {},
   "outputs": [
    {
     "data": {
      "text/plain": [
       "(('abc', ' ', '123   abc\\n\\rqwe'), ('abc', ' ', '123   abc\\n\\rqwe'))"
      ]
     },
     "execution_count": 127,
     "metadata": {},
     "output_type": "execute_result"
    }
   ],
   "source": [
    "s.partition(\" \"), s.partition(\" \")"
   ]
  },
  {
   "cell_type": "code",
   "execution_count": 129,
   "id": "6b0b1eae",
   "metadata": {},
   "outputs": [
    {
     "data": {
      "text/plain": [
       "(0, 10)"
      ]
     },
     "execution_count": 129,
     "metadata": {},
     "output_type": "execute_result"
    }
   ],
   "source": [
    "s.find(\"abc\"), s.find(\"abc\", 5)"
   ]
  },
  {
   "cell_type": "code",
   "execution_count": 130,
   "id": "d11604e1",
   "metadata": {},
   "outputs": [
    {
     "data": {
      "text/plain": [
       "'abc 123   abc\\n\\rqwe'"
      ]
     },
     "execution_count": 130,
     "metadata": {},
     "output_type": "execute_result"
    }
   ],
   "source": [
    "s"
   ]
  },
  {
   "cell_type": "code",
   "execution_count": null,
   "id": "f2a3b721",
   "metadata": {},
   "outputs": [],
   "source": []
  },
  {
   "cell_type": "code",
   "execution_count": null,
   "id": "eebce16c",
   "metadata": {},
   "outputs": [],
   "source": []
  },
  {
   "cell_type": "code",
   "execution_count": null,
   "id": "e6c5a470",
   "metadata": {},
   "outputs": [],
   "source": []
  },
  {
   "cell_type": "code",
   "execution_count": 131,
   "id": "7972884e",
   "metadata": {},
   "outputs": [],
   "source": [
    "from collections import namedtuple, defaultdict, Counter"
   ]
  },
  {
   "cell_type": "code",
   "execution_count": 135,
   "id": "a34af883",
   "metadata": {},
   "outputs": [],
   "source": [
    "Point = namedtuple(\"Point\", [\"x\", \"y\", \"z\"], rename=True)"
   ]
  },
  {
   "cell_type": "code",
   "execution_count": 138,
   "id": "c374e814",
   "metadata": {},
   "outputs": [],
   "source": [
    "p1 = Point(*[1, 2, 3])"
   ]
  },
  {
   "cell_type": "code",
   "execution_count": 151,
   "id": "f0414f5d",
   "metadata": {},
   "outputs": [
    {
     "data": {
      "text/plain": [
       "Point(x=33, y=2, z=3)"
      ]
     },
     "execution_count": 151,
     "metadata": {},
     "output_type": "execute_result"
    }
   ],
   "source": [
    "p2 = Point(**{**p1._asdict(), \"x\": 33})\n",
    "p2"
   ]
  },
  {
   "cell_type": "code",
   "execution_count": 140,
   "id": "f725b4eb",
   "metadata": {},
   "outputs": [
    {
     "data": {
      "text/plain": [
       "Point(x=1, y=2, z=3)"
      ]
     },
     "execution_count": 140,
     "metadata": {},
     "output_type": "execute_result"
    }
   ],
   "source": [
    "p1"
   ]
  },
  {
   "cell_type": "code",
   "execution_count": 141,
   "id": "aa4d1d2e",
   "metadata": {},
   "outputs": [
    {
     "data": {
      "text/plain": [
       "1"
      ]
     },
     "execution_count": 141,
     "metadata": {},
     "output_type": "execute_result"
    }
   ],
   "source": [
    "p1.x"
   ]
  },
  {
   "cell_type": "code",
   "execution_count": 142,
   "id": "954f2f93",
   "metadata": {},
   "outputs": [
    {
     "data": {
      "text/plain": [
       "3"
      ]
     },
     "execution_count": 142,
     "metadata": {},
     "output_type": "execute_result"
    }
   ],
   "source": [
    "p1[2]"
   ]
  },
  {
   "cell_type": "code",
   "execution_count": 146,
   "id": "db9a0e32",
   "metadata": {},
   "outputs": [
    {
     "ename": "AttributeError",
     "evalue": "can't set attribute",
     "output_type": "error",
     "traceback": [
      "\u001b[0;31m---------------------------------------------------------------------------\u001b[0m",
      "\u001b[0;31mAttributeError\u001b[0m                            Traceback (most recent call last)",
      "Input \u001b[0;32mIn [146]\u001b[0m, in \u001b[0;36m<cell line: 1>\u001b[0;34m()\u001b[0m\n\u001b[0;32m----> 1\u001b[0m p1\u001b[38;5;241m.\u001b[39mx \u001b[38;5;241m=\u001b[39m \u001b[38;5;241m10\u001b[39m\n",
      "\u001b[0;31mAttributeError\u001b[0m: can't set attribute"
     ]
    }
   ],
   "source": [
    "p1.x = 10"
   ]
  },
  {
   "cell_type": "code",
   "execution_count": 147,
   "id": "96c082a1",
   "metadata": {},
   "outputs": [
    {
     "ename": "TypeError",
     "evalue": "'Point' object does not support item assignment",
     "output_type": "error",
     "traceback": [
      "\u001b[0;31m---------------------------------------------------------------------------\u001b[0m",
      "\u001b[0;31mTypeError\u001b[0m                                 Traceback (most recent call last)",
      "Input \u001b[0;32mIn [147]\u001b[0m, in \u001b[0;36m<cell line: 1>\u001b[0;34m()\u001b[0m\n\u001b[0;32m----> 1\u001b[0m p1[\u001b[38;5;241m2\u001b[39m] \u001b[38;5;241m=\u001b[39m \u001b[38;5;241m10\u001b[39m\n",
      "\u001b[0;31mTypeError\u001b[0m: 'Point' object does not support item assignment"
     ]
    }
   ],
   "source": [
    "p1[2] = 10"
   ]
  },
  {
   "cell_type": "code",
   "execution_count": 148,
   "id": "043c8076",
   "metadata": {},
   "outputs": [
    {
     "data": {
      "text/plain": [
       "['__add__',\n",
       " '__class__',\n",
       " '__class_getitem__',\n",
       " '__contains__',\n",
       " '__delattr__',\n",
       " '__dir__',\n",
       " '__doc__',\n",
       " '__eq__',\n",
       " '__format__',\n",
       " '__ge__',\n",
       " '__getattribute__',\n",
       " '__getitem__',\n",
       " '__getnewargs__',\n",
       " '__gt__',\n",
       " '__hash__',\n",
       " '__init__',\n",
       " '__init_subclass__',\n",
       " '__iter__',\n",
       " '__le__',\n",
       " '__len__',\n",
       " '__lt__',\n",
       " '__match_args__',\n",
       " '__module__',\n",
       " '__mul__',\n",
       " '__ne__',\n",
       " '__new__',\n",
       " '__reduce__',\n",
       " '__reduce_ex__',\n",
       " '__repr__',\n",
       " '__rmul__',\n",
       " '__setattr__',\n",
       " '__sizeof__',\n",
       " '__slots__',\n",
       " '__str__',\n",
       " '__subclasshook__',\n",
       " '_asdict',\n",
       " '_field_defaults',\n",
       " '_fields',\n",
       " '_make',\n",
       " '_replace',\n",
       " 'count',\n",
       " 'index',\n",
       " 'x',\n",
       " 'y',\n",
       " 'z']"
      ]
     },
     "execution_count": 148,
     "metadata": {},
     "output_type": "execute_result"
    }
   ],
   "source": [
    "dir(p1)"
   ]
  },
  {
   "cell_type": "code",
   "execution_count": null,
   "id": "b4535e46",
   "metadata": {},
   "outputs": [],
   "source": []
  },
  {
   "cell_type": "code",
   "execution_count": null,
   "id": "e063c671",
   "metadata": {},
   "outputs": [],
   "source": []
  },
  {
   "cell_type": "code",
   "execution_count": 152,
   "id": "49ab453f",
   "metadata": {},
   "outputs": [
    {
     "data": {
      "text/plain": [
       "2"
      ]
     },
     "execution_count": 152,
     "metadata": {},
     "output_type": "execute_result"
    }
   ],
   "source": [
    "def_dict = defaultdict(lambda: 2)\n",
    "\n",
    "def_dict[3]"
   ]
  },
  {
   "cell_type": "code",
   "execution_count": 153,
   "id": "112175c0",
   "metadata": {},
   "outputs": [
    {
     "data": {
      "text/plain": [
       "defaultdict(<function __main__.<lambda>()>, {3: 2})"
      ]
     },
     "execution_count": 153,
     "metadata": {},
     "output_type": "execute_result"
    }
   ],
   "source": [
    "def_dict"
   ]
  },
  {
   "cell_type": "code",
   "execution_count": 154,
   "id": "f0ed80e4",
   "metadata": {},
   "outputs": [],
   "source": [
    "def_dict[4] = 44"
   ]
  },
  {
   "cell_type": "code",
   "execution_count": 155,
   "id": "fa4cb3fa",
   "metadata": {},
   "outputs": [
    {
     "data": {
      "text/plain": [
       "defaultdict(<function __main__.<lambda>()>, {3: 2, 4: 44})"
      ]
     },
     "execution_count": 155,
     "metadata": {},
     "output_type": "execute_result"
    }
   ],
   "source": [
    "def_dict"
   ]
  },
  {
   "cell_type": "code",
   "execution_count": 156,
   "id": "c2d441ab",
   "metadata": {},
   "outputs": [],
   "source": [
    "def_dict = defaultdict(lambda: {\"x\": [], \"y\": 2})"
   ]
  },
  {
   "cell_type": "code",
   "execution_count": 157,
   "id": "4cd113f1",
   "metadata": {},
   "outputs": [
    {
     "data": {
      "text/plain": [
       "{'x': [], 'y': 2}"
      ]
     },
     "execution_count": 157,
     "metadata": {},
     "output_type": "execute_result"
    }
   ],
   "source": [
    "def_dict[99]"
   ]
  },
  {
   "cell_type": "code",
   "execution_count": 158,
   "id": "dd1901ee",
   "metadata": {},
   "outputs": [
    {
     "data": {
      "text/plain": [
       "defaultdict(<function __main__.<lambda>()>, {99: {'x': [], 'y': 2}})"
      ]
     },
     "execution_count": 158,
     "metadata": {},
     "output_type": "execute_result"
    }
   ],
   "source": [
    "def_dict"
   ]
  },
  {
   "cell_type": "code",
   "execution_count": 160,
   "id": "f6696ae1",
   "metadata": {},
   "outputs": [],
   "source": [
    "c = Counter(\"dkwhjdjhqkdgkqhgdjw\")"
   ]
  },
  {
   "cell_type": "code",
   "execution_count": 161,
   "id": "2e4949b7",
   "metadata": {},
   "outputs": [
    {
     "data": {
      "text/plain": [
       "Counter({'d': 4, 'k': 3, 'w': 2, 'h': 3, 'j': 3, 'q': 2, 'g': 2})"
      ]
     },
     "execution_count": 161,
     "metadata": {},
     "output_type": "execute_result"
    }
   ],
   "source": [
    "c"
   ]
  },
  {
   "cell_type": "code",
   "execution_count": 162,
   "id": "ac4eb518",
   "metadata": {},
   "outputs": [
    {
     "data": {
      "text/plain": [
       "4"
      ]
     },
     "execution_count": 162,
     "metadata": {},
     "output_type": "execute_result"
    }
   ],
   "source": [
    "c['d']"
   ]
  },
  {
   "cell_type": "code",
   "execution_count": 164,
   "id": "3220c8fd",
   "metadata": {},
   "outputs": [
    {
     "data": {
      "text/plain": [
       "[('d', 4), ('k', 3), ('h', 3)]"
      ]
     },
     "execution_count": 164,
     "metadata": {},
     "output_type": "execute_result"
    }
   ],
   "source": [
    "c.most_common(3)"
   ]
  },
  {
   "cell_type": "code",
   "execution_count": 166,
   "id": "9c10e786",
   "metadata": {},
   "outputs": [
    {
     "data": {
      "text/plain": [
       "['d',\n",
       " 'd',\n",
       " 'd',\n",
       " 'd',\n",
       " 'k',\n",
       " 'k',\n",
       " 'k',\n",
       " 'w',\n",
       " 'w',\n",
       " 'h',\n",
       " 'h',\n",
       " 'h',\n",
       " 'j',\n",
       " 'j',\n",
       " 'j',\n",
       " 'q',\n",
       " 'q',\n",
       " 'g',\n",
       " 'g']"
      ]
     },
     "execution_count": 166,
     "metadata": {},
     "output_type": "execute_result"
    }
   ],
   "source": [
    "list(c.elements())"
   ]
  },
  {
   "cell_type": "code",
   "execution_count": null,
   "id": "1a343490",
   "metadata": {},
   "outputs": [],
   "source": []
  },
  {
   "cell_type": "code",
   "execution_count": 167,
   "id": "0fb634f2",
   "metadata": {},
   "outputs": [],
   "source": [
    "from functools import partial"
   ]
  },
  {
   "cell_type": "code",
   "execution_count": 184,
   "id": "4e836789",
   "metadata": {},
   "outputs": [],
   "source": [
    "def do_many_params(a, b, c, d=12):\n",
    "    return \"do\", d\n",
    "\n",
    "\n",
    "def do_many_params_1(a, d, name):\n",
    "    return \"do1\"\n",
    "\n",
    "\n",
    "def processor(callback, query):\n",
    "    #resp = requests.get(query)\n",
    "    print(\"!!!\")\n",
    "    if query:\n",
    "        print(\"4444\")\n",
    "        print(callback(query))\n",
    "\n",
    "\n",
    "do = partial(do_many_params, 10, 20, 30)\n"
   ]
  },
  {
   "cell_type": "code",
   "execution_count": 171,
   "id": "b214f9d8",
   "metadata": {},
   "outputs": [
    {
     "data": {
      "text/plain": [
       "('do', 12)"
      ]
     },
     "execution_count": 171,
     "metadata": {},
     "output_type": "execute_result"
    }
   ],
   "source": [
    "do()"
   ]
  },
  {
   "cell_type": "code",
   "execution_count": 185,
   "id": "bebbef7b",
   "metadata": {},
   "outputs": [
    {
     "name": "stdout",
     "output_type": "stream",
     "text": [
      "!!!\n",
      "4444\n",
      "('do', '123')\n",
      "None\n"
     ]
    }
   ],
   "source": [
    "print(processor(do, \"123\"))"
   ]
  },
  {
   "cell_type": "code",
   "execution_count": null,
   "id": "baf3f09f",
   "metadata": {},
   "outputs": [],
   "source": []
  },
  {
   "cell_type": "code",
   "execution_count": 186,
   "id": "83442c31",
   "metadata": {},
   "outputs": [],
   "source": [
    "import itertools as it"
   ]
  },
  {
   "cell_type": "code",
   "execution_count": 187,
   "id": "e496fa97",
   "metadata": {},
   "outputs": [],
   "source": [
    "lst = [1, 2, 3, 4, 5]"
   ]
  },
  {
   "cell_type": "code",
   "execution_count": 191,
   "id": "a2b4eaae",
   "metadata": {},
   "outputs": [
    {
     "data": {
      "text/plain": [
       "[1, 3, 6, 10, 15]"
      ]
     },
     "execution_count": 191,
     "metadata": {},
     "output_type": "execute_result"
    }
   ],
   "source": [
    "list(it.accumulate(lst))"
   ]
  },
  {
   "cell_type": "code",
   "execution_count": 192,
   "id": "d4b32628",
   "metadata": {},
   "outputs": [
    {
     "data": {
      "text/plain": [
       "[1, 2, 6, 24, 120]"
      ]
     },
     "execution_count": 192,
     "metadata": {},
     "output_type": "execute_result"
    }
   ],
   "source": [
    "list(it.accumulate(lst, lambda x, y: x * y))"
   ]
  },
  {
   "cell_type": "code",
   "execution_count": 193,
   "id": "685c0f32",
   "metadata": {},
   "outputs": [
    {
     "data": {
      "text/plain": [
       "[1, 3, 5]"
      ]
     },
     "execution_count": 193,
     "metadata": {},
     "output_type": "execute_result"
    }
   ],
   "source": [
    "list(it.compress(lst, [1, 0, 1, 0, 1]))"
   ]
  },
  {
   "cell_type": "code",
   "execution_count": 206,
   "id": "d2672334",
   "metadata": {},
   "outputs": [],
   "source": [
    "lst = [1, 1, 2, 1, 1, 3, 3, 3, 3, 9, 9, 10]"
   ]
  },
  {
   "cell_type": "code",
   "execution_count": 207,
   "id": "5bf2e22c",
   "metadata": {},
   "outputs": [
    {
     "name": "stdout",
     "output_type": "stream",
     "text": [
      "1 <itertools._grouper object at 0x10f67c970>\n",
      "2 <itertools._grouper object at 0x10f67f8e0>\n",
      "1 <itertools._grouper object at 0x10f67de40>\n",
      "3 <itertools._grouper object at 0x10f67f430>\n",
      "9 <itertools._grouper object at 0x10f67ffd0>\n",
      "10 <itertools._grouper object at 0x10f67c340>\n"
     ]
    }
   ],
   "source": [
    "for num, n_it in it.groupby(lst):\n",
    "    print(num, n_it)"
   ]
  },
  {
   "cell_type": "code",
   "execution_count": 208,
   "id": "5d1e3328",
   "metadata": {},
   "outputs": [
    {
     "name": "stdout",
     "output_type": "stream",
     "text": [
      "1 [1, 1]\n",
      "2 [2]\n",
      "1 [1, 1]\n",
      "3 [3, 3, 3, 3]\n",
      "9 [9, 9]\n",
      "10 [10]\n"
     ]
    }
   ],
   "source": [
    "for num, n_it in it.groupby(lst):\n",
    "    print(num, list(n_it))\n"
   ]
  },
  {
   "cell_type": "code",
   "execution_count": 221,
   "id": "7caa57d9",
   "metadata": {},
   "outputs": [],
   "source": [
    "cnt = it.count(10)"
   ]
  },
  {
   "cell_type": "code",
   "execution_count": 222,
   "id": "0dacf95c",
   "metadata": {},
   "outputs": [
    {
     "data": {
      "text/plain": [
       "10"
      ]
     },
     "execution_count": 222,
     "metadata": {},
     "output_type": "execute_result"
    }
   ],
   "source": [
    "next(cnt)"
   ]
  },
  {
   "cell_type": "code",
   "execution_count": 223,
   "id": "6864fd1c",
   "metadata": {},
   "outputs": [
    {
     "data": {
      "text/plain": [
       "11"
      ]
     },
     "execution_count": 223,
     "metadata": {},
     "output_type": "execute_result"
    }
   ],
   "source": [
    "next(cnt)"
   ]
  },
  {
   "cell_type": "code",
   "execution_count": 224,
   "id": "909d5f1c",
   "metadata": {},
   "outputs": [
    {
     "ename": "TypeError",
     "evalue": "'itertools.count' object is not subscriptable",
     "output_type": "error",
     "traceback": [
      "\u001b[0;31m---------------------------------------------------------------------------\u001b[0m",
      "\u001b[0;31mTypeError\u001b[0m                                 Traceback (most recent call last)",
      "Input \u001b[0;32mIn [224]\u001b[0m, in \u001b[0;36m<cell line: 1>\u001b[0;34m()\u001b[0m\n\u001b[0;32m----> 1\u001b[0m \u001b[43mcnt\u001b[49m\u001b[43m[\u001b[49m\u001b[38;5;241;43m100\u001b[39;49m\u001b[43m]\u001b[49m\n",
      "\u001b[0;31mTypeError\u001b[0m: 'itertools.count' object is not subscriptable"
     ]
    }
   ],
   "source": [
    "cnt[100]"
   ]
  },
  {
   "cell_type": "code",
   "execution_count": 225,
   "id": "05659e9e",
   "metadata": {},
   "outputs": [
    {
     "data": {
      "text/plain": [
       "[112, 113, 114, 115, 116]"
      ]
     },
     "execution_count": 225,
     "metadata": {},
     "output_type": "execute_result"
    }
   ],
   "source": [
    "list(it.islice(cnt, 100, 105))"
   ]
  },
  {
   "cell_type": "code",
   "execution_count": 247,
   "id": "f8061824",
   "metadata": {},
   "outputs": [],
   "source": [
    "from enum import Enum\n",
    "from dataclasses import dataclass, field"
   ]
  },
  {
   "cell_type": "code",
   "execution_count": 228,
   "id": "13d27f98",
   "metadata": {},
   "outputs": [],
   "source": [
    "class Errors(Enum):\n",
    "    zero_dif = 100\n",
    "    value = 200"
   ]
  },
  {
   "cell_type": "code",
   "execution_count": 229,
   "id": "ab17f3c8",
   "metadata": {},
   "outputs": [
    {
     "name": "stdout",
     "output_type": "stream",
     "text": [
      "Errors.zero_dif\n",
      "Errors.value\n"
     ]
    }
   ],
   "source": [
    "for err in Errors:\n",
    "    print(err)"
   ]
  },
  {
   "cell_type": "code",
   "execution_count": 231,
   "id": "5812b659",
   "metadata": {},
   "outputs": [
    {
     "data": {
      "text/plain": [
       "(<Errors.zero_dif: 100>, 'zero_dif', 100)"
      ]
     },
     "execution_count": 231,
     "metadata": {},
     "output_type": "execute_result"
    }
   ],
   "source": [
    "Errors.zero_dif, Errors.zero_dif.name, Errors.zero_dif.value"
   ]
  },
  {
   "cell_type": "code",
   "execution_count": 232,
   "id": "626ddb66",
   "metadata": {},
   "outputs": [],
   "source": [
    "err = Errors(200)"
   ]
  },
  {
   "cell_type": "code",
   "execution_count": 234,
   "id": "830f3422",
   "metadata": {},
   "outputs": [
    {
     "data": {
      "text/plain": [
       "<Errors.value: 200>"
      ]
     },
     "execution_count": 234,
     "metadata": {},
     "output_type": "execute_result"
    }
   ],
   "source": [
    "err"
   ]
  },
  {
   "cell_type": "code",
   "execution_count": 239,
   "id": "abe8724e",
   "metadata": {},
   "outputs": [
    {
     "data": {
      "text/plain": [
       "(True, True)"
      ]
     },
     "execution_count": 239,
     "metadata": {},
     "output_type": "execute_result"
    }
   ],
   "source": [
    "err is Errors.value, err.value == 200"
   ]
  },
  {
   "cell_type": "code",
   "execution_count": 236,
   "id": "8f2055d3",
   "metadata": {},
   "outputs": [
    {
     "data": {
      "text/plain": [
       "False"
      ]
     },
     "execution_count": 236,
     "metadata": {},
     "output_type": "execute_result"
    }
   ],
   "source": [
    "err is Errors.zero_dif"
   ]
  },
  {
   "cell_type": "code",
   "execution_count": 238,
   "id": "b5fc9c07",
   "metadata": {},
   "outputs": [
    {
     "data": {
      "text/plain": [
       "200"
      ]
     },
     "execution_count": 238,
     "metadata": {},
     "output_type": "execute_result"
    }
   ],
   "source": [
    "err.value"
   ]
  },
  {
   "cell_type": "code",
   "execution_count": null,
   "id": "129d4583",
   "metadata": {},
   "outputs": [],
   "source": []
  },
  {
   "cell_type": "code",
   "execution_count": null,
   "id": "9fbfd12f",
   "metadata": {},
   "outputs": [],
   "source": []
  },
  {
   "cell_type": "code",
   "execution_count": 248,
   "id": "4e60a0e8",
   "metadata": {},
   "outputs": [],
   "source": [
    "@dataclass\n",
    "class Person:\n",
    "    age: int\n",
    "    name: str\n",
    "    children: list[Person] = field(default_factory=list)"
   ]
  },
  {
   "cell_type": "code",
   "execution_count": 249,
   "id": "b8e8f941",
   "metadata": {},
   "outputs": [
    {
     "data": {
      "text/plain": [
       "mappingproxy({'__module__': '__main__',\n",
       "              '__annotations__': {'age': int,\n",
       "               'name': str,\n",
       "               'children': list[__main__.Person]},\n",
       "              '__dict__': <attribute '__dict__' of 'Person' objects>,\n",
       "              '__weakref__': <attribute '__weakref__' of 'Person' objects>,\n",
       "              '__doc__': 'Person(age: int, name: str, children: list[__main__.Person] = <factory>)',\n",
       "              '__dataclass_params__': _DataclassParams(init=True,repr=True,eq=True,order=False,unsafe_hash=False,frozen=False),\n",
       "              '__dataclass_fields__': {'age': Field(name='age',type=<class 'int'>,default=<dataclasses._MISSING_TYPE object at 0x10b4d0fa0>,default_factory=<dataclasses._MISSING_TYPE object at 0x10b4d0fa0>,init=True,repr=True,hash=None,compare=True,metadata=mappingproxy({}),kw_only=False,_field_type=_FIELD),\n",
       "               'name': Field(name='name',type=<class 'str'>,default=<dataclasses._MISSING_TYPE object at 0x10b4d0fa0>,default_factory=<dataclasses._MISSING_TYPE object at 0x10b4d0fa0>,init=True,repr=True,hash=None,compare=True,metadata=mappingproxy({}),kw_only=False,_field_type=_FIELD),\n",
       "               'children': Field(name='children',type=list[__main__.Person],default=<dataclasses._MISSING_TYPE object at 0x10b4d0fa0>,default_factory=<class 'list'>,init=True,repr=True,hash=None,compare=True,metadata=mappingproxy({}),kw_only=False,_field_type=_FIELD)},\n",
       "              '__init__': <function __main__.Person.__init__(self, age: int, name: str, children: list[__main__.Person] = <factory>) -> None>,\n",
       "              '__repr__': <function __main__.Person.__repr__(self)>,\n",
       "              '__eq__': <function __main__.Person.__eq__(self, other)>,\n",
       "              '__hash__': None,\n",
       "              '__match_args__': ('age', 'name', 'children')})"
      ]
     },
     "execution_count": 249,
     "metadata": {},
     "output_type": "execute_result"
    }
   ],
   "source": [
    "Person.__dict__"
   ]
  },
  {
   "cell_type": "code",
   "execution_count": 251,
   "id": "8cc50bd4",
   "metadata": {},
   "outputs": [],
   "source": [
    "p = Person(10, \"pers\")"
   ]
  },
  {
   "cell_type": "code",
   "execution_count": 252,
   "id": "b200e4ff",
   "metadata": {},
   "outputs": [
    {
     "data": {
      "text/plain": [
       "Person(age=10, name='pers', children=[])"
      ]
     },
     "execution_count": 252,
     "metadata": {},
     "output_type": "execute_result"
    }
   ],
   "source": [
    "p"
   ]
  },
  {
   "cell_type": "code",
   "execution_count": 253,
   "id": "42f4bc12",
   "metadata": {},
   "outputs": [
    {
     "data": {
      "text/plain": [
       "{'age': 10, 'name': 'pers', 'children': []}"
      ]
     },
     "execution_count": 253,
     "metadata": {},
     "output_type": "execute_result"
    }
   ],
   "source": [
    "p.__dict__"
   ]
  },
  {
   "cell_type": "code",
   "execution_count": 254,
   "id": "698b2270",
   "metadata": {},
   "outputs": [
    {
     "name": "stdout",
     "output_type": "stream",
     "text": [
      "Person(age=10, name='pers', children=[])\n"
     ]
    }
   ],
   "source": [
    "print(p)"
   ]
  },
  {
   "cell_type": "code",
   "execution_count": 255,
   "id": "183f46d9",
   "metadata": {},
   "outputs": [],
   "source": [
    "p2 = Person(42, \"pers\")"
   ]
  },
  {
   "cell_type": "code",
   "execution_count": 259,
   "id": "fe9ffb21",
   "metadata": {},
   "outputs": [
    {
     "data": {
      "text/plain": [
       "False"
      ]
     },
     "execution_count": 259,
     "metadata": {},
     "output_type": "execute_result"
    }
   ],
   "source": [
    "p == p2"
   ]
  },
  {
   "cell_type": "code",
   "execution_count": 261,
   "id": "1dd80097",
   "metadata": {},
   "outputs": [
    {
     "data": {
      "text/plain": [
       "True"
      ]
     },
     "execution_count": 261,
     "metadata": {},
     "output_type": "execute_result"
    }
   ],
   "source": [
    "p2 == Person(42, \"pers\")"
   ]
  },
  {
   "cell_type": "code",
   "execution_count": 266,
   "id": "a5900975",
   "metadata": {},
   "outputs": [],
   "source": [
    "p2.age = 10"
   ]
  },
  {
   "cell_type": "code",
   "execution_count": 272,
   "id": "f7222330",
   "metadata": {},
   "outputs": [
    {
     "data": {
      "text/plain": [
       "Person(age=10, name='pers', children=[])"
      ]
     },
     "execution_count": 272,
     "metadata": {},
     "output_type": "execute_result"
    }
   ],
   "source": [
    "p2"
   ]
  },
  {
   "cell_type": "code",
   "execution_count": 271,
   "id": "9a31c2c3",
   "metadata": {},
   "outputs": [],
   "source": [
    "p2.place = \"dwd\""
   ]
  },
  {
   "cell_type": "code",
   "execution_count": 273,
   "id": "3694d5a3",
   "metadata": {},
   "outputs": [
    {
     "data": {
      "text/plain": [
       "'dwd'"
      ]
     },
     "execution_count": 273,
     "metadata": {},
     "output_type": "execute_result"
    }
   ],
   "source": [
    "p2.place"
   ]
  },
  {
   "cell_type": "code",
   "execution_count": null,
   "id": "ffb23b1e",
   "metadata": {},
   "outputs": [],
   "source": []
  },
  {
   "cell_type": "code",
   "execution_count": 262,
   "id": "a4261ce0",
   "metadata": {},
   "outputs": [],
   "source": [
    "@dataclass(frozen=True)\n",
    "class Person:\n",
    "    age: int\n",
    "    name: str\n",
    "    children: list[Person] = field(default_factory=list)"
   ]
  },
  {
   "cell_type": "code",
   "execution_count": 263,
   "id": "b94a26ab",
   "metadata": {},
   "outputs": [],
   "source": [
    "p1 = Person(42, \"pers\")"
   ]
  },
  {
   "cell_type": "code",
   "execution_count": 265,
   "id": "91ef1920",
   "metadata": {},
   "outputs": [
    {
     "ename": "FrozenInstanceError",
     "evalue": "cannot assign to field 'age'",
     "output_type": "error",
     "traceback": [
      "\u001b[0;31m---------------------------------------------------------------------------\u001b[0m",
      "\u001b[0;31mFrozenInstanceError\u001b[0m                       Traceback (most recent call last)",
      "Input \u001b[0;32mIn [265]\u001b[0m, in \u001b[0;36m<cell line: 1>\u001b[0;34m()\u001b[0m\n\u001b[0;32m----> 1\u001b[0m p1\u001b[38;5;241m.\u001b[39mage \u001b[38;5;241m=\u001b[39m \u001b[38;5;241m10\u001b[39m\n",
      "File \u001b[0;32m<string>:4\u001b[0m, in \u001b[0;36m__setattr__\u001b[0;34m(self, name, value)\u001b[0m\n",
      "\u001b[0;31mFrozenInstanceError\u001b[0m: cannot assign to field 'age'"
     ]
    }
   ],
   "source": [
    "p1.age = 10"
   ]
  },
  {
   "cell_type": "code",
   "execution_count": 268,
   "id": "52d7b452",
   "metadata": {},
   "outputs": [],
   "source": [
    "p1.__dict__[\"age\"] = 10"
   ]
  },
  {
   "cell_type": "code",
   "execution_count": 269,
   "id": "5b188b34",
   "metadata": {},
   "outputs": [
    {
     "data": {
      "text/plain": [
       "Person(age=10, name='pers', children=[])"
      ]
     },
     "execution_count": 269,
     "metadata": {},
     "output_type": "execute_result"
    }
   ],
   "source": [
    "p1"
   ]
  },
  {
   "cell_type": "code",
   "execution_count": 270,
   "id": "aae591fc",
   "metadata": {},
   "outputs": [
    {
     "ename": "FrozenInstanceError",
     "evalue": "cannot assign to field 'place'",
     "output_type": "error",
     "traceback": [
      "\u001b[0;31m---------------------------------------------------------------------------\u001b[0m",
      "\u001b[0;31mFrozenInstanceError\u001b[0m                       Traceback (most recent call last)",
      "Input \u001b[0;32mIn [270]\u001b[0m, in \u001b[0;36m<cell line: 1>\u001b[0;34m()\u001b[0m\n\u001b[0;32m----> 1\u001b[0m p1\u001b[38;5;241m.\u001b[39mplace \u001b[38;5;241m=\u001b[39m \u001b[38;5;124m\"\u001b[39m\u001b[38;5;124mMsc\u001b[39m\u001b[38;5;124m\"\u001b[39m\n",
      "File \u001b[0;32m<string>:4\u001b[0m, in \u001b[0;36m__setattr__\u001b[0;34m(self, name, value)\u001b[0m\n",
      "\u001b[0;31mFrozenInstanceError\u001b[0m: cannot assign to field 'place'"
     ]
    }
   ],
   "source": [
    "p1.place = \"Msc\""
   ]
  },
  {
   "cell_type": "code",
   "execution_count": null,
   "id": "08b652d9",
   "metadata": {},
   "outputs": [],
   "source": []
  },
  {
   "cell_type": "code",
   "execution_count": null,
   "id": "8da24fff",
   "metadata": {},
   "outputs": [],
   "source": []
  },
  {
   "cell_type": "code",
   "execution_count": 280,
   "id": "ec7cc201",
   "metadata": {},
   "outputs": [],
   "source": [
    "@dataclass(slots=True)\n",
    "class Person:\n",
    "    age: int\n",
    "    name: str\n",
    "    children: list[Person] = field(default_factory=list)\n",
    "        \n",
    "    def __post_init__(self):\n",
    "        self.name = f\"{self.name}[age={self.age}]\""
   ]
  },
  {
   "cell_type": "code",
   "execution_count": 281,
   "id": "f24a9b9e",
   "metadata": {},
   "outputs": [],
   "source": [
    "p3 = Person(42, \"pers\")"
   ]
  },
  {
   "cell_type": "code",
   "execution_count": 282,
   "id": "6a325d53",
   "metadata": {},
   "outputs": [
    {
     "data": {
      "text/plain": [
       "Person(age=42, name='pers[age=42]', children=[])"
      ]
     },
     "execution_count": 282,
     "metadata": {},
     "output_type": "execute_result"
    }
   ],
   "source": [
    "p3"
   ]
  },
  {
   "cell_type": "code",
   "execution_count": 277,
   "id": "6c0bcb94",
   "metadata": {},
   "outputs": [],
   "source": [
    "p3.age = 10"
   ]
  },
  {
   "cell_type": "code",
   "execution_count": 278,
   "id": "dcc23b8a",
   "metadata": {},
   "outputs": [
    {
     "data": {
      "text/plain": [
       "Person(age=10, name='pers', children=[])"
      ]
     },
     "execution_count": 278,
     "metadata": {},
     "output_type": "execute_result"
    }
   ],
   "source": [
    "p3"
   ]
  },
  {
   "cell_type": "code",
   "execution_count": 279,
   "id": "ca0d3193",
   "metadata": {},
   "outputs": [
    {
     "ename": "AttributeError",
     "evalue": "'Person' object has no attribute 'place'",
     "output_type": "error",
     "traceback": [
      "\u001b[0;31m---------------------------------------------------------------------------\u001b[0m",
      "\u001b[0;31mAttributeError\u001b[0m                            Traceback (most recent call last)",
      "Input \u001b[0;32mIn [279]\u001b[0m, in \u001b[0;36m<cell line: 1>\u001b[0;34m()\u001b[0m\n\u001b[0;32m----> 1\u001b[0m p3\u001b[38;5;241m.\u001b[39mplace \u001b[38;5;241m=\u001b[39m \u001b[38;5;124m\"\u001b[39m\u001b[38;5;124mdwd\u001b[39m\u001b[38;5;124m\"\u001b[39m\n",
      "\u001b[0;31mAttributeError\u001b[0m: 'Person' object has no attribute 'place'"
     ]
    }
   ],
   "source": [
    "p3.place = \"dwd\""
   ]
  },
  {
   "cell_type": "code",
   "execution_count": null,
   "id": "8fa2d72b",
   "metadata": {},
   "outputs": [],
   "source": []
  }
 ],
 "metadata": {
  "kernelspec": {
   "display_name": "Python 3 (ipykernel)",
   "language": "python",
   "name": "python3"
  },
  "language_info": {
   "codemirror_mode": {
    "name": "ipython",
    "version": 3
   },
   "file_extension": ".py",
   "mimetype": "text/x-python",
   "name": "python",
   "nbconvert_exporter": "python",
   "pygments_lexer": "ipython3",
   "version": "3.10.2"
  }
 },
 "nbformat": 4,
 "nbformat_minor": 5
}
