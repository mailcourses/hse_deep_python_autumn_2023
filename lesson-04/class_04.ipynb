{
 "cells": [
  {
   "cell_type": "code",
   "execution_count": 1,
   "id": "15568377",
   "metadata": {},
   "outputs": [
    {
     "name": "stdout",
     "output_type": "stream",
     "text": [
      "{'self': <__main__.Attr object at 0x10649d600>, 'owner': <class '__main__.A'>, 'name': 'x'}=\n"
     ]
    }
   ],
   "source": [
    "class Attr:\n",
    "    def __set_name__(self, owner, name):\n",
    "        print(f\"{locals()}=\")\n",
    "        self.name = name\n",
    "\n",
    "        \n",
    "class A:\n",
    "    x = Attr()  # Automatically calls: x.__set_name__(A, \"x\")\n",
    "\n",
    " "
   ]
  },
  {
   "cell_type": "code",
   "execution_count": 2,
   "id": "20389d3f",
   "metadata": {},
   "outputs": [],
   "source": [
    "a = A()"
   ]
  },
  {
   "cell_type": "code",
   "execution_count": null,
   "id": "1386c7b6",
   "metadata": {},
   "outputs": [],
   "source": []
  },
  {
   "cell_type": "code",
   "execution_count": 10,
   "id": "0f4ba2b8",
   "metadata": {},
   "outputs": [],
   "source": [
    "class FieldDescriptor:\n",
    "    def __get__(self, obj, objtype):\n",
    "         print(f\"get {obj} cls={objtype}\")\n",
    "            \n",
    "    def __set__(self, obj, val):\n",
    "        print(f\"set {val} for {obj}\")\n",
    "    \n",
    "    def __delete__(self, obj):\n",
    "        print(f\"delete from {obj}\")\n",
    "        \n",
    "\n",
    "class MyClass:\n",
    "    field = FieldDescriptor()"
   ]
  },
  {
   "cell_type": "code",
   "execution_count": 11,
   "id": "88793042",
   "metadata": {},
   "outputs": [
    {
     "name": "stdout",
     "output_type": "stream",
     "text": [
      "get None cls=<class '__main__.MyClass'>\n"
     ]
    }
   ],
   "source": [
    "MyClass.field"
   ]
  },
  {
   "cell_type": "code",
   "execution_count": 6,
   "id": "ff23a82f",
   "metadata": {},
   "outputs": [],
   "source": [
    "MyClass.field = \"dwkjd\""
   ]
  },
  {
   "cell_type": "code",
   "execution_count": 12,
   "id": "bffc064e",
   "metadata": {},
   "outputs": [
    {
     "data": {
      "text/plain": [
       "mappingproxy({'__module__': '__main__',\n",
       "              'field': <__main__.FieldDescriptor at 0x1068eefb0>,\n",
       "              '__dict__': <attribute '__dict__' of 'MyClass' objects>,\n",
       "              '__weakref__': <attribute '__weakref__' of 'MyClass' objects>,\n",
       "              '__doc__': None})"
      ]
     },
     "execution_count": 12,
     "metadata": {},
     "output_type": "execute_result"
    }
   ],
   "source": [
    "MyClass.__dict__"
   ]
  },
  {
   "cell_type": "code",
   "execution_count": 13,
   "id": "3976352a",
   "metadata": {},
   "outputs": [
    {
     "name": "stdout",
     "output_type": "stream",
     "text": [
      "get None cls=<class '__main__.MyClass'>\n"
     ]
    }
   ],
   "source": [
    "MyClass.field"
   ]
  },
  {
   "cell_type": "code",
   "execution_count": 14,
   "id": "428e2cb0",
   "metadata": {},
   "outputs": [],
   "source": [
    "inst = MyClass()"
   ]
  },
  {
   "cell_type": "code",
   "execution_count": 15,
   "id": "be4da459",
   "metadata": {},
   "outputs": [
    {
     "data": {
      "text/plain": [
       "{}"
      ]
     },
     "execution_count": 15,
     "metadata": {},
     "output_type": "execute_result"
    }
   ],
   "source": [
    "inst.__dict__"
   ]
  },
  {
   "cell_type": "code",
   "execution_count": 16,
   "id": "085c0ed7",
   "metadata": {},
   "outputs": [
    {
     "name": "stdout",
     "output_type": "stream",
     "text": [
      "get <__main__.MyClass object at 0x1068f88b0> cls=<class '__main__.MyClass'>\n"
     ]
    }
   ],
   "source": [
    "inst.field"
   ]
  },
  {
   "cell_type": "code",
   "execution_count": 17,
   "id": "de2c7765",
   "metadata": {},
   "outputs": [
    {
     "name": "stdout",
     "output_type": "stream",
     "text": [
      "set jwjhfjhwjf for <__main__.MyClass object at 0x1068f88b0>\n"
     ]
    }
   ],
   "source": [
    "inst.field = \"jwjhfjhwjf\""
   ]
  },
  {
   "cell_type": "code",
   "execution_count": 18,
   "id": "c8e711fd",
   "metadata": {},
   "outputs": [
    {
     "name": "stdout",
     "output_type": "stream",
     "text": [
      "get <__main__.MyClass object at 0x1068f88b0> cls=<class '__main__.MyClass'>\n"
     ]
    }
   ],
   "source": [
    "inst.field"
   ]
  },
  {
   "cell_type": "code",
   "execution_count": 19,
   "id": "d465bc74",
   "metadata": {},
   "outputs": [
    {
     "data": {
      "text/plain": [
       "{}"
      ]
     },
     "execution_count": 19,
     "metadata": {},
     "output_type": "execute_result"
    }
   ],
   "source": [
    "inst.__dict__"
   ]
  },
  {
   "cell_type": "code",
   "execution_count": 20,
   "id": "bf364666",
   "metadata": {},
   "outputs": [],
   "source": [
    "inst.__dict__[\"field\"] = \"qwerty\""
   ]
  },
  {
   "cell_type": "code",
   "execution_count": 21,
   "id": "fe87ec53",
   "metadata": {},
   "outputs": [
    {
     "name": "stdout",
     "output_type": "stream",
     "text": [
      "get <__main__.MyClass object at 0x1068f88b0> cls=<class '__main__.MyClass'>\n"
     ]
    }
   ],
   "source": [
    "inst.field"
   ]
  },
  {
   "cell_type": "code",
   "execution_count": 22,
   "id": "fa795260",
   "metadata": {},
   "outputs": [
    {
     "data": {
      "text/plain": [
       "'qwerty'"
      ]
     },
     "execution_count": 22,
     "metadata": {},
     "output_type": "execute_result"
    }
   ],
   "source": [
    "inst.__dict__[\"field\"]"
   ]
  },
  {
   "cell_type": "code",
   "execution_count": 23,
   "id": "6afb854d",
   "metadata": {},
   "outputs": [
    {
     "data": {
      "text/plain": [
       "{'field': 'qwerty'}"
      ]
     },
     "execution_count": 23,
     "metadata": {},
     "output_type": "execute_result"
    }
   ],
   "source": [
    "inst.__dict__"
   ]
  },
  {
   "cell_type": "code",
   "execution_count": 24,
   "id": "3ba498af",
   "metadata": {},
   "outputs": [
    {
     "data": {
      "text/plain": [
       "mappingproxy({'__module__': '__main__',\n",
       "              'field': <__main__.FieldDescriptor at 0x1068eefb0>,\n",
       "              '__dict__': <attribute '__dict__' of 'MyClass' objects>,\n",
       "              '__weakref__': <attribute '__weakref__' of 'MyClass' objects>,\n",
       "              '__doc__': None})"
      ]
     },
     "execution_count": 24,
     "metadata": {},
     "output_type": "execute_result"
    }
   ],
   "source": [
    "inst.__class__.__dict__"
   ]
  },
  {
   "cell_type": "code",
   "execution_count": 25,
   "id": "07c459dd",
   "metadata": {},
   "outputs": [
    {
     "name": "stdout",
     "output_type": "stream",
     "text": [
      "set asdfgh for <__main__.MyClass object at 0x1068f88b0>\n"
     ]
    }
   ],
   "source": [
    "inst.field = \"asdfgh\""
   ]
  },
  {
   "cell_type": "code",
   "execution_count": 26,
   "id": "1bc61d05",
   "metadata": {},
   "outputs": [
    {
     "name": "stdout",
     "output_type": "stream",
     "text": [
      "delete from <__main__.MyClass object at 0x1068f88b0>\n"
     ]
    }
   ],
   "source": [
    "del inst.field"
   ]
  },
  {
   "cell_type": "code",
   "execution_count": 27,
   "id": "2ebdb4ca",
   "metadata": {},
   "outputs": [
    {
     "name": "stdout",
     "output_type": "stream",
     "text": [
      "get <__main__.MyClass object at 0x1068f88b0> cls=<class '__main__.MyClass'>\n"
     ]
    }
   ],
   "source": [
    "inst.field"
   ]
  },
  {
   "cell_type": "code",
   "execution_count": null,
   "id": "48584f39",
   "metadata": {},
   "outputs": [],
   "source": []
  },
  {
   "cell_type": "code",
   "execution_count": 29,
   "id": "d7192fe3",
   "metadata": {},
   "outputs": [
    {
     "name": "stdout",
     "output_type": "stream",
     "text": [
      "IntegerField.init\n"
     ]
    }
   ],
   "source": [
    "class IntegerField:\n",
    "    def __init__(self, val):\n",
    "        print(\"IntegerField.init\")\n",
    "        self.val = val\n",
    "        \n",
    "    def __get__(self, obj, objtype):\n",
    "        print(\"IntegerField.get\", obj, objtype)\n",
    "        return self.val\n",
    "    \n",
    "    \n",
    "    def __set__(self, obj, val):\n",
    "        print(\"IntegerField.set\", obj, val)\n",
    "        self.vals[obj] = val\n",
    "        self.val = val\n",
    "        \n",
    "\n",
    "class Table:\n",
    "    age = IntegerField(20)\n",
    "\n",
    "\n",
    "table = Table()"
   ]
  },
  {
   "cell_type": "code",
   "execution_count": 30,
   "id": "27553169",
   "metadata": {},
   "outputs": [
    {
     "name": "stdout",
     "output_type": "stream",
     "text": [
      "IntegerField.get <__main__.Table object at 0x10704e590> <class '__main__.Table'>\n"
     ]
    },
    {
     "data": {
      "text/plain": [
       "20"
      ]
     },
     "execution_count": 30,
     "metadata": {},
     "output_type": "execute_result"
    }
   ],
   "source": [
    "table.age"
   ]
  },
  {
   "cell_type": "code",
   "execution_count": 31,
   "id": "af18e255",
   "metadata": {},
   "outputs": [
    {
     "name": "stdout",
     "output_type": "stream",
     "text": [
      "IntegerField.set <__main__.Table object at 0x10704e590> 30\n"
     ]
    }
   ],
   "source": [
    "table.age = 30"
   ]
  },
  {
   "cell_type": "code",
   "execution_count": 32,
   "id": "cab09c26",
   "metadata": {},
   "outputs": [
    {
     "name": "stdout",
     "output_type": "stream",
     "text": [
      "IntegerField.get <__main__.Table object at 0x10704e590> <class '__main__.Table'>\n"
     ]
    },
    {
     "data": {
      "text/plain": [
       "30"
      ]
     },
     "execution_count": 32,
     "metadata": {},
     "output_type": "execute_result"
    }
   ],
   "source": [
    "table.age"
   ]
  },
  {
   "cell_type": "code",
   "execution_count": 33,
   "id": "67d37b39",
   "metadata": {},
   "outputs": [],
   "source": [
    "t2 = Table()"
   ]
  },
  {
   "cell_type": "code",
   "execution_count": 34,
   "id": "6dd85d8f",
   "metadata": {},
   "outputs": [
    {
     "data": {
      "text/plain": [
       "False"
      ]
     },
     "execution_count": 34,
     "metadata": {},
     "output_type": "execute_result"
    }
   ],
   "source": [
    "table is t2"
   ]
  },
  {
   "cell_type": "code",
   "execution_count": 35,
   "id": "0661a87c",
   "metadata": {},
   "outputs": [
    {
     "data": {
      "text/plain": [
       "(<__main__.Table at 0x10704e590>, <__main__.Table at 0x107248b80>)"
      ]
     },
     "execution_count": 35,
     "metadata": {},
     "output_type": "execute_result"
    }
   ],
   "source": [
    "table, t2"
   ]
  },
  {
   "cell_type": "code",
   "execution_count": 37,
   "id": "a2ed32bc",
   "metadata": {},
   "outputs": [
    {
     "name": "stdout",
     "output_type": "stream",
     "text": [
      "IntegerField.get <__main__.Table object at 0x107248b80> <class '__main__.Table'>\n",
      "IntegerField.get <__main__.Table object at 0x10704e590> <class '__main__.Table'>\n"
     ]
    },
    {
     "data": {
      "text/plain": [
       "(30, 30)"
      ]
     },
     "execution_count": 37,
     "metadata": {},
     "output_type": "execute_result"
    }
   ],
   "source": [
    "t2.age, table.age"
   ]
  },
  {
   "cell_type": "code",
   "execution_count": 38,
   "id": "ee76e5c8",
   "metadata": {},
   "outputs": [
    {
     "name": "stdout",
     "output_type": "stream",
     "text": [
      "IntegerField.set <__main__.Table object at 0x107248b80> 99\n"
     ]
    }
   ],
   "source": [
    "t2.age = 99"
   ]
  },
  {
   "cell_type": "code",
   "execution_count": 39,
   "id": "4966b23f",
   "metadata": {},
   "outputs": [
    {
     "name": "stdout",
     "output_type": "stream",
     "text": [
      "IntegerField.get <__main__.Table object at 0x107248b80> <class '__main__.Table'>\n",
      "IntegerField.get <__main__.Table object at 0x10704e590> <class '__main__.Table'>\n"
     ]
    },
    {
     "data": {
      "text/plain": [
       "(99, 99)"
      ]
     },
     "execution_count": 39,
     "metadata": {},
     "output_type": "execute_result"
    }
   ],
   "source": [
    "t2.age, table.age"
   ]
  },
  {
   "cell_type": "code",
   "execution_count": null,
   "id": "f44782ea",
   "metadata": {},
   "outputs": [],
   "source": []
  },
  {
   "cell_type": "code",
   "execution_count": null,
   "id": "0e946646",
   "metadata": {},
   "outputs": [],
   "source": []
  },
  {
   "cell_type": "code",
   "execution_count": 94,
   "id": "b2387dca",
   "metadata": {},
   "outputs": [
    {
     "name": "stdout",
     "output_type": "stream",
     "text": [
      "IntegerField.init\n",
      "IntegerField.init\n",
      "IntegerField.set_name <class '__main__.Person'> age\n",
      "IntegerField.set_name <class '__main__.Person'> height\n",
      "IntegerField.set <__main__.Person object at 0x107312830> 20\n",
      "IntegerField.set <__main__.Person object at 0x107312830> 180\n",
      "IntegerField.set <__main__.Person object at 0x1073106d0> 30\n",
      "IntegerField.set <__main__.Person object at 0x1073106d0> 220\n",
      "False\n",
      "IntegerField.get <__main__.Person object at 0x107312830> <class '__main__.Person'>\n",
      "IntegerField.get <__main__.Person object at 0x107312830> <class '__main__.Person'>\n",
      "IntegerField.get <__main__.Person object at 0x1073106d0> <class '__main__.Person'>\n",
      "IntegerField.get <__main__.Person object at 0x1073106d0> <class '__main__.Person'>\n",
      "20 180 30 220\n"
     ]
    }
   ],
   "source": [
    "class A:\n",
    "    pass\n",
    "\n",
    "\n",
    "class B(A):\n",
    "    pass\n",
    "    \n",
    "\n",
    "class IntegerField:\n",
    "    def __init__(self):\n",
    "        print(\"IntegerField.init\")\n",
    "        #self.name = f\"_int_field\"\n",
    "    \n",
    "    def __set_name__(self, owner, name):\n",
    "        print(f\"IntegerField.set_name\", owner, name)\n",
    "        self.name = f\"_int_field_{name}\"\n",
    "\n",
    "    def __get__(self, obj, objtype):\n",
    "        print(\"IntegerField.get\", obj, objtype)\n",
    "        if obj is None:\n",
    "            raise Exception(\"wrong None\")\n",
    "\n",
    "        return getattr(obj, self.name)\n",
    "    \n",
    "    def __set__(self, obj, val):\n",
    "        print(\"IntegerField.set\", obj, val)\n",
    "        \n",
    "        if obj is None:\n",
    "            raise Exception(\"wrong None\")\n",
    "        \n",
    "        if not isinstance(val, (int, float, A)):\n",
    "            raise ValueError(\"no int\")\n",
    "\n",
    "        return setattr(obj, self.name, val)\n",
    "\n",
    "\n",
    "class Person:\n",
    "    age = IntegerField()\n",
    "    height = IntegerField()\n",
    "\n",
    "    def __init__(self, age, height):\n",
    "        self.age = age\n",
    "        self.height = height\n",
    "\n",
    "\n",
    "t1 = Person(20, 180)\n",
    "t2 = Person(30, 220)\n",
    "\n",
    "print(t1 is t2)\n",
    "print(t1.age, t1.height, t2.age, t2.height)"
   ]
  },
  {
   "cell_type": "code",
   "execution_count": 42,
   "id": "cb4faf91",
   "metadata": {},
   "outputs": [
    {
     "name": "stdout",
     "output_type": "stream",
     "text": [
      "IntegerField.set <__main__.Table object at 0x10724a5c0> 20\n",
      "IntegerField.set <__main__.Table object at 0x107249d50> 30\n",
      "IntegerField.get <__main__.Table object at 0x10724a5c0> <class '__main__.Table'>\n",
      "IntegerField.get <__main__.Table object at 0x107249d50> <class '__main__.Table'>\n",
      "20 30\n"
     ]
    }
   ],
   "source": [
    "t1.age = 20\n",
    "t2.age = 30\n",
    "\n",
    "print(t1.age, t2.age)"
   ]
  },
  {
   "cell_type": "code",
   "execution_count": 43,
   "id": "458979c3",
   "metadata": {},
   "outputs": [
    {
     "data": {
      "text/plain": [
       "({'_int_field': 20}, {'_int_field': 30})"
      ]
     },
     "execution_count": 43,
     "metadata": {},
     "output_type": "execute_result"
    }
   ],
   "source": [
    "t1.__dict__, t2.__dict__"
   ]
  },
  {
   "cell_type": "code",
   "execution_count": 85,
   "id": "7d537578",
   "metadata": {},
   "outputs": [
    {
     "name": "stdout",
     "output_type": "stream",
     "text": [
      "IntegerField.set <__main__.Person object at 0x106e2f7f0> 20\n",
      "IntegerField.set <__main__.Person object at 0x106e2f7f0> 180\n",
      "IntegerField.set <__main__.Person object at 0x106e2f6a0> 30\n",
      "IntegerField.set <__main__.Person object at 0x106e2f6a0> 220\n",
      "IntegerField.get <__main__.Person object at 0x106e2f7f0> <class '__main__.Person'>\n",
      "IntegerField.get <__main__.Person object at 0x106e2f7f0> <class '__main__.Person'>\n",
      "IntegerField.get <__main__.Person object at 0x106e2f6a0> <class '__main__.Person'>\n",
      "IntegerField.get <__main__.Person object at 0x106e2f6a0> <class '__main__.Person'>\n",
      "20 180 30 220\n"
     ]
    }
   ],
   "source": [
    "t1.age = 20\n",
    "t1.height = 180\n",
    "t2.age = 30\n",
    "t2.height = 220\n",
    "\n",
    "\n",
    "print(t1.age, t1.height, t2.age, t2.height)"
   ]
  },
  {
   "cell_type": "code",
   "execution_count": 55,
   "id": "3dfb9547",
   "metadata": {},
   "outputs": [
    {
     "data": {
      "text/plain": [
       "({'_int_field_age': 20, '_int_field_height': 180},\n",
       " {'_int_field_age': 30, '_int_field_height': 220})"
      ]
     },
     "execution_count": 55,
     "metadata": {},
     "output_type": "execute_result"
    }
   ],
   "source": [
    "t1.__dict__, t2.__dict__"
   ]
  },
  {
   "cell_type": "code",
   "execution_count": 86,
   "id": "ca9ada9d",
   "metadata": {},
   "outputs": [
    {
     "name": "stdout",
     "output_type": "stream",
     "text": [
      "IntegerField.get <__main__.Person object at 0x106e2f7f0> <class '__main__.Person'>\n",
      "IntegerField.get <__main__.Person object at 0x106e2f7f0> <class '__main__.Person'>\n"
     ]
    },
    {
     "data": {
      "text/plain": [
       "({'_int_field_age': 20, '_int_field_height': 180}, 20, 180)"
      ]
     },
     "execution_count": 86,
     "metadata": {},
     "output_type": "execute_result"
    }
   ],
   "source": [
    "t1.__dict__, t1.age, t1.height"
   ]
  },
  {
   "cell_type": "code",
   "execution_count": 89,
   "id": "042a46d8",
   "metadata": {},
   "outputs": [],
   "source": [
    "t1.__dict__[\"_int_field_age\"] = \"42\""
   ]
  },
  {
   "cell_type": "code",
   "execution_count": 90,
   "id": "8c526f7c",
   "metadata": {},
   "outputs": [
    {
     "name": "stdout",
     "output_type": "stream",
     "text": [
      "IntegerField.get <__main__.Person object at 0x106e2f7f0> <class '__main__.Person'>\n",
      "IntegerField.get <__main__.Person object at 0x106e2f7f0> <class '__main__.Person'>\n"
     ]
    },
    {
     "data": {
      "text/plain": [
       "({'_int_field_age': '42', '_int_field_height': 180}, '42', 180)"
      ]
     },
     "execution_count": 90,
     "metadata": {},
     "output_type": "execute_result"
    }
   ],
   "source": [
    "t1.__dict__, t1.age, t1.height"
   ]
  },
  {
   "cell_type": "code",
   "execution_count": null,
   "id": "adb4ba84",
   "metadata": {},
   "outputs": [],
   "source": []
  },
  {
   "cell_type": "code",
   "execution_count": 66,
   "id": "dda6e11c",
   "metadata": {},
   "outputs": [
    {
     "name": "stdout",
     "output_type": "stream",
     "text": [
      "IntegerField.set <__main__.Person object at 0x1072283d0> 10\n"
     ]
    }
   ],
   "source": [
    "t1.age = 10"
   ]
  },
  {
   "cell_type": "code",
   "execution_count": 68,
   "id": "091e8d72",
   "metadata": {},
   "outputs": [
    {
     "name": "stdout",
     "output_type": "stream",
     "text": [
      "IntegerField.set <__main__.Person object at 0x1074c3ee0> 1.4\n"
     ]
    }
   ],
   "source": [
    "t1.age = 1.4"
   ]
  },
  {
   "cell_type": "code",
   "execution_count": 69,
   "id": "a3e3a6c9",
   "metadata": {},
   "outputs": [
    {
     "name": "stdout",
     "output_type": "stream",
     "text": [
      "IntegerField.set <__main__.Person object at 0x1074c3ee0> wqe\n"
     ]
    },
    {
     "ename": "ValueError",
     "evalue": "no int",
     "output_type": "error",
     "traceback": [
      "\u001b[0;31m---------------------------------------------------------------------------\u001b[0m",
      "\u001b[0;31mValueError\u001b[0m                                Traceback (most recent call last)",
      "Input \u001b[0;32mIn [69]\u001b[0m, in \u001b[0;36m<cell line: 1>\u001b[0;34m()\u001b[0m\n\u001b[0;32m----> 1\u001b[0m t1\u001b[38;5;241m.\u001b[39mage \u001b[38;5;241m=\u001b[39m \u001b[38;5;124m\"\u001b[39m\u001b[38;5;124mwqe\u001b[39m\u001b[38;5;124m\"\u001b[39m\n",
      "Input \u001b[0;32mIn [67]\u001b[0m, in \u001b[0;36mIntegerField.__set__\u001b[0;34m(self, obj, val)\u001b[0m\n\u001b[1;32m     21\u001b[0m     \u001b[38;5;28;01mraise\u001b[39;00m \u001b[38;5;167;01mException\u001b[39;00m(\u001b[38;5;124m\"\u001b[39m\u001b[38;5;124mwrong None\u001b[39m\u001b[38;5;124m\"\u001b[39m)\n\u001b[1;32m     23\u001b[0m \u001b[38;5;28;01mif\u001b[39;00m \u001b[38;5;129;01mnot\u001b[39;00m \u001b[38;5;28misinstance\u001b[39m(val, (\u001b[38;5;28mint\u001b[39m, \u001b[38;5;28mfloat\u001b[39m)):\n\u001b[0;32m---> 24\u001b[0m     \u001b[38;5;28;01mraise\u001b[39;00m \u001b[38;5;167;01mValueError\u001b[39;00m(\u001b[38;5;124m\"\u001b[39m\u001b[38;5;124mno int\u001b[39m\u001b[38;5;124m\"\u001b[39m)\n\u001b[1;32m     26\u001b[0m \u001b[38;5;28;01mreturn\u001b[39;00m \u001b[38;5;28msetattr\u001b[39m(obj, \u001b[38;5;28mself\u001b[39m\u001b[38;5;241m.\u001b[39mname, val)\n",
      "\u001b[0;31mValueError\u001b[0m: no int"
     ]
    }
   ],
   "source": [
    "t1.age = \"wqe\""
   ]
  },
  {
   "cell_type": "code",
   "execution_count": 75,
   "id": "41bde1c7",
   "metadata": {},
   "outputs": [],
   "source": [
    "a = A()\n",
    "b = B()"
   ]
  },
  {
   "cell_type": "code",
   "execution_count": 76,
   "id": "d0c2fe37",
   "metadata": {},
   "outputs": [
    {
     "name": "stdout",
     "output_type": "stream",
     "text": [
      "IntegerField.set <__main__.Person object at 0x106e56bf0> <__main__.A object at 0x106e57760>\n"
     ]
    }
   ],
   "source": [
    "t1.age = a"
   ]
  },
  {
   "cell_type": "code",
   "execution_count": 77,
   "id": "e92be9f1",
   "metadata": {},
   "outputs": [
    {
     "name": "stdout",
     "output_type": "stream",
     "text": [
      "IntegerField.set <__main__.Person object at 0x106e56bf0> <__main__.B object at 0x106e55ff0>\n"
     ]
    }
   ],
   "source": [
    "t1.age = b"
   ]
  },
  {
   "cell_type": "code",
   "execution_count": 79,
   "id": "1ed6e562",
   "metadata": {},
   "outputs": [
    {
     "data": {
      "text/plain": [
       "(True, True)"
      ]
     },
     "execution_count": 79,
     "metadata": {},
     "output_type": "execute_result"
    }
   ],
   "source": [
    "isinstance(b, A), isinstance(b, B)"
   ]
  },
  {
   "cell_type": "code",
   "execution_count": 81,
   "id": "d7101fc4",
   "metadata": {},
   "outputs": [
    {
     "data": {
      "text/plain": [
       "(True, False)"
      ]
     },
     "execution_count": 81,
     "metadata": {},
     "output_type": "execute_result"
    }
   ],
   "source": [
    "issubclass(B, A), issubclass(A, B)"
   ]
  },
  {
   "cell_type": "code",
   "execution_count": 82,
   "id": "558d383c",
   "metadata": {},
   "outputs": [
    {
     "data": {
      "text/plain": [
       "(True, True)"
      ]
     },
     "execution_count": 82,
     "metadata": {},
     "output_type": "execute_result"
    }
   ],
   "source": [
    "issubclass(B, object), issubclass(A, object)"
   ]
  },
  {
   "cell_type": "code",
   "execution_count": null,
   "id": "4103e7d0",
   "metadata": {},
   "outputs": [],
   "source": []
  },
  {
   "cell_type": "code",
   "execution_count": null,
   "id": "c35ce328",
   "metadata": {},
   "outputs": [],
   "source": []
  },
  {
   "cell_type": "code",
   "execution_count": 96,
   "id": "0a6e0e7c",
   "metadata": {},
   "outputs": [
    {
     "data": {
      "text/plain": [
       "(True, True)"
      ]
     },
     "execution_count": 96,
     "metadata": {},
     "output_type": "execute_result"
    }
   ],
   "source": [
    "isinstance(object, type), isinstance(type, object)"
   ]
  },
  {
   "cell_type": "code",
   "execution_count": 97,
   "id": "9630b23c",
   "metadata": {},
   "outputs": [
    {
     "data": {
      "text/plain": [
       "(False, True)"
      ]
     },
     "execution_count": 97,
     "metadata": {},
     "output_type": "execute_result"
    }
   ],
   "source": [
    "issubclass(object, type), issubclass(type, object)"
   ]
  },
  {
   "cell_type": "code",
   "execution_count": 101,
   "id": "f8563216",
   "metadata": {},
   "outputs": [
    {
     "data": {
      "text/plain": [
       "(type, type)"
      ]
     },
     "execution_count": 101,
     "metadata": {},
     "output_type": "execute_result"
    }
   ],
   "source": [
    "type(object), type(type)"
   ]
  },
  {
   "cell_type": "code",
   "execution_count": 105,
   "id": "35467dcf",
   "metadata": {},
   "outputs": [
    {
     "data": {
      "text/plain": [
       "(__main__.Person, True)"
      ]
     },
     "execution_count": 105,
     "metadata": {},
     "output_type": "execute_result"
    }
   ],
   "source": [
    "type(t1), type(t1) is Person"
   ]
  },
  {
   "cell_type": "code",
   "execution_count": 120,
   "id": "646b9b80",
   "metadata": {},
   "outputs": [],
   "source": [
    "Foo = type(\"Foo\", (), {})\n",
    "Bar = type(\"Bar\", (Foo,), dict(attr=100))"
   ]
  },
  {
   "cell_type": "code",
   "execution_count": 108,
   "id": "3ca04aa6",
   "metadata": {},
   "outputs": [
    {
     "data": {
      "text/plain": [
       "(__main__.Bar, type)"
      ]
     },
     "execution_count": 108,
     "metadata": {},
     "output_type": "execute_result"
    }
   ],
   "source": [
    "Bar, type(Bar)"
   ]
  },
  {
   "cell_type": "code",
   "execution_count": 109,
   "id": "5cc1013b",
   "metadata": {},
   "outputs": [
    {
     "data": {
      "text/plain": [
       "'Bar'"
      ]
     },
     "execution_count": 109,
     "metadata": {},
     "output_type": "execute_result"
    }
   ],
   "source": [
    "Bar.__name__"
   ]
  },
  {
   "cell_type": "code",
   "execution_count": 110,
   "id": "d7c387f0",
   "metadata": {},
   "outputs": [],
   "source": [
    "mars = type(\"Bar\", (Foo,), dict(attr=100))"
   ]
  },
  {
   "cell_type": "code",
   "execution_count": 112,
   "id": "b23a4d48",
   "metadata": {},
   "outputs": [
    {
     "data": {
      "text/plain": [
       "(__main__.Bar, 'Bar')"
      ]
     },
     "execution_count": 112,
     "metadata": {},
     "output_type": "execute_result"
    }
   ],
   "source": [
    "mars, mars.__name__"
   ]
  },
  {
   "cell_type": "code",
   "execution_count": 113,
   "id": "3e3cdf50",
   "metadata": {},
   "outputs": [],
   "source": [
    "m = mars()"
   ]
  },
  {
   "cell_type": "code",
   "execution_count": 115,
   "id": "02e19051",
   "metadata": {},
   "outputs": [
    {
     "data": {
      "text/plain": [
       "(<__main__.Bar at 0x107391030>, __main__.Bar)"
      ]
     },
     "execution_count": 115,
     "metadata": {},
     "output_type": "execute_result"
    }
   ],
   "source": [
    "m, type(m)"
   ]
  },
  {
   "cell_type": "code",
   "execution_count": 116,
   "id": "15fe7c00",
   "metadata": {},
   "outputs": [],
   "source": [
    "twix = mars"
   ]
  },
  {
   "cell_type": "code",
   "execution_count": 117,
   "id": "ba5df0ee",
   "metadata": {},
   "outputs": [
    {
     "data": {
      "text/plain": [
       "__main__.Bar"
      ]
     },
     "execution_count": 117,
     "metadata": {},
     "output_type": "execute_result"
    }
   ],
   "source": [
    "type(twix())"
   ]
  },
  {
   "cell_type": "code",
   "execution_count": 118,
   "id": "752f8616",
   "metadata": {},
   "outputs": [
    {
     "data": {
      "text/plain": [
       "True"
      ]
     },
     "execution_count": 118,
     "metadata": {},
     "output_type": "execute_result"
    }
   ],
   "source": [
    "issubclass(mars, Foo)"
   ]
  },
  {
   "cell_type": "code",
   "execution_count": 121,
   "id": "2b5982f9",
   "metadata": {},
   "outputs": [
    {
     "data": {
      "text/plain": [
       "100"
      ]
     },
     "execution_count": 121,
     "metadata": {},
     "output_type": "execute_result"
    }
   ],
   "source": [
    "mars.attr"
   ]
  },
  {
   "cell_type": "code",
   "execution_count": null,
   "id": "407cd55f",
   "metadata": {},
   "outputs": [],
   "source": []
  },
  {
   "cell_type": "code",
   "execution_count": null,
   "id": "25836044",
   "metadata": {},
   "outputs": [],
   "source": []
  },
  {
   "cell_type": "code",
   "execution_count": 122,
   "id": "3e3d95dd",
   "metadata": {},
   "outputs": [],
   "source": [
    "class AMeta(type):\n",
    "    def __new__(mcs, name, bases, classdict, **kwargs):\n",
    "        cls = super().__new__(mcs, name, bases, classdict)\n",
    "        print('Meta __new__', cls)\n",
    "\n",
    "        return cls\n",
    "\n",
    "    def __init__(cls, name, bases, classdict, **kwargs):\n",
    "        print('Meta __init__', cls, name, bases, classdict)\n",
    "        super().__init__(name, bases, classdict, **kwargs)\n",
    "\n",
    "    def __call__(cls, *args, **kwargs):\n",
    "        print('Meta __call__', cls, args, kwargs)\n",
    "        return super().__call__(*args, **kwargs)\n",
    "\n",
    "    @classmethod\n",
    "    def __prepare__(mcs, name, bases, **kwargs):\n",
    "        print('Meta __prepare__', mcs, name, bases, kwargs)\n",
    "        \n",
    "        return {'added_attr_a': 2, 'added_attr_b': 99}"
   ]
  },
  {
   "cell_type": "code",
   "execution_count": 124,
   "id": "137d6c5f",
   "metadata": {},
   "outputs": [
    {
     "name": "stdout",
     "output_type": "stream",
     "text": [
      "Meta __prepare__ <class '__main__.AMeta'> Person () {}\n",
      "Meta __new__ <class '__main__.Person'>\n",
      "Meta __init__ <class '__main__.Person'> Person () {'added_attr_a': 2, 'added_attr_b': 99, '__module__': '__main__', '__qualname__': 'Person', 'age': 42, '__new__': <function Person.__new__ at 0x107e9d000>, '__init__': <function Person.__init__ at 0x107e9cf70>, '__classcell__': <cell at 0x107e82c20: AMeta object at 0x7f8755211e60>}\n"
     ]
    }
   ],
   "source": [
    "class Person(metaclass=AMeta):\n",
    "    age = 42\n",
    "    \n",
    "    def __new__(cls, *args, **kwargs):\n",
    "        print(\"Person.__new__\", cls, args, kwargs)\n",
    "        \n",
    "        return super().__new__(cls)\n",
    "\n",
    "    def __init__(self):\n",
    "        print(\"Person.__init__\")"
   ]
  },
  {
   "cell_type": "code",
   "execution_count": 125,
   "id": "408c1488",
   "metadata": {
    "scrolled": true
   },
   "outputs": [
    {
     "name": "stdout",
     "output_type": "stream",
     "text": [
      "Meta __call__ <class '__main__.Person'> () {}\n",
      "Person.__new__ <class '__main__.Person'> () {}\n",
      "Person.__init__\n"
     ]
    }
   ],
   "source": [
    "inst = Person()"
   ]
  },
  {
   "cell_type": "code",
   "execution_count": 126,
   "id": "02ccdcb1",
   "metadata": {},
   "outputs": [
    {
     "data": {
      "text/plain": [
       "(2, 99, 42)"
      ]
     },
     "execution_count": 126,
     "metadata": {},
     "output_type": "execute_result"
    }
   ],
   "source": [
    "Person.added_attr_a, Person.added_attr_b, Person.age"
   ]
  },
  {
   "cell_type": "code",
   "execution_count": 127,
   "id": "277b1df3",
   "metadata": {},
   "outputs": [
    {
     "data": {
      "text/plain": [
       "mappingproxy({'added_attr_a': 2,\n",
       "              'added_attr_b': 99,\n",
       "              '__module__': '__main__',\n",
       "              'age': 42,\n",
       "              '__new__': <staticmethod(<function Person.__new__ at 0x107e9d000>)>,\n",
       "              '__init__': <function __main__.Person.__init__(self)>,\n",
       "              '__dict__': <attribute '__dict__' of 'Person' objects>,\n",
       "              '__weakref__': <attribute '__weakref__' of 'Person' objects>,\n",
       "              '__doc__': None})"
      ]
     },
     "execution_count": 127,
     "metadata": {},
     "output_type": "execute_result"
    }
   ],
   "source": [
    "Person.__dict__"
   ]
  },
  {
   "cell_type": "code",
   "execution_count": 130,
   "id": "304763a5",
   "metadata": {},
   "outputs": [
    {
     "data": {
      "text/plain": [
       "(__main__.AMeta, True, False)"
      ]
     },
     "execution_count": 130,
     "metadata": {},
     "output_type": "execute_result"
    }
   ],
   "source": [
    "type(Person), isinstance(Person, AMeta), issubclass(Person, AMeta)"
   ]
  },
  {
   "cell_type": "code",
   "execution_count": 133,
   "id": "4017a40d",
   "metadata": {},
   "outputs": [
    {
     "data": {
      "text/plain": [
       "(__main__.Person, False, True)"
      ]
     },
     "execution_count": 133,
     "metadata": {},
     "output_type": "execute_result"
    }
   ],
   "source": [
    "type(inst), isinstance(inst, AMeta), isinstance(inst, Person)"
   ]
  },
  {
   "cell_type": "code",
   "execution_count": 136,
   "id": "f7fa8de4",
   "metadata": {},
   "outputs": [
    {
     "name": "stdout",
     "output_type": "stream",
     "text": [
      "Meta __new__ <class '__main__.Chair'>\n",
      "Meta __init__ <class '__main__.Chair'> Chair () {'name': 'Steve'}\n"
     ]
    }
   ],
   "source": [
    "Chair = AMeta(\"Chair\", (), {\"name\": \"Steve\"})"
   ]
  },
  {
   "cell_type": "code",
   "execution_count": 137,
   "id": "cd993958",
   "metadata": {},
   "outputs": [
    {
     "data": {
      "text/plain": [
       "mappingproxy({'name': 'Steve',\n",
       "              '__module__': '__main__',\n",
       "              '__dict__': <attribute '__dict__' of 'Chair' objects>,\n",
       "              '__weakref__': <attribute '__weakref__' of 'Chair' objects>,\n",
       "              '__doc__': None})"
      ]
     },
     "execution_count": 137,
     "metadata": {},
     "output_type": "execute_result"
    }
   ],
   "source": [
    "Chair.__dict__"
   ]
  },
  {
   "cell_type": "code",
   "execution_count": null,
   "id": "a1da96b1",
   "metadata": {},
   "outputs": [],
   "source": []
  },
  {
   "cell_type": "code",
   "execution_count": null,
   "id": "60873298",
   "metadata": {},
   "outputs": [],
   "source": []
  },
  {
   "cell_type": "code",
   "execution_count": null,
   "id": "4a0f2a78",
   "metadata": {},
   "outputs": [],
   "source": []
  },
  {
   "cell_type": "code",
   "execution_count": 138,
   "id": "274b79ab",
   "metadata": {},
   "outputs": [
    {
     "data": {
      "text/plain": [
       "NoneType"
      ]
     },
     "execution_count": 138,
     "metadata": {},
     "output_type": "execute_result"
    }
   ],
   "source": [
    "type(None)"
   ]
  },
  {
   "cell_type": "code",
   "execution_count": 139,
   "id": "42b78926",
   "metadata": {},
   "outputs": [
    {
     "name": "stdout",
     "output_type": "stream",
     "text": [
      "Singe.__new__ <class '__main__.Animal'>\n",
      "Animal.__init__ 10\n",
      "Singe.__new__ <class '__main__.Animal'>\n",
      "Animal.__init__ 20\n",
      "True\n"
     ]
    }
   ],
   "source": [
    "class Singleton:\n",
    "    _instance = None\n",
    "\n",
    "    def __new__(cls, *args, **kwargs):\n",
    "        print(\"Singe.__new__\", cls)\n",
    "        if cls._instance is None:\n",
    "            cls._instance = super().__new__(cls)\n",
    "\n",
    "        return cls._instance\n",
    "\n",
    "\n",
    "class Animal(Singleton):\n",
    "    def __init__(self, val):\n",
    "        print(\"Animal.__init__\", val)\n",
    "        self.val = val\n",
    "        \n",
    "\n",
    "a1 = Animal(10)\n",
    "a1.val = 42\n",
    "\n",
    "a2 = Animal(20)\n",
    "\n",
    "print(a1 is a2)"
   ]
  },
  {
   "cell_type": "code",
   "execution_count": 142,
   "id": "a2c32446",
   "metadata": {},
   "outputs": [
    {
     "name": "stdout",
     "output_type": "stream",
     "text": [
      "Meta.call <class '__main__.Sofa'> (10,) {}\n",
      "Sofa.__init__ 10\n",
      "Meta.call <class '__main__.Sofa'> (20,) {}\n",
      "<__main__.Sofa object at 0x107ee1de0> True\n",
      "===========\n",
      "\n",
      "Meta.call <class '__main__.Divan'> (10,) {}\n",
      "Divan.__init__ 10\n",
      "Meta.call <class '__main__.Divan'> (20,) {}\n",
      "<__main__.Divan object at 0x107ee1ba0> True\n"
     ]
    }
   ],
   "source": [
    "class MetaSingle(type):\n",
    "    _instances = {}\n",
    "\n",
    "    def __call__(cls, *args, **kwargs):\n",
    "        print(\"Meta.call\", cls, args, kwargs)\n",
    "        if cls not in cls._instances:\n",
    "            cls._instances[cls] = super().__call__(*args, **kwargs)\n",
    "        \n",
    "        return cls._instances[cls]\n",
    "\n",
    "\n",
    "class Sofa(metaclass=MetaSingle):\n",
    "    def __init__(self, val):\n",
    "        print(\"Sofa.__init__\", val)\n",
    "        self.val = val\n",
    "\n",
    "        \n",
    "class Divan(Sofa):\n",
    "    def __init__(self, val):\n",
    "        print(\"Divan.__init__\", val)\n",
    "        self.val = val\n",
    "\n",
    "\n",
    "s1 = Sofa(10)\n",
    "s2 = Sofa(20)\n",
    "\n",
    "print(s1, s1 is s2)\n",
    "\n",
    "print(\"===========\\n\")\n",
    "\n",
    "\n",
    "d1 = Divan(10)\n",
    "d2 = Divan(20)\n",
    "\n",
    "print(d1, d1 is d2)"
   ]
  },
  {
   "cell_type": "code",
   "execution_count": null,
   "id": "8b91b98c",
   "metadata": {},
   "outputs": [],
   "source": []
  }
 ],
 "metadata": {
  "kernelspec": {
   "display_name": "Python 3 (ipykernel)",
   "language": "python",
   "name": "python3"
  },
  "language_info": {
   "codemirror_mode": {
    "name": "ipython",
    "version": 3
   },
   "file_extension": ".py",
   "mimetype": "text/x-python",
   "name": "python",
   "nbconvert_exporter": "python",
   "pygments_lexer": "ipython3",
   "version": "3.10.2"
  }
 },
 "nbformat": 4,
 "nbformat_minor": 5
}
