{
 "cells": [
  {
   "cell_type": "code",
   "execution_count": 1,
   "id": "84fd9cdc",
   "metadata": {},
   "outputs": [],
   "source": [
    "# PEP-0008"
   ]
  },
  {
   "cell_type": "code",
   "execution_count": 3,
   "id": "f7b20c31",
   "metadata": {},
   "outputs": [],
   "source": [
    "def func():\n",
    "    return 42"
   ]
  },
  {
   "cell_type": "code",
   "execution_count": null,
   "id": "60cafe5d",
   "metadata": {},
   "outputs": [],
   "source": [
    "LRUCache.py -> lru_cache.py"
   ]
  },
  {
   "cell_type": "code",
   "execution_count": null,
   "id": "e8e2bcaf",
   "metadata": {},
   "outputs": [],
   "source": []
  },
  {
   "cell_type": "code",
   "execution_count": null,
   "id": "a0325c48",
   "metadata": {},
   "outputs": [],
   "source": [
    "#const - ?\n",
    "\n",
    "CONNECT_TIMEOUT = 5.0\n",
    "\n",
    "\n",
    "class BaseBatchFetcher:  # pascal case\n",
    "    # baseBatchFetcher - camel, do not use in python\n",
    "    pass\n",
    "\n",
    "\n",
    "class JSONHTTpBatchFetcher:  # pascal case\n",
    "    # baseBatchFetcher - camel, do not use in python\n",
    "    pass\n",
    "\n",
    "\n",
    "class JsonHttpBatchFetcher:  # pascal case\n",
    "    pass\n",
    "\n",
    "\n",
    "def connect(timeout=None):\n",
    "    timeout = 1.0 if timeout is None else CONNECT_TIMEOUT\n",
    "    requests.get(url, connect_timeout=timeout)\n",
    "    \n",
    "\n",
    "def fetch_url(url, timeout):\n",
    "    url = url[0] + url[1] + str(url[2])\n",
    "\n",
    "\n",
    "person_name = \"Steve\""
   ]
  },
  {
   "cell_type": "code",
   "execution_count": 4,
   "id": "3dd7e12a",
   "metadata": {},
   "outputs": [],
   "source": [
    "name = \"Steve and some other people\""
   ]
  },
  {
   "cell_type": "code",
   "execution_count": 5,
   "id": "0aa45339",
   "metadata": {},
   "outputs": [
    {
     "data": {
      "text/plain": [
       "'Steve and some other people'"
      ]
     },
     "execution_count": 5,
     "metadata": {},
     "output_type": "execute_result"
    }
   ],
   "source": [
    "name[:]"
   ]
  },
  {
   "cell_type": "code",
   "execution_count": 7,
   "id": "a577993a",
   "metadata": {},
   "outputs": [
    {
     "data": {
      "text/plain": [
       "'elpo'"
      ]
     },
     "execution_count": 7,
     "metadata": {},
     "output_type": "execute_result"
    }
   ],
   "source": [
    "name[-1:-5:-1]"
   ]
  },
  {
   "cell_type": "code",
   "execution_count": 8,
   "id": "aa275251",
   "metadata": {},
   "outputs": [
    {
     "ename": "NameError",
     "evalue": "name 'calc_start' is not defined",
     "output_type": "error",
     "traceback": [
      "\u001b[0;31m---------------------------------------------------------------------------\u001b[0m",
      "\u001b[0;31mNameError\u001b[0m                                 Traceback (most recent call last)",
      "Input \u001b[0;32mIn [8]\u001b[0m, in \u001b[0;36m<cell line: 1>\u001b[0;34m()\u001b[0m\n\u001b[0;32m----> 1\u001b[0m name[\u001b[43mcalc_start\u001b[49m() : \u001b[38;5;241m0\u001b[39m \u001b[38;5;28;01mif\u001b[39;00m \u001b[38;5;124m\"\u001b[39m\u001b[38;5;124mhas\u001b[39m\u001b[38;5;124m\"\u001b[39m \u001b[38;5;129;01min\u001b[39;00m name \u001b[38;5;28;01melse\u001b[39;00m \u001b[38;5;241m12\u001b[39m : \u001b[38;5;241m-\u001b[39m\u001b[38;5;241m1\u001b[39m]\n",
      "\u001b[0;31mNameError\u001b[0m: name 'calc_start' is not defined"
     ]
    }
   ],
   "source": [
    "name[calc_start() : 0 if \"has\" in name else 12 : -1]"
   ]
  },
  {
   "cell_type": "code",
   "execution_count": null,
   "id": "0a6df313",
   "metadata": {},
   "outputs": [],
   "source": [
    "from collections import defaultdict, namedtuple\n",
    "import os.path\n",
    "\n",
    "import aiohttp\n",
    "import django\n",
    "\n",
    "from url_batch_fetcher.calculus.handlers import (\n",
    "    BaseBatchFetcher\n",
    ")\n",
    "\n",
    "from .batcher import fetch_url"
   ]
  },
  {
   "cell_type": "code",
   "execution_count": null,
   "id": "0de7d083",
   "metadata": {},
   "outputs": [],
   "source": [
    "def fetch_batch_url_simple(url_batch,\n",
    "                           connect_timeout,\n",
    "                           request_timeout,\n",
    "                           keep_session):\n",
    "    pass"
   ]
  },
  {
   "cell_type": "code",
   "execution_count": null,
   "id": "6019ecce",
   "metadata": {},
   "outputs": [],
   "source": [
    "def fetch_batch_url_simple(\n",
    "    url_batch,\n",
    "    connect_timeout,\n",
    "    request_timeout,\n",
    "    keep_session,\n",
    "):\n",
    "    pass"
   ]
  },
  {
   "cell_type": "code",
   "execution_count": null,
   "id": "7c86cd2b",
   "metadata": {},
   "outputs": [],
   "source": [
    "with open(\"long_name_file_of_some_data.txt\") as f1:\n",
    "    with open(\"other_long_name_file_of_some_data222.txt\") as f2:\n",
    "        with open(\"other_long_name_file_of_some_data333.txt\") as f3:\n",
    "            process_files(f1, f2, f3)\n",
    "   \n",
    "\n",
    "with open(\"long_name_file_of_some_data.txt\") as f1, \\\n",
    "     open(\"other_long_name_file_of_some_data222.txt\") as f2, \\\n",
    "     open(\"other_long_name_file_of_some_data333.txt\") as f3:\n",
    "    process_files(f1, f2, f3)\n",
    "\n",
    "  \n",
    "with open(\n",
    "    \"long_name_file_of_some_data.txt\"\n",
    ") as f1, open(\n",
    "    \"other_long_name_file_of_some_data222.txt\"\n",
    ") as f2, open(\n",
    "    \"other_long_name_file_of_some_data333.txt\"\n",
    ") as f3:\n",
    "    process_files(f1, f2, f3)\n",
    "\n",
    "    \n",
    "    \n",
    "with (\n",
    "    open(\"long_name_file_of_some_data.txt\") as f1,\n",
    "    open(\"other_long_name_file_of_some_data222.txt\") as f2,\n",
    "    open(\"other_long_name_file_of_some_data333.txt\") as f3,\n",
    "):\n",
    "    process_files(f1, f2, f3)\n",
    "    \n",
    "    \n",
    "logger.debug(\n",
    "    \"start to process some\"\n",
    "    \" special data with ml trained model\"\n",
    "    \" llama 7b = %s\",\n",
    "    model_name,\n",
    ")\n",
    "    \n",
    "    \n",
    "def run_code():\n",
    "    pass\n",
    "\n",
    "\n",
    "# run_code()\n",
    "    \n",
    "    \n",
    "\n",
    "if __name__ == \"__main__\":\n",
    "    run_code()\n"
   ]
  },
  {
   "cell_type": "code",
   "execution_count": 9,
   "id": "45a5cd28",
   "metadata": {},
   "outputs": [
    {
     "name": "stdout",
     "output_type": "stream",
     "text": [
      "start to process some special data with ml trained model llama 7b = %s\n"
     ]
    }
   ],
   "source": [
    "line = (\n",
    "    \"start to process some\"\n",
    "    \" special data with ml trained model\"\n",
    "    \" llama 7b = %s\"\n",
    ")\n",
    "print(line)"
   ]
  },
  {
   "cell_type": "code",
   "execution_count": null,
   "id": "7dc6c3b9",
   "metadata": {},
   "outputs": [],
   "source": []
  },
  {
   "cell_type": "code",
   "execution_count": null,
   "id": "89c6d115",
   "metadata": {},
   "outputs": [],
   "source": []
  }
 ],
 "metadata": {
  "kernelspec": {
   "display_name": "Python 3 (ipykernel)",
   "language": "python",
   "name": "python3"
  },
  "language_info": {
   "codemirror_mode": {
    "name": "ipython",
    "version": 3
   },
   "file_extension": ".py",
   "mimetype": "text/x-python",
   "name": "python",
   "nbconvert_exporter": "python",
   "pygments_lexer": "ipython3",
   "version": "3.10.2"
  }
 },
 "nbformat": 4,
 "nbformat_minor": 5
}
