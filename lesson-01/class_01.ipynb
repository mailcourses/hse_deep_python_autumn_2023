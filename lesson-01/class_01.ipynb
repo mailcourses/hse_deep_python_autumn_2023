{
 "cells": [
  {
   "cell_type": "code",
   "execution_count": 3,
   "id": "e48dc78d-62e9-4568-acd7-eaa567f46655",
   "metadata": {},
   "outputs": [
    {
     "name": "stdout",
     "output_type": "stream",
     "text": [
      "<list_iterator object at 0x10db31ab0>\n",
      "1\n",
      "2\n",
      "3\n",
      "stop_iter \n"
     ]
    }
   ],
   "source": [
    "num_list = [1, 2, 3]\n",
    "itr = iter(num_list)\n",
    "print(itr)\n",
    "print(next(itr))  # 1\n",
    "print(next(itr))  # 2\n",
    "print(next(itr))  # 3\n",
    "\n",
    "try:\n",
    "    print(next(itr))\n",
    "except StopIteration as err:\n",
    "    print(\"stop_iter\", err)"
   ]
  },
  {
   "cell_type": "code",
   "execution_count": 12,
   "id": "422eda1f-a7e7-4c6e-88dc-d505fbfc2126",
   "metadata": {},
   "outputs": [
    {
     "name": "stdout",
     "output_type": "stream",
     "text": [
      "next\n",
      "1\n",
      "next\n",
      "2\n",
      "next\n",
      "3\n",
      "next\n",
      "stop_iter \n",
      "\n",
      "\n",
      "\n",
      "iter\n",
      "next\n",
      "new_iteration\n",
      "elem=1\n",
      "next\n",
      "new_iteration\n",
      "elem=2\n",
      "next\n",
      "new_iteration\n",
      "elem=3\n",
      "next\n"
     ]
    }
   ],
   "source": [
    "class SpecialIterator:\n",
    "    def __init__(self, limit):\n",
    "        self.limit = limit\n",
    "        self.counter = 0\n",
    "    \n",
    "    def __iter__(self):\n",
    "        print(\"iter\")\n",
    "        return self\n",
    "        \n",
    "    def __next__(self):\n",
    "        print(\"next\")\n",
    "        if self.counter < self.limit:\n",
    "            self.counter += 1\n",
    "            return self.counter\n",
    "        else:\n",
    "            raise StopIteration\n",
    "\n",
    "iter_obj = SpecialIterator(3)\n",
    "print(next(iter_obj))\n",
    "print(next(iter_obj))\n",
    "print(next(iter_obj))\n",
    "try:\n",
    "    print(next(iter_obj))\n",
    "except StopIteration as err:\n",
    "    print(\"stop_iter\", err)\n",
    "\n",
    "print(\"\")\n",
    "for elem in SpecialIterator(3):\n",
    "    print(\"new_iteration\")\n",
    "    print(f\"{elem=}\")"
   ]
  },
  {
   "cell_type": "code",
   "execution_count": null,
   "id": "72f3dde3-c2c4-454c-acfe-d559dfef86b9",
   "metadata": {},
   "outputs": [],
   "source": []
  },
  {
   "cell_type": "code",
   "execution_count": null,
   "id": "2d4e1ece-4279-4c30-9767-4c7fb28628ac",
   "metadata": {},
   "outputs": [],
   "source": []
  },
  {
   "cell_type": "code",
   "execution_count": null,
   "id": "88a6c56e-8116-488f-9aec-838a2ac8baa7",
   "metadata": {},
   "outputs": [],
   "source": []
  },
  {
   "cell_type": "code",
   "execution_count": 40,
   "id": "ed69f6ad-fb3d-47e9-9399-b07a5e3ee558",
   "metadata": {},
   "outputs": [
    {
     "name": "stdout",
     "output_type": "stream",
     "text": [
      "start\n",
      "count=3\n",
      "after yield count=3\n",
      "count=2\n",
      "after yield count=2\n",
      "count=1\n",
      "after yield count=1\n",
      "StopIteration(0)\n"
     ]
    }
   ],
   "source": [
    "def gen(count):\n",
    "    print(\"start\")\n",
    "\n",
    "    while count > 0:\n",
    "        print(f\"{count=}\")\n",
    "        yield count\n",
    "        print(f\"after yield {count=}\")\n",
    "        count -= 1\n",
    "\n",
    "    return count\n",
    "\n",
    "\n",
    "g = gen(3)\n",
    "next(g)\n",
    "next(g)\n",
    "next(g)\n",
    "\n",
    "try:\n",
    "    next(g)\n",
    "except StopIteration as err:\n",
    "    print(repr(err))"
   ]
  },
  {
   "cell_type": "code",
   "execution_count": 34,
   "id": "7c822cf6-ada6-472e-b7c8-952451083862",
   "metadata": {},
   "outputs": [],
   "source": [
    "g = gen(3)"
   ]
  },
  {
   "cell_type": "code",
   "execution_count": 35,
   "id": "6f8f6d99-2dc5-4899-b27a-a7fdac55d69f",
   "metadata": {},
   "outputs": [
    {
     "name": "stdout",
     "output_type": "stream",
     "text": [
      "start\n",
      "count=3\n"
     ]
    },
    {
     "data": {
      "text/plain": [
       "3"
      ]
     },
     "execution_count": 35,
     "metadata": {},
     "output_type": "execute_result"
    }
   ],
   "source": [
    "next(g)"
   ]
  },
  {
   "cell_type": "code",
   "execution_count": 36,
   "id": "94966c64-4565-4168-9d77-46d21bf47e0a",
   "metadata": {},
   "outputs": [
    {
     "name": "stdout",
     "output_type": "stream",
     "text": [
      "after yield count=3\n",
      "count=2\n"
     ]
    },
    {
     "data": {
      "text/plain": [
       "2"
      ]
     },
     "execution_count": 36,
     "metadata": {},
     "output_type": "execute_result"
    }
   ],
   "source": [
    "next(g)"
   ]
  },
  {
   "cell_type": "code",
   "execution_count": 37,
   "id": "ce69e142-40ec-49ff-a49f-fc0b00a516ce",
   "metadata": {},
   "outputs": [
    {
     "name": "stdout",
     "output_type": "stream",
     "text": [
      "after yield count=2\n",
      "count=1\n"
     ]
    },
    {
     "data": {
      "text/plain": [
       "1"
      ]
     },
     "execution_count": 37,
     "metadata": {},
     "output_type": "execute_result"
    }
   ],
   "source": [
    "next(g)"
   ]
  },
  {
   "cell_type": "code",
   "execution_count": 43,
   "id": "f1a45e53-5592-4f11-8911-e71267cf9144",
   "metadata": {},
   "outputs": [
    {
     "name": "stdout",
     "output_type": "stream",
     "text": [
      "start\n",
      "count=10\n",
      "after yield count=10, step_candidat=3\n",
      "count=7\n",
      "after yield count=7, step_candidat=None\n",
      "count=4\n",
      "after yield count=4, step_candidat=None\n",
      "count=1\n",
      "after yield count=1, step_candidat=None\n",
      "StopIteration(-2)\n"
     ]
    }
   ],
   "source": [
    "def gen_step(count):\n",
    "    print(\"start\")\n",
    "    step = 1\n",
    "\n",
    "    while count > 0:\n",
    "        print(f\"{count=}\")\n",
    "        step_candidat = yield count\n",
    "        \n",
    "        if step_candidat is not None:\n",
    "            step = step_candidat\n",
    "            \n",
    "        print(f\"after yield {count=}, {step_candidat=}\")\n",
    "        count -= step\n",
    "\n",
    "    return count\n",
    "\n",
    "\n",
    "g = gen_step(10)\n",
    "next(g)\n",
    "g.send(3)\n",
    "next(g)\n",
    "next(g)\n",
    "\n",
    "try:\n",
    "    next(g)\n",
    "except StopIteration as err:\n",
    "    print(repr(err))"
   ]
  },
  {
   "cell_type": "code",
   "execution_count": null,
   "id": "abab09b4-a85f-4399-83b0-ca108d2e74aa",
   "metadata": {},
   "outputs": [],
   "source": []
  },
  {
   "cell_type": "code",
   "execution_count": null,
   "id": "850f5a74-6993-4ba8-a81b-bbafff1fa4fb",
   "metadata": {},
   "outputs": [],
   "source": []
  },
  {
   "cell_type": "code",
   "execution_count": null,
   "id": "0f943d1f-7897-4b9b-a837-2a9322e28568",
   "metadata": {},
   "outputs": [],
   "source": []
  },
  {
   "cell_type": "code",
   "execution_count": 13,
   "id": "5a6509de-4981-41da-86bc-a144d58f39c8",
   "metadata": {},
   "outputs": [
    {
     "data": {
      "text/plain": [
       "<range_iterator at 0x10db31f20>"
      ]
     },
     "execution_count": 13,
     "metadata": {},
     "output_type": "execute_result"
    }
   ],
   "source": [
    "iter(range(10)) "
   ]
  },
  {
   "cell_type": "code",
   "execution_count": 18,
   "id": "7d553924-8f30-4910-984a-2f79cb8f5aee",
   "metadata": {},
   "outputs": [
    {
     "name": "stdout",
     "output_type": "stream",
     "text": [
      "True\n",
      "[(0, 1), (2, 9), (4, 25), (6, 49), (8, 81)]\n"
     ]
    }
   ],
   "source": [
    "n = iter(range(10))\n",
    "n1 = iter(n)\n",
    "print(n is n1)\n",
    "\n",
    "result = list(\n",
    "    zip(\n",
    "        n,\n",
    "        map(lambda x: x ** 2, n)\n",
    "    )\n",
    ")\n",
    "print(result)"
   ]
  },
  {
   "cell_type": "code",
   "execution_count": 16,
   "id": "eac1cefc-735c-4541-b3f3-6390482b476d",
   "metadata": {},
   "outputs": [
    {
     "name": "stdout",
     "output_type": "stream",
     "text": [
      "[(0, 0), (1, 1), (2, 4), (3, 9), (4, 16), (5, 25), (6, 36), (7, 49), (8, 64), (9, 81)]\n"
     ]
    }
   ],
   "source": [
    "n = range(10)\n",
    "result = list(\n",
    "    zip(\n",
    "        n,\n",
    "        map(lambda x: x ** 2, n)\n",
    "    )\n",
    ")\n",
    "print(result)"
   ]
  },
  {
   "cell_type": "code",
   "execution_count": null,
   "id": "1653ea5c-42d9-4a1c-95f4-ee552729d360",
   "metadata": {},
   "outputs": [],
   "source": []
  },
  {
   "cell_type": "code",
   "execution_count": 21,
   "id": "55285e76-ef63-4b27-829c-012515c40613",
   "metadata": {},
   "outputs": [
    {
     "name": "stdout",
     "output_type": "stream",
     "text": [
      "True\n",
      "False\n"
     ]
    }
   ],
   "source": [
    "s = [1, 2, 3]\n",
    "s1 = s\n",
    "\n",
    "print(s is s1)\n",
    "\n",
    "s = 10\n",
    "\n",
    "print(s is s1)"
   ]
  },
  {
   "cell_type": "code",
   "execution_count": 23,
   "id": "1c69ba87-384f-4bef-9644-dd98b6fd8947",
   "metadata": {},
   "outputs": [
    {
     "data": {
      "text/plain": [
       "True"
      ]
     },
     "execution_count": 23,
     "metadata": {},
     "output_type": "execute_result"
    }
   ],
   "source": [
    "i1 = 10\n",
    "i2 = 10\n",
    "\n",
    "i1 is i2"
   ]
  },
  {
   "cell_type": "code",
   "execution_count": 24,
   "id": "ba32e0be-e63b-45ca-89b5-7936d6bc2503",
   "metadata": {},
   "outputs": [
    {
     "data": {
      "text/plain": [
       "False"
      ]
     },
     "execution_count": 24,
     "metadata": {},
     "output_type": "execute_result"
    }
   ],
   "source": [
    "i1 = 257\n",
    "i2 = 257\n",
    "\n",
    "i1 is i2"
   ]
  },
  {
   "cell_type": "code",
   "execution_count": 25,
   "id": "021e41c5-77a2-4a4b-b3de-de6d2f72bf26",
   "metadata": {},
   "outputs": [
    {
     "data": {
      "text/plain": [
       "True"
      ]
     },
     "execution_count": 25,
     "metadata": {},
     "output_type": "execute_result"
    }
   ],
   "source": [
    "x1 = \"q\" * 10\n",
    "x2 = \"q\" * 10\n",
    "\n",
    "x1 is x2"
   ]
  },
  {
   "cell_type": "code",
   "execution_count": 30,
   "id": "11491d08-901b-48b1-8b3f-c82e721a2977",
   "metadata": {},
   "outputs": [],
   "source": [
    "x1 = \"q\" * 10 + \"w\""
   ]
  },
  {
   "cell_type": "code",
   "execution_count": 29,
   "id": "0d0a33bb-b92f-4264-a457-21290d0d1731",
   "metadata": {},
   "outputs": [],
   "source": [
    "x2 = \"q\" * 10 + \"w\""
   ]
  },
  {
   "cell_type": "code",
   "execution_count": 31,
   "id": "095a1272-fa14-409d-afdb-c6d3bac94245",
   "metadata": {},
   "outputs": [
    {
     "data": {
      "text/plain": [
       "True"
      ]
     },
     "execution_count": 31,
     "metadata": {},
     "output_type": "execute_result"
    }
   ],
   "source": [
    "x1 is x2"
   ]
  },
  {
   "cell_type": "code",
   "execution_count": 32,
   "id": "ccd2f13a-3d2a-49b8-a3c8-ef73401f0661",
   "metadata": {},
   "outputs": [
    {
     "data": {
      "text/plain": [
       "False"
      ]
     },
     "execution_count": 32,
     "metadata": {},
     "output_type": "execute_result"
    }
   ],
   "source": [
    "x1 = \"q\" * 10 + \"?\"\n",
    "x2 = \"q\" * 10 + \"?\"\n",
    "\n",
    "x1 is x2"
   ]
  },
  {
   "cell_type": "code",
   "execution_count": null,
   "id": "029ad24f-22f5-489d-b8e6-ae777264cfeb",
   "metadata": {},
   "outputs": [],
   "source": []
  },
  {
   "cell_type": "code",
   "execution_count": null,
   "id": "591429e9-ec7c-40a9-ab61-03eb4b26dc08",
   "metadata": {},
   "outputs": [],
   "source": []
  },
  {
   "cell_type": "code",
   "execution_count": null,
   "id": "83fdd02b-0e00-429a-8c99-0be1645c567d",
   "metadata": {},
   "outputs": [],
   "source": []
  }
 ],
 "metadata": {
  "kernelspec": {
   "display_name": "Python 3 (ipykernel)",
   "language": "python",
   "name": "python3"
  },
  "language_info": {
   "codemirror_mode": {
    "name": "ipython",
    "version": 3
   },
   "file_extension": ".py",
   "mimetype": "text/x-python",
   "name": "python",
   "nbconvert_exporter": "python",
   "pygments_lexer": "ipython3",
   "version": "3.10.2"
  }
 },
 "nbformat": 4,
 "nbformat_minor": 5
}
