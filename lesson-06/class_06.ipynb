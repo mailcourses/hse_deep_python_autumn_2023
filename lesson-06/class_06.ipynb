{
 "cells": [
  {
   "cell_type": "code",
   "execution_count": 2,
   "id": "6a40ce5c",
   "metadata": {},
   "outputs": [],
   "source": [
    "import threading"
   ]
  },
  {
   "cell_type": "code",
   "execution_count": 3,
   "id": "f08df0fd",
   "metadata": {},
   "outputs": [
    {
     "data": {
      "text/plain": [
       "8"
      ]
     },
     "execution_count": 3,
     "metadata": {},
     "output_type": "execute_result"
    }
   ],
   "source": [
    "threading.active_count()"
   ]
  },
  {
   "cell_type": "code",
   "execution_count": 5,
   "id": "43b461ff",
   "metadata": {},
   "outputs": [
    {
     "data": {
      "text/plain": [
       "<_MainThread(MainThread, started 4576392704)>"
      ]
     },
     "execution_count": 5,
     "metadata": {},
     "output_type": "execute_result"
    }
   ],
   "source": [
    "threading.current_thread()"
   ]
  },
  {
   "cell_type": "code",
   "execution_count": 6,
   "id": "74f398b2",
   "metadata": {},
   "outputs": [
    {
     "data": {
      "text/plain": [
       "[<_MainThread(MainThread, started 4576392704)>,\n",
       " <Thread(IOPub, started daemon 123145551536128)>,\n",
       " <Heartbeat(Heartbeat, started daemon 123145568325632)>,\n",
       " <Thread(Thread-3 (_watch_pipe_fd), started daemon 123145586188288)>,\n",
       " <Thread(Thread-4 (_watch_pipe_fd), started daemon 123145602977792)>,\n",
       " <ControlThread(Control, started daemon 123145619767296)>,\n",
       " <HistorySavingThread(IPythonHistorySavingThread, started 123145636556800)>,\n",
       " <ParentPollerUnix(Thread-2, started daemon 123145653882880)>]"
      ]
     },
     "execution_count": 6,
     "metadata": {},
     "output_type": "execute_result"
    }
   ],
   "source": [
    "threading.enumerate()"
   ]
  },
  {
   "cell_type": "code",
   "execution_count": 7,
   "id": "8bd068c9",
   "metadata": {},
   "outputs": [
    {
     "data": {
      "text/plain": [
       "4576392704"
      ]
     },
     "execution_count": 7,
     "metadata": {},
     "output_type": "execute_result"
    }
   ],
   "source": [
    "threading.get_ident()"
   ]
  },
  {
   "cell_type": "code",
   "execution_count": 8,
   "id": "e0741bcb",
   "metadata": {},
   "outputs": [
    {
     "data": {
      "text/plain": [
       "20687762"
      ]
     },
     "execution_count": 8,
     "metadata": {},
     "output_type": "execute_result"
    }
   ],
   "source": [
    "threading.get_native_id()"
   ]
  },
  {
   "cell_type": "code",
   "execution_count": 11,
   "id": "ee68dde4",
   "metadata": {},
   "outputs": [
    {
     "data": {
      "text/plain": [
       "(<_MainThread(MainThread, started 4576392704)>,\n",
       " 4576392704,\n",
       " 'MainThread',\n",
       " False,\n",
       " 20687762)"
      ]
     },
     "execution_count": 11,
     "metadata": {},
     "output_type": "execute_result"
    }
   ],
   "source": [
    "main = threading.main_thread()\n",
    "main, main.ident, main.name, main.daemon, main.native_id"
   ]
  },
  {
   "cell_type": "code",
   "execution_count": 12,
   "id": "85bbb8d1",
   "metadata": {},
   "outputs": [
    {
     "data": {
      "text/plain": [
       "<_MainThread(MainThread, started 4576392704)>"
      ]
     },
     "execution_count": 12,
     "metadata": {},
     "output_type": "execute_result"
    }
   ],
   "source": [
    "threading.current_thread()"
   ]
  },
  {
   "cell_type": "code",
   "execution_count": null,
   "id": "902007d9",
   "metadata": {},
   "outputs": [],
   "source": [
    "threading.stack_size()"
   ]
  },
  {
   "cell_type": "code",
   "execution_count": null,
   "id": "a0ad4d98",
   "metadata": {},
   "outputs": [],
   "source": []
  },
  {
   "cell_type": "code",
   "execution_count": null,
   "id": "f82502ef",
   "metadata": {},
   "outputs": [],
   "source": []
  },
  {
   "cell_type": "code",
   "execution_count": 25,
   "id": "04e0a7cd",
   "metadata": {},
   "outputs": [
    {
     "name": "stdout",
     "output_type": "stream",
     "text": [
      "self.name='Thread-13', self.native_id=20886615, self.daemon=Falsebefore join\n",
      " True\n",
      "after sleep 10\n",
      "after sleep 9\n",
      "after sleep 8\n",
      "after sleep 7\n",
      "after sleep 6\n",
      "after sleep 5\n",
      "after sleep 4\n",
      "after sleep 3\n",
      "after sleep 2\n",
      "after sleep 1\n",
      "after sleep 0\n",
      "after join False\n"
     ]
    }
   ],
   "source": [
    "import time\n",
    "\n",
    "\n",
    "class DataProcessor(threading.Thread):\n",
    "    def __init__(self, n):\n",
    "        self.n = n\n",
    "        super().__init__()\n",
    "    \n",
    "    def run(self):\n",
    "        print(f\"{self.name=}, {self.native_id=}, {self.daemon=}\")\n",
    "\n",
    "        for i in range(self.n, -1, -1):\n",
    "            time.sleep(1)\n",
    "            print(\"after sleep\", i)\n",
    "\n",
    "\n",
    "proc = DataProcessor(10)\n",
    "proc.start()\n",
    "print(\"before join\", proc.is_alive())\n",
    "\n",
    "proc.join()\n",
    "print(\"after join\", proc.is_alive())"
   ]
  },
  {
   "cell_type": "code",
   "execution_count": null,
   "id": "f310b9a9",
   "metadata": {},
   "outputs": [],
   "source": []
  },
  {
   "cell_type": "code",
   "execution_count": 28,
   "id": "78ba3c26",
   "metadata": {},
   "outputs": [
    {
     "name": "stdout",
     "output_type": "stream",
     "text": [
      "CPU times: user 5.34 s, sys: 91.8 ms, total: 5.43 s\n",
      "Wall time: 6.37 s\n"
     ]
    }
   ],
   "source": [
    "%%time\n",
    "\n",
    "N = 10 ** 8\n",
    "\n",
    "\n",
    "def counter(a, b):\n",
    "    while a < b:\n",
    "        a += 1\n",
    "\n",
    "counter(0, N)"
   ]
  },
  {
   "cell_type": "code",
   "execution_count": 30,
   "id": "7f9bb079",
   "metadata": {},
   "outputs": [
    {
     "name": "stdout",
     "output_type": "stream",
     "text": [
      "CPU times: user 4.96 s, sys: 76.5 ms, total: 5.04 s\n",
      "Wall time: 5.92 s\n"
     ]
    }
   ],
   "source": [
    "%%time\n",
    "\n",
    "N = 10 ** 8\n",
    "\n",
    "\n",
    "def counter(a, b):\n",
    "    while a < b:\n",
    "        a += 1\n",
    "\n",
    "\n",
    "th = threading.Thread(target=counter, args=(0, N))\n",
    "th.start()\n",
    "th.join()"
   ]
  },
  {
   "cell_type": "code",
   "execution_count": 32,
   "id": "862f1177",
   "metadata": {},
   "outputs": [
    {
     "name": "stdout",
     "output_type": "stream",
     "text": [
      "THREAD: threading.current_thread().name='th_counter_0', a=0, b=10000000THREAD: threading.current_thread().name='th_counter_1', a=10000000, b=20000000\n",
      "\n",
      "THREAD: threading.current_thread().name='th_counter_2', a=20000000, b=30000000\n",
      "THREAD: threading.current_thread().name='th_counter_3', a=30000000, b=40000000\n",
      "THREAD: threading.current_thread().name='th_counter_4', a=40000000, b=50000000THREAD: threading.current_thread().name='th_counter_5', a=50000000, b=60000000\n",
      "\n",
      "THREAD: threading.current_thread().name='th_counter_6', a=60000000, b=70000000\n",
      "THREAD: threading.current_thread().name='th_counter_7', a=70000000, b=80000000\n",
      "THREAD: threading.current_thread().name='th_counter_8', a=80000000, b=90000000\n",
      "THREAD: threading.current_thread().name='th_counter_9', a=90000000, b=100000000\n",
      "CPU times: user 5.84 s, sys: 214 ms, total: 6.05 s\n",
      "Wall time: 6.6 s\n"
     ]
    }
   ],
   "source": [
    "%%time\n",
    "\n",
    "N = 10 ** 8\n",
    "N_THREADS = 10\n",
    "COUNT_SIZE = N // N_THREADS\n",
    "\n",
    "\n",
    "def counter(a, b):\n",
    "    print(f\"THREAD: {threading.current_thread().name=}, {a=}, {b=}\")\n",
    "    while a < b:\n",
    "        a += 1\n",
    "\n",
    "\n",
    "threads = [\n",
    "    threading.Thread(\n",
    "        target=counter,\n",
    "        args=(i * COUNT_SIZE, (i + 1)* COUNT_SIZE),\n",
    "        name=f\"th_counter_{i}\"\n",
    "    )\n",
    "    for i in range(N_THREADS)\n",
    "]\n",
    "\n",
    "for th in threads:\n",
    "    th.start()\n",
    "\n",
    "for th in threads:\n",
    "    th.join()"
   ]
  },
  {
   "cell_type": "code",
   "execution_count": null,
   "id": "dbcb1f00",
   "metadata": {},
   "outputs": [],
   "source": []
  },
  {
   "cell_type": "code",
   "execution_count": null,
   "id": "e067ce92",
   "metadata": {},
   "outputs": [],
   "source": []
  },
  {
   "cell_type": "code",
   "execution_count": 33,
   "id": "2c769cbc",
   "metadata": {},
   "outputs": [],
   "source": [
    "from urllib.request import urlopen"
   ]
  },
  {
   "cell_type": "code",
   "execution_count": 40,
   "id": "f568a6ef",
   "metadata": {},
   "outputs": [
    {
     "name": "stdout",
     "output_type": "stream",
     "text": [
      "CPU times: user 1.21 s, sys: 122 ms, total: 1.33 s\n",
      "Wall time: 20.1 s\n"
     ]
    }
   ],
   "source": [
    "%%time\n",
    "\n",
    "N = 100\n",
    "URL = \"https://ru.wikipedia.org/wiki/Python\"\n",
    "URLS = [URL] * N\n",
    "\n",
    "\n",
    "def fetch_url(url):\n",
    "    resp = urlopen(url)\n",
    "    return resp\n",
    "\n",
    "\n",
    "def fetch_batch_urls(urls):\n",
    "    for url in urls:\n",
    "        fetch_url(url)\n",
    "\n",
    "\n",
    "fetch_batch_urls(URLS)"
   ]
  },
  {
   "cell_type": "code",
   "execution_count": 42,
   "id": "6a73b73a",
   "metadata": {},
   "outputs": [
    {
     "name": "stdout",
     "output_type": "stream",
     "text": [
      "CPU times: user 1.08 s, sys: 110 ms, total: 1.19 s\n",
      "Wall time: 17.8 s\n"
     ]
    }
   ],
   "source": [
    "%%time\n",
    "\n",
    "N = 100\n",
    "URL = \"https://ru.wikipedia.org/wiki/Python\"\n",
    "URLS = [URL] * N\n",
    "\n",
    "\n",
    "def fetch_url(url):\n",
    "    resp = urlopen(url)\n",
    "    return resp\n",
    "\n",
    "\n",
    "def fetch_batch_urls(urls):\n",
    "    for url in urls:\n",
    "        fetch_url(url)\n",
    "\n",
    "\n",
    "th = threading.Thread(target=fetch_batch_urls, args=(URLS,))\n",
    "th.start()\n",
    "th.join()"
   ]
  },
  {
   "cell_type": "code",
   "execution_count": 46,
   "id": "59fb66be",
   "metadata": {},
   "outputs": [
    {
     "name": "stdout",
     "output_type": "stream",
     "text": [
      "th_counter_0, len(urls)=10\n",
      "th_counter_1, len(urls)=10th_counter_2, len(urls)=10\n",
      "\n",
      "th_counter_3, len(urls)=10\n",
      "th_counter_4, len(urls)=10\n",
      "th_counter_5, len(urls)=10\n",
      "th_counter_6, len(urls)=10th_counter_7, len(urls)=10\n",
      "th_counter_8, len(urls)=10\n",
      "\n",
      "th_counter_9, len(urls)=10\n",
      "CPU times: user 1.26 s, sys: 153 ms, total: 1.42 s\n",
      "Wall time: 2.56 s\n"
     ]
    }
   ],
   "source": [
    "%%time\n",
    "\n",
    "N = 100\n",
    "URL = \"https://ru.wikipedia.org/wiki/Python\"\n",
    "URLS = [URL] * N\n",
    "N_THREADS = 10\n",
    "COUNT_SIZE = N // N_THREADS\n",
    "\n",
    "\n",
    "def fetch_url(url):\n",
    "    resp = urlopen(url)\n",
    "    return resp\n",
    "\n",
    "\n",
    "def fetch_batch_urls(urls):\n",
    "    print(f\"{threading.current_thread().name}, {len(urls)=}\")\n",
    "    for url in urls:\n",
    "        fetch_url(url)\n",
    "\n",
    "\n",
    "threads = [\n",
    "    threading.Thread(\n",
    "        target=fetch_batch_urls,\n",
    "        args=(URLS[i * COUNT_SIZE : (i + 1) * COUNT_SIZE],),\n",
    "        name=f\"th_counter_{i}\"\n",
    "    )\n",
    "    for i in range(N_THREADS)\n",
    "]\n",
    "\n",
    "for th in threads:\n",
    "    th.start()\n",
    "\n",
    "for th in threads:\n",
    "    th.join()"
   ]
  },
  {
   "cell_type": "code",
   "execution_count": null,
   "id": "c3ad1b86",
   "metadata": {},
   "outputs": [],
   "source": []
  },
  {
   "cell_type": "code",
   "execution_count": null,
   "id": "9bdd20ef",
   "metadata": {},
   "outputs": [],
   "source": []
  },
  {
   "cell_type": "code",
   "execution_count": null,
   "id": "acb09ff9",
   "metadata": {},
   "outputs": [],
   "source": []
  },
  {
   "cell_type": "code",
   "execution_count": null,
   "id": "e6c474e9",
   "metadata": {},
   "outputs": [],
   "source": []
  },
  {
   "cell_type": "code",
   "execution_count": 49,
   "id": "b23977ad",
   "metadata": {},
   "outputs": [
    {
     "name": "stdout",
     "output_type": "stream",
     "text": [
      "[1000]\n",
      "CPU times: user 453 µs, sys: 291 µs, total: 744 µs\n",
      "Wall time: 544 µs\n"
     ]
    }
   ],
   "source": [
    "%%time\n",
    "\n",
    "count = [0]\n",
    "\n",
    "def count_operations(a, b):\n",
    "    for i in range(a, b):\n",
    "        count[0] += 1\n",
    "\n",
    "\n",
    "count_operations(0, 1000)\n",
    "print(count)"
   ]
  },
  {
   "cell_type": "code",
   "execution_count": 17,
   "id": "2075ffc8",
   "metadata": {},
   "outputs": [
    {
     "name": "stdout",
     "output_type": "stream",
     "text": [
      "CPU times: user 674 ms, sys: 18.8 ms, total: 693 ms\n",
      "Wall time: 752 ms\n"
     ]
    },
    {
     "data": {
      "text/plain": [
       "([610], False)"
      ]
     },
     "execution_count": 17,
     "metadata": {},
     "output_type": "execute_result"
    }
   ],
   "source": [
    "%%time\n",
    "\n",
    "N = 1_000\n",
    "N_THREADS = 50\n",
    "COUNT_SIZE = N // N_THREADS\n",
    "\n",
    "count = [0]\n",
    "\n",
    "\n",
    "def count_operations(a, b):\n",
    "    for i in range(a, b):\n",
    "        x = count[0]\n",
    "\n",
    "        y = x ** 10000\n",
    "        for _ in range(x):\n",
    "            a = y\n",
    "\n",
    "        count[0] = x + 1\n",
    "\n",
    "\n",
    "threads = [\n",
    "    threading.Thread(\n",
    "        target=count_operations,\n",
    "        args=(i * COUNT_SIZE, (i + 1) * COUNT_SIZE),\n",
    "        name=f\"th_counter_{i}\"\n",
    "    )\n",
    "    for i in range(N_THREADS)\n",
    "]\n",
    "\n",
    "for th in threads:\n",
    "    th.start()\n",
    "\n",
    "for th in threads:\n",
    "    th.join()\n",
    "\n",
    "\n",
    "count, count[0] == N"
   ]
  },
  {
   "cell_type": "code",
   "execution_count": 8,
   "id": "e3fde3e3",
   "metadata": {},
   "outputs": [],
   "source": [
    "import sys"
   ]
  },
  {
   "cell_type": "code",
   "execution_count": 12,
   "id": "a13fd7d3",
   "metadata": {},
   "outputs": [
    {
     "data": {
      "text/plain": [
       "9.999999999999999e-05"
      ]
     },
     "execution_count": 12,
     "metadata": {},
     "output_type": "execute_result"
    }
   ],
   "source": [
    "sys.getswitchinterval()"
   ]
  },
  {
   "cell_type": "code",
   "execution_count": 15,
   "id": "e2b13044",
   "metadata": {},
   "outputs": [],
   "source": [
    "sys.setswitchinterval(0.005)"
   ]
  },
  {
   "cell_type": "code",
   "execution_count": null,
   "id": "1ef72bea",
   "metadata": {},
   "outputs": [],
   "source": []
  },
  {
   "cell_type": "code",
   "execution_count": 20,
   "id": "b1fa4bfc",
   "metadata": {},
   "outputs": [
    {
     "name": "stdout",
     "output_type": "stream",
     "text": [
      "CPU times: user 717 ms, sys: 22 ms, total: 739 ms\n",
      "Wall time: 780 ms\n"
     ]
    },
    {
     "data": {
      "text/plain": [
       "([1000], True)"
      ]
     },
     "execution_count": 20,
     "metadata": {},
     "output_type": "execute_result"
    }
   ],
   "source": [
    "%%time\n",
    "\n",
    "N = 1_000\n",
    "N_THREADS = 50\n",
    "COUNT_SIZE = N // N_THREADS\n",
    "\n",
    "count = [0]\n",
    "lock = threading.Lock()\n",
    "\n",
    "\n",
    "def count_operations(a, b, lock):\n",
    "    for i in range(a, b):\n",
    "        lock.acquire()\n",
    "        \n",
    "        x = count[0]\n",
    "\n",
    "        y = x ** 10000\n",
    "        for _ in range(x):\n",
    "            a = y\n",
    "\n",
    "        count[0] = x + 1\n",
    "        # raise ValueError()\n",
    "        \n",
    "        lock.release()\n",
    "\n",
    "\n",
    "threads = [\n",
    "    threading.Thread(\n",
    "        target=count_operations,\n",
    "        args=(i * COUNT_SIZE, (i + 1) * COUNT_SIZE, lock),\n",
    "        name=f\"th_counter_{i}\"\n",
    "    )\n",
    "    for i in range(N_THREADS)\n",
    "]\n",
    "\n",
    "for th in threads:\n",
    "    th.start()\n",
    "\n",
    "for th in threads:\n",
    "    th.join()\n",
    "\n",
    "\n",
    "count, count[0] == N"
   ]
  },
  {
   "cell_type": "code",
   "execution_count": null,
   "id": "820722b9",
   "metadata": {},
   "outputs": [],
   "source": []
  },
  {
   "cell_type": "code",
   "execution_count": null,
   "id": "de32b949",
   "metadata": {},
   "outputs": [],
   "source": []
  },
  {
   "cell_type": "code",
   "execution_count": 22,
   "id": "2ca17377",
   "metadata": {},
   "outputs": [],
   "source": [
    "from urllib.request import urlopen"
   ]
  },
  {
   "cell_type": "code",
   "execution_count": 26,
   "id": "6bf279a7",
   "metadata": {},
   "outputs": [
    {
     "name": "stdout",
     "output_type": "stream",
     "text": [
      "th_counter_0, len(urls)=10\n",
      "th_counter_1, len(urls)=10\n",
      "th_counter_2, len(urls)=10\n",
      "th_counter_3, len(urls)=10\n",
      "th_counter_4, len(urls)=10\n",
      "th_counter_5, len(urls)=10\n",
      "th_counter_6, len(urls)=10\n",
      "th_counter_7, len(urls)=10\n",
      "th_counter_8, len(urls)=10\n",
      "th_counter_9, len(urls)=10\n",
      "CPU times: user 1.21 s, sys: 149 ms, total: 1.36 s\n",
      "Wall time: 6.94 s\n"
     ]
    }
   ],
   "source": [
    "%%time\n",
    "\n",
    "N = 100\n",
    "URL = \"https://ru.wikipedia.org/wiki/Python\"\n",
    "URLS = [URL] * N\n",
    "N_THREADS = 10\n",
    "COUNT_SIZE = N // N_THREADS\n",
    "\n",
    "sema = threading.Semaphore(4)\n",
    "\n",
    "\n",
    "def fetch_url(url, sema):\n",
    "    with sema:\n",
    "        resp = urlopen(url)\n",
    "    return resp\n",
    "\n",
    "\n",
    "def fetch_batch_urls(urls, sema):\n",
    "    print(f\"{threading.current_thread().name}, {len(urls)=}\")\n",
    "\n",
    "    for url in urls:\n",
    "        fetch_url(url, sema)\n",
    "\n",
    "\n",
    "threads = [\n",
    "    threading.Thread(\n",
    "        target=fetch_batch_urls,\n",
    "        args=(URLS[i * COUNT_SIZE : (i + 1) * COUNT_SIZE], sema),\n",
    "        name=f\"th_counter_{i}\"\n",
    "    )\n",
    "    for i in range(N_THREADS)\n",
    "]\n",
    "\n",
    "for th in threads:\n",
    "    th.start()\n",
    "\n",
    "for th in threads:\n",
    "    th.join()"
   ]
  },
  {
   "cell_type": "code",
   "execution_count": null,
   "id": "0e3af652",
   "metadata": {},
   "outputs": [],
   "source": []
  },
  {
   "cell_type": "code",
   "execution_count": null,
   "id": "961901a3",
   "metadata": {},
   "outputs": [],
   "source": []
  },
  {
   "cell_type": "code",
   "execution_count": 27,
   "id": "ec84226e",
   "metadata": {},
   "outputs": [],
   "source": [
    "import queue"
   ]
  },
  {
   "cell_type": "code",
   "execution_count": 33,
   "id": "bf5c8ca7",
   "metadata": {},
   "outputs": [
    {
     "name": "stdout",
     "output_type": "stream",
     "text": [
      "stop fetch_url_worker threading.current_thread().name='th_counter_4', cnt=9\n",
      "stop fetch_url_worker threading.current_thread().name='th_counter_1', cnt=10\n",
      "stop fetch_url_worker threading.current_thread().name='th_counter_8', cnt=10\n",
      "stop fetch_url_worker threading.current_thread().name='th_counter_9', cnt=10\n",
      "stop fetch_url_worker threading.current_thread().name='th_counter_2', cnt=10\n",
      "stop fetch_url_worker threading.current_thread().name='th_counter_7', cnt=10stop fetch_url_worker threading.current_thread().name='th_counter_6', cnt=10\n",
      "\n",
      "stop fetch_url_worker threading.current_thread().name='th_counter_3', cnt=10stop fetch_url_worker threading.current_thread().name='th_counter_5', cnt=11\n",
      "\n",
      "stop fetch_url_worker threading.current_thread().name='th_counter_0', cnt=10\n",
      "CPU times: user 1.14 s, sys: 139 ms, total: 1.28 s\n",
      "Wall time: 2.73 s\n"
     ]
    }
   ],
   "source": [
    "%%time\n",
    "\n",
    "N = 100\n",
    "URL = \"https://ru.wikipedia.org/wiki/Python\"\n",
    "URLS = [URL] * N\n",
    "N_THREADS = 10\n",
    "COUNT_SIZE = N // N_THREADS\n",
    "\n",
    "que = queue.Queue()\n",
    "\n",
    "\n",
    "def fetch_url_worker(que):\n",
    "    cnt = 0\n",
    "    while True:\n",
    "        url = que.get()\n",
    "        if url is None:\n",
    "            que.put(url)\n",
    "            print(f\"stop fetch_url_worker {threading.current_thread().name=}, {cnt=}\")\n",
    "            break\n",
    "\n",
    "        cnt += 1\n",
    "        resp = urlopen(url)\n",
    "\n",
    "\n",
    "threads = [\n",
    "    threading.Thread(\n",
    "        target=fetch_url_worker,\n",
    "        args=(que,),\n",
    "        name=f\"th_counter_{i}\"\n",
    "    )\n",
    "    for i in range(N_THREADS)\n",
    "]\n",
    "\n",
    "for th in threads:\n",
    "    th.start()\n",
    "\n",
    "for url in URLS:\n",
    "    que.put(url)\n",
    "\n",
    "que.put(None)\n",
    "\n",
    "for th in threads:\n",
    "    th.join()"
   ]
  },
  {
   "cell_type": "code",
   "execution_count": null,
   "id": "0db8948a",
   "metadata": {},
   "outputs": [],
   "source": []
  }
 ],
 "metadata": {
  "kernelspec": {
   "display_name": "Python 3 (ipykernel)",
   "language": "python",
   "name": "python3"
  },
  "language_info": {
   "codemirror_mode": {
    "name": "ipython",
    "version": 3
   },
   "file_extension": ".py",
   "mimetype": "text/x-python",
   "name": "python",
   "nbconvert_exporter": "python",
   "pygments_lexer": "ipython3",
   "version": "3.10.2"
  }
 },
 "nbformat": 4,
 "nbformat_minor": 5
}
